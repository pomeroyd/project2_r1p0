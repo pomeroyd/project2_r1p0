{
 "cells": [
  {
   "cell_type": "markdown",
   "metadata": {},
   "source": [
    "# Self-Driving Car Engineer Nanodegree\n",
    "\n",
    "## Deep Learning\n",
    "\n",
    "## Project: Build a Traffic Sign Recognition Classifier\n",
    "\n",
    "In this notebook, a template is provided for you to implement your functionality in stages, which is required to successfully complete this project. If additional code is required that cannot be included in the notebook, be sure that the Python code is successfully imported and included in your submission if necessary. \n",
    "\n",
    "> **Note**: Once you have completed all of the code implementations, you need to finalize your work by exporting the iPython Notebook as an HTML document. Before exporting the notebook to html, all of the code cells need to have been run so that reviewers can see the final implementation and output. You can then export the notebook by using the menu above and navigating to  \\n\",\n",
    "    \"**File -> Download as -> HTML (.html)**. Include the finished document along with this notebook as your submission. \n",
    "\n",
    "In addition to implementing code, there is a writeup to complete. The writeup should be completed in a separate file, which can be either a markdown file or a pdf document. There is a [write up template](https://github.com/udacity/CarND-Traffic-Sign-Classifier-Project/blob/master/writeup_template.md) that can be used to guide the writing process. Completing the code template and writeup template will cover all of the [rubric points](https://review.udacity.com/#!/rubrics/481/view) for this project.\n",
    "\n",
    "The [rubric](https://review.udacity.com/#!/rubrics/481/view) contains \"Stand Out Suggestions\" for enhancing the project beyond the minimum requirements. The stand out suggestions are optional. If you decide to pursue the \"stand out suggestions\", you can include the code in this Ipython notebook and also discuss the results in the writeup file.\n",
    "\n",
    "\n",
    ">**Note:** Code and Markdown cells can be executed using the **Shift + Enter** keyboard shortcut. In addition, Markdown cells can be edited by typically double-clicking the cell to enter edit mode."
   ]
  },
  {
   "cell_type": "markdown",
   "metadata": {},
   "source": [
    "---\n",
    "## Step 0: Load The Data"
   ]
  },
  {
   "cell_type": "code",
   "execution_count": 1,
   "metadata": {},
   "outputs": [],
   "source": [
    "import matplotlib.pyplot as plt\n",
    "import tensorflow as tf\n",
    "import numpy as np\n",
    "from sklearn.metrics import confusion_matrix\n",
    "import time\n",
    "from datetime import timedelta\n",
    "import math\n",
    "import matplotlib.image as mpimg\n",
    "import cv2\n",
    "from IPython.display import Image"
   ]
  },
  {
   "cell_type": "code",
   "execution_count": 2,
   "metadata": {},
   "outputs": [],
   "source": [
    "# Load pickled data\n",
    "import pickle\n",
    "\n",
    "# TODO: Fill this in based on where you saved the training and testing data\n",
    "\n",
    "training_file = \"train.p\"\n",
    "validation_file= \"valid.p\"\n",
    "testing_file = \"test.p\"\n",
    "\n",
    "with open(training_file, mode='rb') as f:\n",
    "    train = pickle.load(f)\n",
    "with open(validation_file, mode='rb') as f:\n",
    "    valid = pickle.load(f)\n",
    "with open(testing_file, mode='rb') as f:\n",
    "    test = pickle.load(f)\n",
    "    \n",
    "X_train, y_train = train['features'], train['labels']\n",
    "X_valid, y_valid = valid['features'], valid['labels']\n",
    "X_test, y_test = test['features'], test['labels']"
   ]
  },
  {
   "cell_type": "markdown",
   "metadata": {},
   "source": [
    "---\n",
    "\n",
    "## Step 1: Dataset Summary & Exploration\n",
    "\n",
    "The pickled data is a dictionary with 4 key/value pairs:\n",
    "\n",
    "- `'features'` is a 4D array containing raw pixel data of the traffic sign images, (num examples, width, height, channels).\n",
    "- `'labels'` is a 1D array containing the label/class id of the traffic sign. The file `signnames.csv` contains id -> name mappings for each id.\n",
    "- `'sizes'` is a list containing tuples, (width, height) representing the original width and height the image.\n",
    "- `'coords'` is a list containing tuples, (x1, y1, x2, y2) representing coordinates of a bounding box around the sign in the image. **THESE COORDINATES ASSUME THE ORIGINAL IMAGE. THE PICKLED DATA CONTAINS RESIZED VERSIONS (32 by 32) OF THESE IMAGES**\n",
    "\n",
    "Complete the basic data summary below. Use python, numpy and/or pandas methods to calculate the data summary rather than hard coding the results. For example, the [pandas shape method](http://pandas.pydata.org/pandas-docs/stable/generated/pandas.DataFrame.shape.html) might be useful for calculating some of the summary results. "
   ]
  },
  {
   "cell_type": "markdown",
   "metadata": {},
   "source": [
    "### Provide a Basic Summary of the Data Set Using Python, Numpy and/or Pandas"
   ]
  },
  {
   "cell_type": "code",
   "execution_count": 3,
   "metadata": {},
   "outputs": [
    {
     "name": "stdout",
     "output_type": "stream",
     "text": [
      "Number of training examples = 34800\n",
      "Number of testing examples = 4411\n",
      "Number of testing examples = 12631\n",
      "Image data shape = 32\n",
      "Number of classes = 43\n",
      "(34799, 32, 32, 3)\n",
      "(4410, 32, 32, 3)\n",
      "(12630, 32, 32, 3)\n"
     ]
    }
   ],
   "source": [
    "### Replace each question mark with the appropriate value. \n",
    "### Use python, pandas or numpy methods rather than hard coding the results\n",
    "\n",
    "# TODO: Number of training examples\n",
    "n_train = X_train.shape[0]+1\n",
    "\n",
    "# TODO: Number of validation examples\n",
    "n_validation = X_valid.shape[0]+1\n",
    "\n",
    "# TODO: Number of testing examples.\n",
    "n_test = X_test.shape[0]+1\n",
    "\n",
    "# TODO: What's the shape of an traffic sign image?\n",
    "image_shape = X_train.shape[1]\n",
    "\n",
    "# TODO: How many unique classes/labels there are in the dataset.\n",
    "n_classes = len(set(train['labels']))\n",
    "\n",
    "print(\"Number of training examples =\", n_train)\n",
    "print(\"Number of testing examples =\", n_validation)\n",
    "print(\"Number of testing examples =\", n_test)\n",
    "print(\"Image data shape =\", image_shape)\n",
    "print(\"Number of classes =\", n_classes)\n",
    "\n",
    "print (X_train.shape)\n",
    "print (X_valid.shape)\n",
    "print (X_test.shape)"
   ]
  },
  {
   "cell_type": "code",
   "execution_count": null,
   "metadata": {
    "collapsed": true
   },
   "outputs": [],
   "source": [
    "x = np.array([[1,2,3,4],[9,8,7,6],[10,11,12,13],[20,21,22,23]])\n",
    "print(x)\n",
    "print(x.shape)\n",
    "y = np.expand_dims(x, axis=2)\n",
    "print(y)\n",
    "print(y.shape)"
   ]
  },
  {
   "cell_type": "code",
   "execution_count": null,
   "metadata": {
    "collapsed": true
   },
   "outputs": [],
   "source": [
    "import cv2\n",
    "\n",
    "print(range(0,X_train.shape[0]))\n",
    "print(X_train.shape[0])\n",
    "image = X_train[0]\n",
    "print (image.shape)\n",
    "gray_image = cv2.cvtColor(image, cv2.COLOR_BGR2GRAY)\n",
    "print(gray_image.shape)\n",
    "gray_image_32x32x1 = np.expand_dims(gray_image, axis=2)\n",
    "\n",
    "print(gray_image_32x32x1.shape)"
   ]
  },
  {
   "cell_type": "code",
   "execution_count": null,
   "metadata": {
    "collapsed": true
   },
   "outputs": [],
   "source": [
    "#Decided not to use grayscale \n",
    "\n",
    "import cv2\n",
    "\n",
    "def rbg_to_gray(array):\n",
    "    \n",
    "        #fs for features\n",
    "\n",
    "        fs = []\n",
    "\n",
    "        for i in range(0,array.shape[0]):\n",
    "\n",
    "            image = array[i]\n",
    "\n",
    "            gray_image = cv2.cvtColor(image, cv2.COLOR_BGR2GRAY)\n",
    "            gray_image_32x32x1 = np.expand_dims(gray_image, axis=2)\n",
    "\n",
    "            fs.append(gray_image_32x32x1)\n",
    "            \n",
    "        return np.array(fs)\n",
    "\n",
    "\n",
    "#X_train = rbg_to_gray(X_train)\n",
    "\n",
    "#X_valid = rbg_to_gray(X_valid)\n",
    "\n",
    "\n",
    "#X_test = rbg_to_gray(X_test)\n",
    "\n",
    "#this is for testing 5 images later\n",
    "#my_test_X =rbg_to_gray(my_test_X)\n",
    "\n",
    "print (X_train.shape)\n",
    "print (X_valid.shape)\n",
    "print (X_test.shape)"
   ]
  },
  {
   "cell_type": "markdown",
   "metadata": {},
   "source": [
    "### Include an exploratory visualization of the dataset"
   ]
  },
  {
   "cell_type": "markdown",
   "metadata": {},
   "source": [
    "Visualize the German Traffic Signs Dataset using the pickled file(s). This is open ended, suggestions include: plotting traffic sign images, plotting the count of each sign, etc. \n",
    "\n",
    "The [Matplotlib](http://matplotlib.org/) [examples](http://matplotlib.org/examples/index.html) and [gallery](http://matplotlib.org/gallery.html) pages are a great resource for doing visualizations in Python.\n",
    "\n",
    "**NOTE:** It's recommended you start with something simple first. If you wish to do more, come back to it after you've completed the rest of the sections. It can be interesting to look at the distribution of classes in the training, validation and test set. Is the distribution the same? Are there more examples of some classes than others?"
   ]
  },
  {
   "cell_type": "code",
   "execution_count": 18,
   "metadata": {},
   "outputs": [
    {
     "name": "stdout",
     "output_type": "stream",
     "text": [
      "image label =  26\n"
     ]
    },
    {
     "data": {
      "image/png": "[encoded data removed]",
      "text/plain": [
       "<matplotlib.figure.Figure at 0x7f79ccda5f98>"
      ]
     },
     "metadata": {},
     "output_type": "display_data"
    }
   ],
   "source": [
    "### Data exploration visualization code goes here.\n",
    "### Feel free to use as many code cells as needed.\n",
    "import matplotlib.pyplot as plt\n",
    "# Visualizations will be shown in the notebook.\n",
    "\n",
    "%matplotlib inline\n",
    "\n",
    "import random\n",
    "import numpy as np\n",
    "import matplotlib.pyplot as plt\n",
    "%matplotlib inline\n",
    "\n",
    "index = random.randint(0, len(X_train))\n",
    "image = X_train[index].squeeze()\n",
    "\n",
    "plt.figure(figsize=(5,5))\n",
    "plt.imshow(image)\n",
    "\n",
    "print(\"image label = \",y_train[index])"
   ]
  },
  {
   "cell_type": "code",
   "execution_count": 10,
   "metadata": {},
   "outputs": [
    {
     "name": "stdout",
     "output_type": "stream",
     "text": [
      "[[[ 98  89 106]\n",
      "  [ 94  88 102]\n",
      "  [ 94  91 105]\n",
      "  ..., \n",
      "  [ 76  81  92]\n",
      "  [ 82  85  87]\n",
      "  [ 81  80  75]]\n",
      "\n",
      " [[ 98  91 104]\n",
      "  [103  92 103]\n",
      "  [103  95 107]\n",
      "  ..., \n",
      "  [ 75  77  77]\n",
      "  [ 78  78  75]\n",
      "  [ 80  79  71]]\n",
      "\n",
      " [[ 99  91 107]\n",
      "  [108  94 109]\n",
      "  [109 100 110]\n",
      "  ..., \n",
      "  [ 76  75  78]\n",
      "  [ 76  75  75]\n",
      "  [ 80  76  72]]\n",
      "\n",
      " ..., \n",
      " [[ 35  30  37]\n",
      "  [ 40  34  39]\n",
      "  [ 36  31  39]\n",
      "  ..., \n",
      "  [ 41  46  67]\n",
      "  [ 55  62  83]\n",
      "  [ 54  56  66]]\n",
      "\n",
      " [[ 36  31  36]\n",
      "  [ 36  31  36]\n",
      "  [ 34  29  38]\n",
      "  ..., \n",
      "  [ 52  57  73]\n",
      "  [ 62  65  81]\n",
      "  [ 60  60  66]]\n",
      "\n",
      " [[ 40  35  39]\n",
      "  [ 34  29  34]\n",
      "  [ 33  28  35]\n",
      "  ..., \n",
      "  [ 64  65  78]\n",
      "  [ 62  60  70]\n",
      "  [ 55  51  53]]]\n",
      "uint8\n",
      "[  98.   89.  106. ...,   55.   51.   53.]\n",
      "float32\n"
     ]
    }
   ],
   "source": [
    "print(image)\n",
    "print(image.dtype)\n",
    "\n",
    "f = np.array(image, dtype=np.float32).flatten()\n",
    "print(f)\n",
    "print(f.dtype)"
   ]
  },
  {
   "cell_type": "code",
   "execution_count": 31,
   "metadata": {},
   "outputs": [
    {
     "name": "stdout",
     "output_type": "stream",
     "text": [
      "[41 41 41 ..., 25 25 25]\n",
      "[180, 1980, 2010, 1260, 1770, 1650, 360, 1290, 1260, 1320, 1800, 1170, 1890, 1920, 690, 540, 360, 990, 1080, 180, 300, 270, 330, 450, 240, 1350, 540, 210, 480, 240, 390, 690, 210, 599, 360, 1080, 330, 180, 1860, 270, 300, 210, 210]\n",
      "\n",
      "[ 180 1980 2010 1260 1770 1650  360 1290 1260 1320 1800 1170 1890 1920  690\n",
      "  540  360  990 1080  180  300  270  330  450  240 1350  540  210  480  240\n",
      "  390  690  210  599  360 1080  330  180 1860  270  300  210  210]\n",
      "new array\n",
      "(34799, 32, 32, 3)\n",
      "(32, 32, 3)\n"
     ]
    },
    {
     "data": {
      "image/png": "[encoded data removed]",
      "text/plain": [
       "<matplotlib.figure.Figure at 0x7f79cc9744a8>"
      ]
     },
     "metadata": {},
     "output_type": "display_data"
    }
   ],
   "source": [
    "print(y_train)\n",
    "hist = []\n",
    "for i in range(43):\n",
    "    hist.append(np.sum(y_train == i))\n",
    "    \n",
    "plt.bar(range(43), hist)\n",
    "#print(y_train[1])\n",
    "print(hist)\n",
    "print()\n",
    "print(np.bincount(y_train))\n",
    "\n",
    "print(\"new array\")\n",
    "\n",
    "print(X_train.shape)\n",
    "new_features = np.zeros_like(X_train)\n",
    "print(new_features[0].shape)"
   ]
  },
  {
   "cell_type": "code",
   "execution_count": 45,
   "metadata": {},
   "outputs": [
    {
     "name": "stdout",
     "output_type": "stream",
     "text": [
      "[ 180 1980 2010 1260 1770 1650  360 1290 1260 1320 1800 1170 1890 1920  690\n",
      "  540  360  990 1080  180  300  270  330  450  240 1350  540  210  480  240\n",
      "  390  690  210  599  360 1080  330  180 1860  270  300  210  210]\n",
      "180\n",
      "add this number of new images =  [1830   30    0  750  240  360 1650  720  750  690  210  840  120   90 1320\n",
      " 1470 1650 1020  930 1830 1710 1740 1680 1560 1770  660 1470 1800 1530 1770\n",
      " 1620 1320 1800 1411 1650  930 1680 1830  150 1740 1710 1800 1800]\n",
      "sum =  51631\n",
      "count =  180\n"
     ]
    }
   ],
   "source": [
    "print(np.bincount(y_train))\n",
    "print(np.bincount(y_train)[0])\n",
    "inputs_per_class = np.bincount(y_train)\n",
    "max_inputs = np.max(inputs_per_class)\n",
    "diff_per_class= max_inputs -inputs_per_class\n",
    "print(\"add this number of new images = \", diff_per_class)\n",
    "print(\"sum = \",sum(diff_per_class))\n",
    "count=0\n",
    "for i in range(len(y_train)):\n",
    "    if(y_train[i] ==0):\n",
    "        count= count+1\n",
    "\n",
    "print(\"count = \",count)"
   ]
  },
  {
   "cell_type": "code",
   "execution_count": 35,
   "metadata": {},
   "outputs": [
    {
     "name": "stdout",
     "output_type": "stream",
     "text": [
      "Generating additional data...\n",
      "Done\n",
      "(34799, 32, 32, 3)\n",
      "(34799, 32, 32, 3)\n"
     ]
    }
   ],
   "source": [
    "import scipy.ndimage\n",
    "\n",
    "inputs_per_class = np.bincount(y_train)\n",
    "max_inputs = np.max(inputs_per_class)\n",
    "\n",
    "print('Generating additional data...')\n",
    "angles = [-5, 5, -10, 10, -15, 15, -20, 20]\n",
    "\n",
    "for i in range(len(inputs_per_class)):\n",
    "    input_ratio = min(int(max_inputs / inputs_per_class[i]) - 1, len(angles) - 1)\n",
    "\n",
    "    if input_ratio <= 1:\n",
    "        continue\n",
    "\n",
    "    new_features = np.zeros_like(X_train)\n",
    "    new_labels = np.zeros_like(y_train)\n",
    "    mask = np.where(y_train == i)\n",
    "\n",
    "    for j in range(input_ratio):\n",
    "        for feature in X_train[mask]:\n",
    "            new_features[feature]=(scipy.ndimage.rotate(feature, angles[j], reshape=False))\n",
    "            new_labels[i] =i\n",
    "print(\"Done\")\n",
    "print(X_train.shape)\n",
    "print(new_features.shape)"
   ]
  },
  {
   "cell_type": "code",
   "execution_count": 27,
   "metadata": {},
   "outputs": [
    {
     "name": "stdout",
     "output_type": "stream",
     "text": [
      "(34799, 32, 32, 3)\n"
     ]
    },
    {
     "ename": "AttributeError",
     "evalue": "'list' object has no attribute 'shape'",
     "output_type": "error",
     "traceback": [
      "\u001b[0;31m---------------------------------------------------------------------------\u001b[0m",
      "\u001b[0;31mAttributeError\u001b[0m                            Traceback (most recent call last)",
      "\u001b[0;32m<ipython-input-27-b1cbca029b5d>\u001b[0m in \u001b[0;36m<module>\u001b[0;34m()\u001b[0m\n\u001b[1;32m     14\u001b[0m \u001b[0;34m\u001b[0m\u001b[0m\n\u001b[1;32m     15\u001b[0m \u001b[0mprint\u001b[0m\u001b[0;34m(\u001b[0m\u001b[0mX_train\u001b[0m\u001b[0;34m.\u001b[0m\u001b[0mshape\u001b[0m\u001b[0;34m)\u001b[0m\u001b[0;34m\u001b[0m\u001b[0m\n\u001b[0;32m---> 16\u001b[0;31m \u001b[0mprint\u001b[0m\u001b[0;34m(\u001b[0m\u001b[0mnew_features\u001b[0m\u001b[0;34m.\u001b[0m\u001b[0mshape\u001b[0m\u001b[0;34m)\u001b[0m\u001b[0;34m\u001b[0m\u001b[0m\n\u001b[0m",
      "\u001b[0;31mAttributeError\u001b[0m: 'list' object has no attribute 'shape'"
     ]
    },
    {
     "data": {
      "image/png": "[encoded data removed]",
      "text/plain": [
       "<matplotlib.figure.Figure at 0x7f79cd497b70>"
      ]
     },
     "metadata": {},
     "output_type": "display_data"
    }
   ],
   "source": [
    "#print(\"new shape = \", new_features)\n",
    "image_rotate = scipy.ndimage.rotate(image, angles[2], reshape=False)\n",
    "\n",
    "fig, axs = plt.subplots(1,2, figsize=(10, 3))\n",
    "axs = axs.ravel()\n",
    "\n",
    "axs[0].axis('off')\n",
    "axs[0].set_title('rotated')\n",
    "axs[0].imshow(image)\n",
    "\n",
    "axs[1].axis('off')\n",
    "axs[1].set_title('original')\n",
    "axs[1].imshow(image_rotate)\n",
    "\n",
    "print(X_train.shape)\n",
    "print(new_features.shape)\n"
   ]
  },
  {
   "cell_type": "code",
   "execution_count": null,
   "metadata": {},
   "outputs": [],
   "source": [
    "image_bright = "
   ]
  },
  {
   "cell_type": "markdown",
   "metadata": {},
   "source": [
    "----\n",
    "\n",
    "## Step 2: Design and Test a Model Architecture\n",
    "\n",
    "Design and implement a deep learning model that learns to recognize traffic signs. Train and test your model on the [German Traffic Sign Dataset](http://benchmark.ini.rub.de/?section=gtsrb&subsection=dataset).\n",
    "\n",
    "The LeNet-5 implementation shown in the [classroom](https://classroom.udacity.com/nanodegrees/nd013/parts/fbf77062-5703-404e-b60c-95b78b2f3f9e/modules/6df7ae49-c61c-4bb2-a23e-6527e69209ec/lessons/601ae704-1035-4287-8b11-e2c2716217ad/concepts/d4aca031-508f-4e0b-b493-e7b706120f81) at the end of the CNN lesson is a solid starting point. You'll have to change the number of classes and possibly the preprocessing, but aside from that it's plug and play! \n",
    "\n",
    "With the LeNet-5 solution from the lecture, you should expect a validation set accuracy of about 0.89. To meet specifications, the validation set accuracy will need to be at least 0.93. It is possible to get an even higher accuracy, but 0.93 is the minimum for a successful project submission. \n",
    "\n",
    "There are various aspects to consider when thinking about this problem:\n",
    "\n",
    "- Neural network architecture (is the network over or underfitting?)\n",
    "- Play around preprocessing techniques (normalization, rgb to grayscale, etc)\n",
    "- Number of examples per label (some have more than others).\n",
    "- Generate fake data.\n",
    "\n",
    "Here is an example of a [published baseline model on this problem](http://yann.lecun.com/exdb/publis/pdf/sermanet-ijcnn-11.pdf). It's not required to be familiar with the approach used in the paper but, it's good practice to try to read papers like these."
   ]
  },
  {
   "cell_type": "markdown",
   "metadata": {},
   "source": [
    "### Pre-process the Data Set (normalization, grayscale, etc.)"
   ]
  },
  {
   "cell_type": "markdown",
   "metadata": {},
   "source": [
    "Minimally, the image data should be normalized so that the data has mean zero and equal variance. For image data, `(pixel - 128)/ 128` is a quick way to approximately normalize the data and can be used in this project. \n",
    "\n",
    "Other pre-processing steps are optional. You can try different techniques to see if it improves performance. \n",
    "\n",
    "Use the code cell (or multiple code cells, if necessary) to implement the first step of your project."
   ]
  },
  {
   "cell_type": "code",
   "execution_count": 6,
   "metadata": {},
   "outputs": [
    {
     "name": "stdout",
     "output_type": "stream",
     "text": [
      "(34799, 32, 32, 3) uint8\n",
      "(34799, 32, 32, 3) float32\n",
      "finished preprocessing the data\n"
     ]
    }
   ],
   "source": [
    "### Preprocess the data here. It is required to normalize the data. Other preprocessing steps could include \n",
    "### converting to grayscale, etc.\n",
    "### Feel free to use as many code cells as needed.\n",
    "\n",
    "\n",
    "#Pre Process the data by shuffling\n",
    "from sklearn.utils import shuffle\n",
    "\n",
    "X_train, y_train = shuffle(X_train, y_train)\n",
    "print(X_train.shape, X_train.dtype)\n",
    "X_train = X_train.astype(np.float32)\n",
    "X_valid = X_valid.astype(np.float32)\n",
    "X_test = X_test.astype(np.float32)\n",
    "\n",
    "print(X_train.shape, X_train.dtype)\n",
    "\n",
    "print(\"finished preprocessing the data\")\n",
    "\n",
    "#Define the model architecture.\n",
    "#Starting with LeNet\n",
    "\n",
    "\n",
    "#Setup Tensorflow \n",
    "\n",
    "import tensorflow as tf\n",
    "\n",
    "EPOCHS = 50\n",
    "BATCH_SIZE = 100\n",
    "#batch size prviously 128"
   ]
  },
  {
   "cell_type": "code",
   "execution_count": 7,
   "metadata": {},
   "outputs": [
    {
     "name": "stdout",
     "output_type": "stream",
     "text": [
      "(34799, 32, 32, 3) float32\n",
      "[[[  46.   49.   45.]\n",
      "  [  66.   68.   58.]\n",
      "  [  83.   78.   68.]\n",
      "  ..., \n",
      "  [  74.   68.   58.]\n",
      "  [  77.   68.   59.]\n",
      "  [  73.   62.   52.]]\n",
      "\n",
      " [[  45.   47.   44.]\n",
      "  [  64.   60.   54.]\n",
      "  [  73.   68.   61.]\n",
      "  ..., \n",
      "  [  69.   62.   52.]\n",
      "  [  70.   65.   56.]\n",
      "  [  66.   58.   50.]]\n",
      "\n",
      " [[  41.   43.   41.]\n",
      "  [  56.   56.   52.]\n",
      "  [  67.   63.   60.]\n",
      "  ..., \n",
      "  [  64.   53.   44.]\n",
      "  [  65.   58.   49.]\n",
      "  [  66.   59.   51.]]\n",
      "\n",
      " ..., \n",
      " [[  59.   58.   51.]\n",
      "  [  53.   52.   46.]\n",
      "  [  48.   47.   43.]\n",
      "  ..., \n",
      "  [  67.   66.   57.]\n",
      "  [  66.   64.   53.]\n",
      "  [  87.   80.   65.]]\n",
      "\n",
      " [[  61.   61.   52.]\n",
      "  [  53.   52.   47.]\n",
      "  [  46.   47.   44.]\n",
      "  ..., \n",
      "  [  66.   64.   54.]\n",
      "  [  79.   76.   54.]\n",
      "  [ 102.   90.   64.]]\n",
      "\n",
      " [[  77.   73.   60.]\n",
      "  [  62.   57.   49.]\n",
      "  [  45.   47.   44.]\n",
      "  ..., \n",
      "  [  71.   70.   57.]\n",
      "  [  95.   87.   60.]\n",
      "  [ 105.   91.   64.]]]\n",
      "Normalising\n",
      "(34799, 32, 32, 3) float32\n",
      "[[[-0.31960785 -0.30784315 -0.32352942]\n",
      "  [-0.24117646 -0.23333332 -0.27254903]\n",
      "  [-0.17450979 -0.19411764 -0.23333332]\n",
      "  ..., \n",
      "  [-0.20980391 -0.23333332 -0.27254903]\n",
      "  [-0.1980392  -0.23333332 -0.26862746]\n",
      "  [-0.21372548 -0.25686276 -0.29607844]]\n",
      "\n",
      " [[-0.32352942 -0.31568629 -0.32745099]\n",
      "  [-0.24901959 -0.2647059  -0.28823531]\n",
      "  [-0.21372548 -0.23333332 -0.26078433]\n",
      "  ..., \n",
      "  [-0.22941175 -0.25686276 -0.29607844]\n",
      "  [-0.22549018 -0.24509802 -0.28039217]\n",
      "  [-0.24117646 -0.27254903 -0.30392158]]\n",
      "\n",
      " [[-0.3392157  -0.33137256 -0.3392157 ]\n",
      "  [-0.28039217 -0.28039217 -0.29607844]\n",
      "  [-0.23725489 -0.25294119 -0.2647059 ]\n",
      "  ..., \n",
      "  [-0.24901959 -0.29215688 -0.32745099]\n",
      "  [-0.24509802 -0.27254903 -0.30784315]\n",
      "  [-0.24117646 -0.26862746 -0.30000001]]\n",
      "\n",
      " ..., \n",
      " [[-0.26862746 -0.27254903 -0.30000001]\n",
      "  [-0.29215688 -0.29607844 -0.31960785]\n",
      "  [-0.31176472 -0.31568629 -0.33137256]\n",
      "  ..., \n",
      "  [-0.23725489 -0.24117646 -0.2764706 ]\n",
      "  [-0.24117646 -0.24901959 -0.29215688]\n",
      "  [-0.15882352 -0.1862745  -0.24509802]]\n",
      "\n",
      " [[-0.26078433 -0.26078433 -0.29607844]\n",
      "  [-0.29215688 -0.29607844 -0.31568629]\n",
      "  [-0.31960785 -0.31568629 -0.32745099]\n",
      "  ..., \n",
      "  [-0.24117646 -0.24901959 -0.28823531]\n",
      "  [-0.19019607 -0.20196077 -0.28823531]\n",
      "  [-0.09999999 -0.14705881 -0.24901959]]\n",
      "\n",
      " [[-0.1980392  -0.21372548 -0.2647059 ]\n",
      "  [-0.25686276 -0.2764706  -0.30784315]\n",
      "  [-0.32352942 -0.31568629 -0.32745099]\n",
      "  ..., \n",
      "  [-0.22156861 -0.22549018 -0.2764706 ]\n",
      "  [-0.12745097 -0.15882352 -0.2647059 ]\n",
      "  [-0.08823529 -0.14313725 -0.24901959]]]\n"
     ]
    }
   ],
   "source": [
    "#Normalise the data\n",
    "def normalize_image(image_data):\n",
    "    a = -0.5\n",
    "    b = 0.5\n",
    "    minvalue = 0\n",
    "    maxvalue = 255\n",
    "    normimg = np.array(a + ( ( (image_data - minvalue)*(b - a) )/( maxvalue - minvalue ) ) )\n",
    "    return normimg\n",
    "\n",
    "print(X_train.shape, X_train.dtype)\n",
    "print(X_train[0])\n",
    "X_train = normalize_image(X_train)\n",
    "print(\"Normalising\")\n",
    "print(X_train.shape, X_train.dtype)\n",
    "print(X_train[0])\n",
    "\n",
    "X_valid = normalize_image(X_valid)\n",
    "X_test = normalize_image(X_test)"
   ]
  },
  {
   "cell_type": "code",
   "execution_count": null,
   "metadata": {
    "collapsed": true
   },
   "outputs": [],
   "source": []
  },
  {
   "cell_type": "code",
   "execution_count": null,
   "metadata": {
    "collapsed": true
   },
   "outputs": [],
   "source": []
  },
  {
   "cell_type": "code",
   "execution_count": null,
   "metadata": {
    "collapsed": true
   },
   "outputs": [],
   "source": []
  },
  {
   "cell_type": "code",
   "execution_count": null,
   "metadata": {
    "collapsed": true
   },
   "outputs": [],
   "source": []
  },
  {
   "cell_type": "code",
   "execution_count": null,
   "metadata": {
    "collapsed": true
   },
   "outputs": [],
   "source": []
  },
  {
   "cell_type": "markdown",
   "metadata": {},
   "source": [
    "### Model Architecture"
   ]
  },
  {
   "cell_type": "code",
   "execution_count": 8,
   "metadata": {},
   "outputs": [],
   "source": [
    "### Define your architecture here.\n",
    "### Feel free to use as many code cells as needed.\n",
    "\n",
    "#LeNet accepts 32x32xC where C is the 3 is colour. MNIST data is greyscale so C=1\n",
    "\n",
    "#LeNEt Architecture\n",
    "\n",
    "from tensorflow.contrib.layers import flatten\n",
    "\n",
    "def LeNet(x):    \n",
    "    # Arguments used for tf.truncated_normal, randomly defines variables for the weights and biases for each layer\n",
    "    mu = 0\n",
    "    sigma = 0.1\n",
    "    \n",
    "    # SOLUTION: Layer 1: Convolutional. Input = 32x32x3 \n",
    "    #(changed input depth from 1 to 3 due to colour). Output = 28x28x6.\n",
    "    #(changed input depth from 3 to 1 due to grayscale function). Output = 28x28x6.\n",
    "    conv1_W = tf.Variable(tf.truncated_normal(shape=(5, 5, 3, 6), mean = mu, stddev = sigma))\n",
    "    conv1_b = tf.Variable(tf.zeros(6))\n",
    "    conv1   = tf.nn.conv2d(x, conv1_W, strides=[1, 1, 1, 1], padding='VALID') + conv1_b\n",
    "\n",
    "    # SOLUTION: Activation.\n",
    "    conv1 = tf.nn.relu(conv1)\n",
    "\n",
    "    # SOLUTION: Pooling. Input = 28x28x6. Output = 14x14x6.\n",
    "    conv1 = tf.nn.max_pool(conv1, ksize=[1, 2, 2, 1], strides=[1, 2, 2, 1], padding='VALID')\n",
    "\n",
    "    # SOLUTION: Layer 2: Convolutional. Output = 10x10x16.\n",
    "    conv2_W = tf.Variable(tf.truncated_normal(shape=(5, 5, 6, 16), mean = mu, stddev = sigma))\n",
    "    conv2_b = tf.Variable(tf.zeros(16))\n",
    "    conv2   = tf.nn.conv2d(conv1, conv2_W, strides=[1, 1, 1, 1], padding='VALID') + conv2_b\n",
    "    \n",
    "    # SOLUTION: Activation.\n",
    "    conv2 = tf.nn.relu(conv2)\n",
    "\n",
    "    # SOLUTION: Pooling. Input = 10x10x16. Output = 5x5x16.\n",
    "    conv2 = tf.nn.max_pool(conv2, ksize=[1, 2, 2, 1], strides=[1, 2, 2, 1], padding='VALID')\n",
    "\n",
    "    # SOLUTION: Flatten. Input = 5x5x16. Output = 400.\n",
    "    fc0   = flatten(conv2)\n",
    "    \n",
    "    # SOLUTION: Layer 3: Fully Connected. Input = 400. Output = 120.\n",
    "    fc1_W = tf.Variable(tf.truncated_normal(shape=(400, 120), mean = mu, stddev = sigma))\n",
    "    fc1_b = tf.Variable(tf.zeros(120))\n",
    "    fc1   = tf.matmul(fc0, fc1_W) + fc1_b\n",
    "    \n",
    "    # SOLUTION: Activation.\n",
    "    fc1    = tf.nn.relu(fc1)\n",
    "    fc1 = tf.nn.dropout(fc1, keep_prob)\n",
    "    # SOLUTION: Layer 4: Fully Connected. Input = 120. Output = 84.\n",
    "    fc2_W  = tf.Variable(tf.truncated_normal(shape=(120, 84), mean = mu, stddev = sigma))\n",
    "    fc2_b  = tf.Variable(tf.zeros(84))\n",
    "    fc2    = tf.matmul(fc1, fc2_W) + fc2_b\n",
    "    \n",
    "    # SOLUTION: Activation.\n",
    "    fc2    = tf.nn.relu(fc2)\n",
    "    fc2 = tf.nn.dropout(fc2, keep_prob)\n",
    "\n",
    "    # SOLUTION: Layer 5: Fully Connected. Input = 84. Output = 43.(changed output from 10 to 43 classes)\n",
    "    fc3_W  = tf.Variable(tf.truncated_normal(shape=(84, 43), mean = mu, stddev = sigma))\n",
    "    fc3_b  = tf.Variable(tf.zeros(43))\n",
    "    logits = tf.matmul(fc2, fc3_W) + fc3_b\n",
    "    \n",
    "    return logits\n"
   ]
  },
  {
   "cell_type": "markdown",
   "metadata": {},
   "source": [
    "### Train, Validate and Test the Model"
   ]
  },
  {
   "cell_type": "markdown",
   "metadata": {},
   "source": [
    "A validation set can be used to assess how well the model is performing. A low accuracy on the training and validation\n",
    "sets imply underfitting. A high accuracy on the training set but low accuracy on the validation set implies overfitting."
   ]
  },
  {
   "cell_type": "code",
   "execution_count": 9,
   "metadata": {
    "scrolled": true
   },
   "outputs": [
    {
     "name": "stdout",
     "output_type": "stream",
     "text": [
      "Training...\n",
      "\n",
      "batch = 34701 ...\n",
      "Train Accuracy = 0.439\n",
      "\n",
      "EPOCH 1 ...\n",
      "Validation Accuracy = 0.390\n",
      "\n",
      "batch = 34701 ...\n",
      "Train Accuracy = 0.639\n",
      "\n",
      "EPOCH 2 ...\n",
      "Validation Accuracy = 0.596\n",
      "\n",
      "batch = 34701 ...\n",
      "Train Accuracy = 0.747\n",
      "\n",
      "EPOCH 3 ...\n",
      "Validation Accuracy = 0.694\n",
      "\n",
      "batch = 34701 ...\n",
      "Train Accuracy = 0.791\n",
      "\n",
      "EPOCH 4 ...\n",
      "Validation Accuracy = 0.735\n",
      "\n",
      "batch = 34701 ...\n",
      "Train Accuracy = 0.829\n",
      "\n",
      "EPOCH 5 ...\n",
      "Validation Accuracy = 0.766\n",
      "\n",
      "batch = 34701 ...\n",
      "Train Accuracy = 0.855\n",
      "\n",
      "EPOCH 6 ...\n",
      "Validation Accuracy = 0.806\n",
      "\n",
      "batch = 34701 ...\n",
      "Train Accuracy = 0.870\n",
      "\n",
      "EPOCH 7 ...\n",
      "Validation Accuracy = 0.825\n",
      "\n",
      "batch = 34701 ...\n",
      "Train Accuracy = 0.886\n",
      "\n",
      "EPOCH 8 ...\n",
      "Validation Accuracy = 0.835\n",
      "\n",
      "batch = 34701 ...\n",
      "Train Accuracy = 0.892\n",
      "\n",
      "EPOCH 9 ...\n",
      "Validation Accuracy = 0.847\n",
      "\n",
      "batch = 34701 ...\n",
      "Train Accuracy = 0.903\n",
      "\n",
      "EPOCH 10 ...\n",
      "Validation Accuracy = 0.856\n",
      "\n",
      "batch = 34701 ...\n",
      "Train Accuracy = 0.909\n",
      "\n",
      "EPOCH 11 ...\n",
      "Validation Accuracy = 0.849\n",
      "\n",
      "batch = 34701 ...\n",
      "Train Accuracy = 0.918\n",
      "\n",
      "EPOCH 12 ...\n",
      "Validation Accuracy = 0.864\n",
      "\n",
      "batch = 34701 ...\n",
      "Train Accuracy = 0.921\n",
      "\n",
      "EPOCH 13 ...\n",
      "Validation Accuracy = 0.863\n",
      "\n",
      "batch = 34701 ...\n",
      "Train Accuracy = 0.925\n",
      "\n",
      "EPOCH 14 ...\n",
      "Validation Accuracy = 0.877\n",
      "\n",
      "batch = 34701 ...\n",
      "Train Accuracy = 0.927\n",
      "\n",
      "EPOCH 15 ...\n",
      "Validation Accuracy = 0.876\n",
      "\n",
      "batch = 34701 ...\n",
      "Train Accuracy = 0.932\n",
      "\n",
      "EPOCH 16 ...\n",
      "Validation Accuracy = 0.882\n",
      "\n",
      "batch = 34701 ...\n",
      "Train Accuracy = 0.937\n",
      "\n",
      "EPOCH 17 ...\n",
      "Validation Accuracy = 0.887\n",
      "\n",
      "batch = 34701 ...\n",
      "Train Accuracy = 0.941\n",
      "\n",
      "EPOCH 18 ...\n",
      "Validation Accuracy = 0.891\n",
      "\n",
      "batch = 34701 ...\n",
      "Train Accuracy = 0.942\n",
      "\n",
      "EPOCH 19 ...\n",
      "Validation Accuracy = 0.894\n",
      "\n",
      "batch = 34701 ...\n",
      "Train Accuracy = 0.947\n",
      "\n",
      "EPOCH 20 ...\n",
      "Validation Accuracy = 0.891\n",
      "\n",
      "batch = 34701 ...\n",
      "Train Accuracy = 0.948\n",
      "\n",
      "EPOCH 21 ...\n",
      "Validation Accuracy = 0.890\n",
      "\n",
      "batch = 34701 ...\n",
      "Train Accuracy = 0.943\n",
      "\n",
      "EPOCH 22 ...\n",
      "Validation Accuracy = 0.892\n",
      "\n",
      "batch = 34701 ...\n",
      "Train Accuracy = 0.953\n",
      "\n",
      "EPOCH 23 ...\n",
      "Validation Accuracy = 0.909\n",
      "\n",
      "batch = 34701 ...\n",
      "Train Accuracy = 0.957\n",
      "\n",
      "EPOCH 24 ...\n",
      "Validation Accuracy = 0.905\n",
      "\n",
      "batch = 34701 ...\n",
      "Train Accuracy = 0.953\n",
      "\n",
      "EPOCH 25 ...\n",
      "Validation Accuracy = 0.904\n",
      "\n",
      "batch = 34701 ...\n",
      "Train Accuracy = 0.953\n",
      "\n",
      "EPOCH 26 ...\n",
      "Validation Accuracy = 0.905\n",
      "\n",
      "batch = 34701 ...\n",
      "Train Accuracy = 0.956\n",
      "\n",
      "EPOCH 27 ...\n",
      "Validation Accuracy = 0.904\n",
      "\n",
      "batch = 34701 ...\n",
      "Train Accuracy = 0.957\n",
      "\n",
      "EPOCH 28 ...\n",
      "Validation Accuracy = 0.899\n",
      "\n",
      "batch = 34701 ...\n",
      "Train Accuracy = 0.959\n",
      "\n",
      "EPOCH 29 ...\n",
      "Validation Accuracy = 0.910\n",
      "\n",
      "batch = 34701 ...\n",
      "Train Accuracy = 0.959\n",
      "\n",
      "EPOCH 30 ...\n",
      "Validation Accuracy = 0.914\n",
      "\n",
      "batch = 34701 ...\n",
      "Train Accuracy = 0.958\n",
      "\n",
      "EPOCH 31 ...\n",
      "Validation Accuracy = 0.908\n",
      "\n",
      "batch = 34701 ...\n",
      "Train Accuracy = 0.962\n",
      "\n",
      "EPOCH 32 ...\n",
      "Validation Accuracy = 0.908\n",
      "\n",
      "batch = 34701 ...\n",
      "Train Accuracy = 0.961\n",
      "\n",
      "EPOCH 33 ...\n",
      "Validation Accuracy = 0.912\n",
      "\n",
      "batch = 34701 ...\n",
      "Train Accuracy = 0.965\n",
      "\n",
      "EPOCH 34 ...\n",
      "Validation Accuracy = 0.916\n",
      "\n",
      "batch = 34701 ...\n",
      "Train Accuracy = 0.962\n",
      "\n",
      "EPOCH 35 ...\n",
      "Validation Accuracy = 0.917\n",
      "\n",
      "batch = 34701 ...\n",
      "Train Accuracy = 0.965\n",
      "\n",
      "EPOCH 36 ...\n",
      "Validation Accuracy = 0.922\n",
      "\n",
      "batch = 34701 ...\n",
      "Train Accuracy = 0.968\n",
      "\n",
      "EPOCH 37 ...\n",
      "Validation Accuracy = 0.920\n",
      "\n",
      "batch = 34701 ...\n",
      "Train Accuracy = 0.965\n",
      "\n",
      "EPOCH 38 ...\n",
      "Validation Accuracy = 0.912\n",
      "\n",
      "batch = 34701 ...\n",
      "Train Accuracy = 0.966\n",
      "\n",
      "EPOCH 39 ...\n",
      "Validation Accuracy = 0.913\n",
      "\n",
      "batch = 34701 ...\n",
      "Train Accuracy = 0.966\n",
      "\n",
      "EPOCH 40 ...\n",
      "Validation Accuracy = 0.911\n",
      "\n",
      "batch = 34701 ...\n",
      "Train Accuracy = 0.968\n",
      "\n",
      "EPOCH 41 ...\n",
      "Validation Accuracy = 0.924\n",
      "\n",
      "batch = 34701 ...\n",
      "Train Accuracy = 0.970\n",
      "\n",
      "EPOCH 42 ...\n",
      "Validation Accuracy = 0.927\n",
      "\n",
      "batch = 34701 ...\n",
      "Train Accuracy = 0.969\n",
      "\n",
      "EPOCH 43 ...\n",
      "Validation Accuracy = 0.927\n",
      "\n",
      "batch = 34701 ...\n",
      "Train Accuracy = 0.967\n",
      "\n",
      "EPOCH 44 ...\n",
      "Validation Accuracy = 0.918\n",
      "\n",
      "batch = 34701 ...\n",
      "Train Accuracy = 0.971\n",
      "\n",
      "EPOCH 45 ...\n",
      "Validation Accuracy = 0.925\n",
      "\n",
      "batch = 34701 ...\n",
      "Train Accuracy = 0.970\n",
      "\n",
      "EPOCH 46 ...\n",
      "Validation Accuracy = 0.919\n",
      "\n",
      "batch = 34701 ...\n",
      "Train Accuracy = 0.968\n",
      "\n",
      "EPOCH 47 ...\n",
      "Validation Accuracy = 0.916\n",
      "\n",
      "batch = 34701 ...\n",
      "Train Accuracy = 0.969\n",
      "\n",
      "EPOCH 48 ...\n",
      "Validation Accuracy = 0.916\n",
      "\n",
      "batch = 34701 ...\n",
      "Train Accuracy = 0.972\n",
      "\n",
      "EPOCH 49 ...\n",
      "Validation Accuracy = 0.926\n",
      "\n",
      "batch = 34701 ...\n",
      "Train Accuracy = 0.974\n",
      "\n",
      "EPOCH 50 ...\n",
      "Validation Accuracy = 0.923\n",
      "\n",
      "Test Accuracy = 0.905\n",
      "Model saved\n"
     ]
    }
   ],
   "source": [
    "### Train your model here.\n",
    "### Calculate and report the accuracy on the training and validation set.\n",
    "### Once a final model architecture is selected, \n",
    "### the accuracy on the test set should be calculated and reported as well.\n",
    "### Feel free to use as many code cells as needed.\n",
    "\n",
    "\n",
    "#Train LeNet to classify MNIST Data \n",
    "# x is a placeholder for a batch of input images\n",
    "# y is a placeholder for a batch of output labels\n",
    "\n",
    "#Update tensor shapes for colour depth and number of classes\n",
    "#Update tensor shapes for colour depth and number of classes colour is grey only\n",
    "\n",
    "x = tf.placeholder(tf.float32, (None, 32, 32, 3))\n",
    "#x = tf.placeholder(tf.float32, (None, 32, 32))\n",
    "y = tf.placeholder(tf.int32, (None))\n",
    "one_hot_y = tf.one_hot(y, 43)\n",
    "keep_prob = tf.placeholder(tf.float32)\n",
    "\n",
    "#Training Pipeline\n",
    "\n",
    "rate = 0.00088\n",
    "\n",
    "logits = LeNet(x)\n",
    "cross_entropy = tf.nn.softmax_cross_entropy_with_logits(labels=one_hot_y, logits=logits)\n",
    "loss_operation = tf.reduce_mean(cross_entropy)\n",
    "optimizer = tf.train.AdamOptimizer(learning_rate = rate)\n",
    "training_operation = optimizer.minimize(loss_operation)\n",
    "\n",
    "training_loss_history = [] \n",
    "validation_loss_history = []\n",
    "training_accuracy_history = [] \n",
    "validation_accuracy_history = []\n",
    "\n",
    "\n",
    "#Model Evaluation\n",
    "#Evaluate loss and accuracy of the model for a given data set.\n",
    "\n",
    "correct_prediction = tf.equal(tf.argmax(logits, 1), tf.argmax(one_hot_y, 1))\n",
    "accuracy_operation = tf.reduce_mean(tf.cast(correct_prediction, tf.float32))\n",
    "saver = tf.train.Saver()\n",
    "\n",
    "def evaluate(X_data, y_data):\n",
    "    num_examples = len(X_data)\n",
    "    total_accuracy = 0\n",
    "    sess = tf.get_default_session()\n",
    "    for offset in range(0, num_examples, BATCH_SIZE):\n",
    "        batch_x, batch_y = X_data[offset:offset+BATCH_SIZE], y_data[offset:offset+BATCH_SIZE]\n",
    "        accuracy = sess.run(accuracy_operation, feed_dict={x: batch_x, y: batch_y, keep_prob: 0.5})\n",
    "        total_accuracy += (accuracy * len(batch_x))\n",
    "    return total_accuracy / num_examples\n",
    "\n",
    "\n",
    "#Train the Model\n",
    "#Run the training data through the training pipeline to train the model\n",
    "\n",
    "with tf.Session() as sess:\n",
    "    sess.run(tf.global_variables_initializer())\n",
    "    num_examples = len(X_train)\n",
    "    \n",
    "    print(\"Training...\")\n",
    "    print()\n",
    "    for i in range(EPOCHS):\n",
    "        X_train, y_train = shuffle(X_train, y_train)\n",
    "        for offset in range(0, num_examples, BATCH_SIZE):\n",
    "            end = offset + BATCH_SIZE\n",
    "            batch_x, batch_y = X_train[offset:end], y_train[offset:end]\n",
    "            sess.run(training_operation, feed_dict={x: batch_x, y: batch_y, keep_prob: 0.5})\n",
    "        train_accuracy = evaluate(X_train, y_train)\n",
    "        print(\"batch = {} ...\".format(offset+1))\n",
    "        print(\"Train Accuracy = {:.3f}\".format(train_accuracy))\n",
    "        print()\n",
    "       # train_loss, train_accuracy = evaluate(X_train, y_train)\n",
    "        #training_loss_history.append(train_loss)\n",
    "        #training_accuracy_history.append(train_accuracy)\n",
    "        \n",
    "        validation_accuracy = evaluate(X_valid, y_valid)\n",
    "        print(\"EPOCH {} ...\".format(i+1))\n",
    "        print(\"Validation Accuracy = {:.3f}\".format(validation_accuracy))\n",
    "        print()\n",
    "\n",
    "    #Now test the model on test data and measure accuracy\n",
    "    test_accuracy = evaluate(X_test, y_test)\n",
    "    print(\"Test Accuracy = {:.3f}\".format(test_accuracy))\n",
    "    #Commenting out saving the session   \n",
    "    saver.save(sess, './lenet')\n",
    "    print(\"Model saved\")\n"
   ]
  },
  {
   "cell_type": "markdown",
   "metadata": {},
   "source": [
    "---\n",
    "\n",
    "## Step 3: Test a Model on New Images\n",
    "\n",
    "To give yourself more insight into how your model is working, download at least five pictures of German traffic signs from the web and use your model to predict the traffic sign type.\n",
    "\n",
    "You may find `signnames.csv` useful as it contains mappings from the class id (integer) to the actual sign name."
   ]
  },
  {
   "cell_type": "markdown",
   "metadata": {},
   "source": [
    "### Load and Output the Images"
   ]
  },
  {
   "cell_type": "code",
   "execution_count": 10,
   "metadata": {},
   "outputs": [
    {
     "name": "stdout",
     "output_type": "stream",
     "text": [
      "['images/speed_50_001.jpg', 'images/sign_1.jpeg', 'images/slippery_road_001.jpg', 'images/speed_80_001.jpg', 'images/pedxing_001.jpg']\n"
     ]
    },
    {
     "data": {
      "image/png": "[encoded data removed]",
      "text/plain": [
       "<matplotlib.figure.Figure at 0x7efcd61f4518>"
      ]
     },
     "metadata": {},
     "output_type": "display_data"
    },
    {
     "name": "stdout",
     "output_type": "stream",
     "text": [
      "(32, 32, 3)\n",
      "(32, 32, 3)\n",
      "label =  2\n"
     ]
    },
    {
     "data": {
      "image/png": "[encoded data removed]",
      "text/plain": [
       "<matplotlib.figure.Figure at 0x7efcd6191cc0>"
      ]
     },
     "metadata": {},
     "output_type": "display_data"
    },
    {
     "name": "stdout",
     "output_type": "stream",
     "text": [
      "(210, 240, 3)\n",
      "(32, 32, 3)\n",
      "label =  5\n"
     ]
    },
    {
     "data": {
      "image/png": "[encoded data removed]",
      "text/plain": [
       "<matplotlib.figure.Figure at 0x7efcd61b1400>"
      ]
     },
     "metadata": {},
     "output_type": "display_data"
    },
    {
     "name": "stdout",
     "output_type": "stream",
     "text": [
      "(32, 32, 3)\n",
      "(32, 32, 3)\n",
      "label =  27\n"
     ]
    },
    {
     "data": {
      "image/png": "[encoded data removed]",
      "text/plain": [
       "<matplotlib.figure.Figure at 0x7efcd6101ba8>"
      ]
     },
     "metadata": {},
     "output_type": "display_data"
    },
    {
     "name": "stdout",
     "output_type": "stream",
     "text": [
      "(32, 32, 3)\n",
      "(32, 32, 3)\n",
      "label =  23\n"
     ]
    },
    {
     "data": {
      "image/png": "[encoded data removed]",
      "text/plain": [
       "<matplotlib.figure.Figure at 0x7efcf62dab70>"
      ]
     },
     "metadata": {},
     "output_type": "display_data"
    },
    {
     "name": "stdout",
     "output_type": "stream",
     "text": [
      "(32, 32, 3)\n",
      "(32, 32, 3)\n",
      "label =  14\n"
     ]
    }
   ],
   "source": [
    "### Load the images and plot them here.\n",
    "### Feel free to use as many code cells as needed.\n",
    "import os\n",
    "import matplotlib.image as mpimg\n",
    "\n",
    "webbies = []\n",
    "path = \"images/\"\n",
    "\n",
    "for img in os.listdir(path):\n",
    "    image = path + img\n",
    "    webbies.append(image)\n",
    "\n",
    "web_images = np.zeros((len(webbies), 32, 32, 3), dtype = np.uint8)\n",
    "web_labels = [2,5,27,23,14]\n",
    "print(webbies)\n",
    "i=1\n",
    "for i in range(len(webbies)):\n",
    "    image = mpimg.imread(webbies[i])\n",
    "    image_small = cv2.resize(image, (32, 32)) \n",
    "    web_images[i] = image_small\n",
    "    plt.figure(figsize=(2, 2))\n",
    "    plt.imshow(image)\n",
    "    plt.axis('off')\n",
    "    plt.show()\n",
    "    print(image.shape)\n",
    "    print(image_small.shape)\n",
    "    print(\"label = \",web_labels[i])\n"
   ]
  },
  {
   "cell_type": "code",
   "execution_count": 11,
   "metadata": {},
   "outputs": [
    {
     "name": "stdout",
     "output_type": "stream",
     "text": [
      "(5, 32, 32, 3)\n",
      "result_logits =  [[ -2.08446693e+01  -3.63085461e+00   6.07810116e+00   7.00178576e+00\n",
      "   -1.02755995e+01   2.20663637e-01  -3.13769817e+01  -1.30256739e+01\n",
      "   -2.79871154e+00  -1.12573223e+01  -3.37733803e+01  -5.54124985e+01\n",
      "   -3.08839111e+01   1.67197835e+00  -1.20648489e+01   4.14955282e+00\n",
      "   -2.90833931e+01  -2.87848721e+01  -2.92870693e+01  -5.67386436e+01\n",
      "   -4.28376274e+01  -3.43379135e+01  -1.65039616e+01  -4.30463295e+01\n",
      "   -3.20924950e+01  -2.24701710e+01  -3.55802345e+01  -5.94251938e+01\n",
      "   -5.86671495e+00  -1.66824512e+01  -3.10259647e+01  -2.79585133e+01\n",
      "   -1.64688244e+01  -2.89218616e+01   2.41006398e+00  -7.45822287e+00\n",
      "   -1.01019335e+01  -4.52392197e+01  -1.39717398e+01  -2.10646191e+01\n",
      "   -1.94727345e+01  -3.57387848e+01  -4.67950211e+01]\n",
      " [ -1.13594007e+01  -2.63831367e+01  -1.30757004e+02  -7.34757309e+01\n",
      "   -4.89747429e+01  -5.51115456e+01  -5.42681007e+01  -6.38273201e+01\n",
      "   -5.22427063e+01  -8.50102615e+00   8.90039539e+00  -2.70625076e+01\n",
      "    3.94149246e+01  -6.61662750e+01   1.02442656e+01  -1.03935783e+02\n",
      "   -5.45451880e+00   3.40916252e+01  -5.51884537e+01  -2.85190315e+01\n",
      "   -1.89301872e+01  -9.53092270e+01  -9.37932587e+01  -5.26886215e+01\n",
      "   -1.11028404e+02  -3.78488617e+01   7.63251257e+00  -3.17195759e+01\n",
      "   -1.05107552e+02  -5.99654465e+01  -1.45970078e+02  -6.25649033e+01\n",
      "   -2.61660709e+01  -1.61475769e+02  -1.00742882e+02  -7.08554688e+01\n",
      "   -7.24474564e+01  -5.48622437e+01  -6.33147774e+01  -9.64075012e+01\n",
      "   -1.08698532e+02  -2.56586304e+01  -4.97819443e+01]\n",
      " [ -8.05798645e+01  -4.86625519e+01  -5.43297043e+01   5.31241941e+00\n",
      "   -1.12205566e+02  -3.25895348e+01  -7.06433334e+01  -1.20994354e+02\n",
      "   -1.02833199e+02  -2.93674278e+01  -2.73633099e+01  -3.03063126e+01\n",
      "   -4.78308868e+01  -2.00083332e+01  -5.21569519e+01  -7.63914261e+01\n",
      "   -9.82773895e+01   1.84719729e+00  -5.57635422e+01  -1.26551914e+01\n",
      "   -1.70758610e+01  -1.52637827e+00  -3.35810966e+01   3.01196117e+01\n",
      "   -2.61416721e+01   6.76329613e+00  -6.70714035e+01  -7.09195328e+01\n",
      "   -3.47037735e+01   9.62335873e+00  -4.19505930e+00  -1.51992760e+01\n",
      "   -6.39994698e+01  -6.91589584e+01  -4.03052673e+01  -7.85610962e+01\n",
      "   -5.66160278e+01  -9.68871460e+01  -1.32370062e+01  -5.70827065e+01\n",
      "   -6.50940628e+01  -5.74778786e+01  -9.89988174e+01]\n",
      " [ -3.86326752e+01  -3.79481602e+00   2.13448067e+01   6.49183369e+00\n",
      "   -5.59673271e+01  -1.20609064e+01  -5.86843719e+01  -1.23596706e+01\n",
      "   -2.70943031e+01  -3.54707265e+00  -3.46522064e+01  -4.04458122e+01\n",
      "   -2.66385460e+01   5.16627645e+00  -2.64195213e+01  -1.09767809e+01\n",
      "   -2.00339317e+01  -3.48708267e+01  -7.29982452e+01  -2.54621220e+01\n",
      "   -3.06689034e+01  -2.96029415e+01  -3.86979408e+01  -1.04564228e+01\n",
      "   -3.80695229e+01  -3.42276955e+01  -6.90660477e+01  -6.95905533e+01\n",
      "   -2.42999578e+00  -1.17872276e+01  -9.99889374e+00  -2.78821659e+01\n",
      "   -2.81124630e+01  -3.80866623e+01   8.34092522e+00  -2.27220154e+01\n",
      "   -2.35595512e+01  -4.87876854e+01  -2.52331829e+00  -3.28515854e+01\n",
      "   -1.69495144e+01  -1.22055683e+01  -4.25022964e+01]\n",
      " [ -1.04570704e+01  -7.18665600e+00  -8.02075863e+00  -8.48341370e+00\n",
      "   -1.41939659e+01  -1.07543821e+01  -7.60640812e+00  -1.26616650e+01\n",
      "   -1.22372007e+01  -2.41928935e+00  -7.90888500e+00   2.15239286e-01\n",
      "   -1.03956213e+01  -6.59382677e+00  -1.10035686e+01  -5.33669376e+00\n",
      "   -4.28200054e+00  -4.21501207e+00  -9.56846952e-01   9.75020289e-01\n",
      "   -1.40727818e+00  -1.58856332e+00  -8.44064331e+00  -5.76152056e-02\n",
      "    2.96651173e+00  -2.20175400e-01  -3.06481242e+00   2.49638772e+00\n",
      "   -2.18586922e+00  -6.01582432e+00   1.43472028e+00  -6.19061136e+00\n",
      "   -4.41380596e+00  -4.24191904e+00  -6.95557308e+00  -6.99626255e+00\n",
      "   -7.83574295e+00  -7.37087870e+00  -2.82776642e+00  -9.63165283e+00\n",
      "   -6.68195677e+00  -2.17085218e+00  -5.15734816e+00]]\n",
      "result_label =  [ 3 12 23  2 24]\n"
     ]
    },
    {
     "data": {
      "text/plain": [
       "<function __main__.normalize_image>"
      ]
     },
     "execution_count": 11,
     "metadata": {},
     "output_type": "execute_result"
    }
   ],
   "source": [
    "web_images = web_images.astype(np.float32)\n",
    "web_images = normalize_image(web_images)\n",
    "print(web_images.shape)\n",
    "\n",
    "with tf.Session() as sess:\n",
    "    saver.restore(sess, tf.train.latest_checkpoint('.'))\n",
    "    result_logits = sess.run(logits, feed_dict={x: web_images, keep_prob: 0.5})\n",
    "    result_label = np.argmax(result_logits, axis=1)\n",
    "    \n",
    "print(\"result_logits = \",result_logits)\n",
    "print(\"result_label = \",result_label)\n",
    "normalize_image"
   ]
  },
  {
   "cell_type": "markdown",
   "metadata": {},
   "source": [
    "### Predict the Sign Type for Each Image"
   ]
  },
  {
   "cell_type": "code",
   "execution_count": null,
   "metadata": {
    "collapsed": true
   },
   "outputs": [],
   "source": [
    "### Run the predictions here and use the model to output the prediction for each image.\n",
    "### Make sure to pre-process the images with the same pre-processing pipeline used earlier.\n",
    "### Feel free to use as many code cells as needed."
   ]
  },
  {
   "cell_type": "markdown",
   "metadata": {},
   "source": [
    "### Analyze Performance"
   ]
  },
  {
   "cell_type": "code",
   "execution_count": 12,
   "metadata": {},
   "outputs": [
    {
     "name": "stdout",
     "output_type": "stream",
     "text": [
      "0.0\n"
     ]
    }
   ],
   "source": [
    "### Calculate the accuracy for these 5 new images. \n",
    "### For example, if the model predicted 1 out of 5 signs correctly, it's 20% accurate on these new images.\n",
    "with tf.Session() as sess:\n",
    "    saver.restore(sess, tf.train.latest_checkpoint('.'))\n",
    "    correct_pred = tf.equal(result_label, web_labels)\n",
    "    accuracy_operation = tf.reduce_mean(tf.cast(correct_pred, tf.float32))\n",
    "    accuracy = sess.run(accuracy_operation)\n",
    "    print(accuracy)"
   ]
  },
  {
   "cell_type": "markdown",
   "metadata": {},
   "source": [
    "### Output Top 5 Softmax Probabilities For Each Image Found on the Web"
   ]
  },
  {
   "cell_type": "markdown",
   "metadata": {},
   "source": [
    "For each of the new images, print out the model's softmax probabilities to show the **certainty** of the model's predictions (limit the output to the top 5 probabilities for each image). [`tf.nn.top_k`](https://www.tensorflow.org/versions/r0.12/api_docs/python/nn.html#top_k) could prove helpful here. \n",
    "\n",
    "The example below demonstrates how tf.nn.top_k can be used to find the top k predictions for each image.\n",
    "\n",
    "`tf.nn.top_k` will return the values and indices (class ids) of the top k predictions. So if k=3, for each sign, it'll return the 3 largest probabilities (out of a possible 43) and the correspoding class ids.\n",
    "\n",
    "Take this numpy array as an example. The values in the array represent predictions. The array contains softmax probabilities for five candidate images with six possible classes. `tf.nn.top_k` is used to choose the three classes with the highest probability:\n",
    "\n",
    "```\n",
    "# (5, 6) array\n",
    "a = np.array([[ 0.24879643,  0.07032244,  0.12641572,  0.34763842,  0.07893497,\n",
    "         0.12789202],\n",
    "       [ 0.28086119,  0.27569815,  0.08594638,  0.0178669 ,  0.18063401,\n",
    "         0.15899337],\n",
    "       [ 0.26076848,  0.23664738,  0.08020603,  0.07001922,  0.1134371 ,\n",
    "         0.23892179],\n",
    "       [ 0.11943333,  0.29198961,  0.02605103,  0.26234032,  0.1351348 ,\n",
    "         0.16505091],\n",
    "       [ 0.09561176,  0.34396535,  0.0643941 ,  0.16240774,  0.24206137,\n",
    "         0.09155967]])\n",
    "```\n",
    "\n",
    "Running it through `sess.run(tf.nn.top_k(tf.constant(a), k=3))` produces:\n",
    "\n",
    "```\n",
    "TopKV2(values=array([[ 0.34763842,  0.24879643,  0.12789202],\n",
    "       [ 0.28086119,  0.27569815,  0.18063401],\n",
    "       [ 0.26076848,  0.23892179,  0.23664738],\n",
    "       [ 0.29198961,  0.26234032,  0.16505091],\n",
    "       [ 0.34396535,  0.24206137,  0.16240774]]), indices=array([[3, 0, 5],\n",
    "       [0, 1, 4],\n",
    "       [0, 5, 1],\n",
    "       [1, 3, 5],\n",
    "       [1, 4, 3]], dtype=int32))\n",
    "```\n",
    "\n",
    "Looking just at the first row we get `[ 0.34763842,  0.24879643,  0.12789202]`, you can confirm these are the 3 largest probabilities in `a`. You'll also notice `[3, 0, 5]` are the corresponding indices."
   ]
  },
  {
   "cell_type": "code",
   "execution_count": 13,
   "metadata": {
    "scrolled": true
   },
   "outputs": [
    {
     "name": "stdout",
     "output_type": "stream",
     "text": [
      "[[  6.79825068e-01   2.69926816e-01   3.92363109e-02   6.89029600e-03\n",
      "    3.29375500e-03]\n",
      " [  9.95147049e-01   4.85297060e-03   2.13418177e-13   5.56666631e-14\n",
      "    1.56661149e-14]\n",
      " [  1.00000000e+00   1.25484478e-09   7.18589771e-11   1.68412159e-11\n",
      "    5.26557855e-13]\n",
      " [  9.99997258e-01   2.25156691e-06   3.54351755e-07   9.41353235e-08\n",
      "    4.72860466e-11]\n",
      " [  4.54561114e-01   2.84066498e-01   9.82525274e-02   6.20438196e-02\n",
      "    2.90221665e-02]]\n"
     ]
    },
    {
     "data": {
      "image/png": "[encoded data removed]",
      "text/plain": [
       "<matplotlib.figure.Figure at 0x7efcf62e52e8>"
      ]
     },
     "metadata": {},
     "output_type": "display_data"
    }
   ],
   "source": [
    "### Print out the top five softmax probabilities for the predictions on the German traffic sign images found on the web. \n",
    "### Feel free to use as many code cells as needed.\n",
    "\n",
    "with tf.Session() as sess:\n",
    "    saver.restore(sess, tf.train.latest_checkpoint('.'))\n",
    "    soft_max = tf.nn.softmax(logits)\n",
    "    result = sess.run(soft_max, feed_dict={logits: result_logits})\n",
    "    values, indices = tf.nn.top_k(result, 5)\n",
    "    probs = sess.run(values)\n",
    "    predictions = sess.run(indices)\n",
    "    print(probs)\n",
    "\n",
    "    for i in range(5):\n",
    "        web_plot = plt.subplot(5,1,i+1)\n",
    "        x_axis = range(43)\n",
    "        web_plot.set_xlim([0, n_classes])\n",
    "        web_plot.bar(predictions[i], probs[i])\n",
    "        web_plot.set_title('Image ' + str(i+1))"
   ]
  },
  {
   "cell_type": "markdown",
   "metadata": {},
   "source": [
    "### Project Writeup\n",
    "\n",
    "Once you have completed the code implementation, document your results in a project writeup using this [template](https://github.com/udacity/CarND-Traffic-Sign-Classifier-Project/blob/master/writeup_template.md) as a guide. The writeup can be in a markdown or pdf file. "
   ]
  },
  {
   "cell_type": "markdown",
   "metadata": {},
   "source": [
    "> **Note**: Once you have completed all of the code implementations and successfully answered each question above, you may finalize your work by exporting the iPython Notebook as an HTML document. You can do this by using the menu above and navigating to  \\n\",\n",
    "    \"**File -> Download as -> HTML (.html)**. Include the finished document along with this notebook as your submission."
   ]
  },
  {
   "cell_type": "markdown",
   "metadata": {},
   "source": [
    "---\n",
    "\n",
    "## Step 4 (Optional): Visualize the Neural Network's State with Test Images\n",
    "\n",
    " This Section is not required to complete but acts as an additional excersise for understaning the output of a neural network's weights. While neural networks can be a great learning device they are often referred to as a black box. We can understand what the weights of a neural network look like better by plotting their feature maps. After successfully training your neural network you can see what it's feature maps look like by plotting the output of the network's weight layers in response to a test stimuli image. From these plotted feature maps, it's possible to see what characteristics of an image the network finds interesting. For a sign, maybe the inner network feature maps react with high activation to the sign's boundary outline or to the contrast in the sign's painted symbol.\n",
    "\n",
    " Provided for you below is the function code that allows you to get the visualization output of any tensorflow weight layer you want. The inputs to the function should be a stimuli image, one used during training or a new one you provided, and then the tensorflow variable name that represents the layer's state during the training process, for instance if you wanted to see what the [LeNet lab's](https://classroom.udacity.com/nanodegrees/nd013/parts/fbf77062-5703-404e-b60c-95b78b2f3f9e/modules/6df7ae49-c61c-4bb2-a23e-6527e69209ec/lessons/601ae704-1035-4287-8b11-e2c2716217ad/concepts/d4aca031-508f-4e0b-b493-e7b706120f81) feature maps looked like for it's second convolutional layer you could enter conv2 as the tf_activation variable.\n",
    "\n",
    "For an example of what feature map outputs look like, check out NVIDIA's results in their paper [End-to-End Deep Learning for Self-Driving Cars](https://devblogs.nvidia.com/parallelforall/deep-learning-self-driving-cars/) in the section Visualization of internal CNN State. NVIDIA was able to show that their network's inner weights had high activations to road boundary lines by comparing feature maps from an image with a clear path to one without. Try experimenting with a similar test to show that your trained network's weights are looking for interesting features, whether it's looking at differences in feature maps from images with or without a sign, or even what feature maps look like in a trained network vs a completely untrained one on the same sign image.\n",
    "\n",
    "<figure>\n",
    " <img src=\"visualize_cnn.png\" width=\"380\" alt=\"Combined Image\" />\n",
    " <figcaption>\n",
    " <p></p> \n",
    " <p style=\"text-align: center;\"> Your output should look something like this (above)</p> \n",
    " </figcaption>\n",
    "</figure>\n",
    " <p></p> \n"
   ]
  },
  {
   "cell_type": "code",
   "execution_count": null,
   "metadata": {
    "collapsed": true
   },
   "outputs": [],
   "source": [
    "### Visualize your network's feature maps here.\n",
    "### Feel free to use as many code cells as needed.\n",
    "\n",
    "# image_input: the test image being fed into the network to produce the feature maps\n",
    "# tf_activation: should be a tf variable name used during your training procedure that represents the calculated state of a specific weight layer\n",
    "# activation_min/max: can be used to view the activation contrast in more detail, by default matplot sets min and max to the actual min and max values of the output\n",
    "# plt_num: used to plot out multiple different weight feature map sets on the same block, just extend the plt number for each new feature map entry\n",
    "\n",
    "def outputFeatureMap(image_input, tf_activation, activation_min=-1, activation_max=-1 ,plt_num=1):\n",
    "    # Here make sure to preprocess your image_input in a way your network expects\n",
    "    # with size, normalization, ect if needed\n",
    "    # image_input =\n",
    "    # Note: x should be the same name as your network's tensorflow data placeholder variable\n",
    "    # If you get an error tf_activation is not defined it may be having trouble accessing the variable from inside a function\n",
    "    activation = tf_activation.eval(session=sess,feed_dict={x : image_input})\n",
    "    featuremaps = activation.shape[3]\n",
    "    plt.figure(plt_num, figsize=(15,15))\n",
    "    for featuremap in range(featuremaps):\n",
    "        plt.subplot(6,8, featuremap+1) # sets the number of feature maps to show on each row and column\n",
    "        plt.title('FeatureMap ' + str(featuremap)) # displays the feature map number\n",
    "        if activation_min != -1 & activation_max != -1:\n",
    "            plt.imshow(activation[0,:,:, featuremap], interpolation=\"nearest\", vmin =activation_min, vmax=activation_max, cmap=\"gray\")\n",
    "        elif activation_max != -1:\n",
    "            plt.imshow(activation[0,:,:, featuremap], interpolation=\"nearest\", vmax=activation_max, cmap=\"gray\")\n",
    "        elif activation_min !=-1:\n",
    "            plt.imshow(activation[0,:,:, featuremap], interpolation=\"nearest\", vmin=activation_min, cmap=\"gray\")\n",
    "        else:\n",
    "            plt.imshow(activation[0,:,:, featuremap], interpolation=\"nearest\", cmap=\"gray\")"
   ]
  },
  {
   "cell_type": "code",
   "execution_count": null,
   "metadata": {
    "collapsed": true
   },
   "outputs": [],
   "source": []
  }
 ],
 "metadata": {
  "anaconda-cloud": {},
  "kernelspec": {
   "display_name": "Python 3",
   "language": "python",
   "name": "python3"
  },
  "language_info": {
   "codemirror_mode": {
    "name": "ipython",
    "version": 3
   },
   "file_extension": ".py",
   "mimetype": "text/x-python",
   "name": "python",
   "nbconvert_exporter": "python",
   "pygments_lexer": "ipython3",
   "version": "3.5.2"
  },
  "widgets": {
   "state": {},
   "version": "1.1.2"
  }
 },
 "nbformat": 4,
 "nbformat_minor": 1
}
