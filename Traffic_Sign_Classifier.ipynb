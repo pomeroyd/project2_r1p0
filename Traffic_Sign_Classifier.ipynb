{
 "cells": [
  {
   "cell_type": "markdown",
   "metadata": {},
   "source": [
    "# Self-Driving Car Engineer Nanodegree\n",
    "\n",
    "## Deep Learning\n",
    "\n",
    "## Project: Build a Traffic Sign Recognition Classifier\n",
    "\n",
    "In this notebook, a template is provided for you to implement your functionality in stages, which is required to successfully complete this project. If additional code is required that cannot be included in the notebook, be sure that the Python code is successfully imported and included in your submission if necessary. \n",
    "\n",
    "> **Note**: Once you have completed all of the code implementations, you need to finalize your work by exporting the iPython Notebook as an HTML document. Before exporting the notebook to html, all of the code cells need to have been run so that reviewers can see the final implementation and output. You can then export the notebook by using the menu above and navigating to  \\n\",\n",
    "    \"**File -> Download as -> HTML (.html)**. Include the finished document along with this notebook as your submission. \n",
    "\n",
    "In addition to implementing code, there is a writeup to complete. The writeup should be completed in a separate file, which can be either a markdown file or a pdf document. There is a [write up template](https://github.com/udacity/CarND-Traffic-Sign-Classifier-Project/blob/master/writeup_template.md) that can be used to guide the writing process. Completing the code template and writeup template will cover all of the [rubric points](https://review.udacity.com/#!/rubrics/481/view) for this project.\n",
    "\n",
    "The [rubric](https://review.udacity.com/#!/rubrics/481/view) contains \"Stand Out Suggestions\" for enhancing the project beyond the minimum requirements. The stand out suggestions are optional. If you decide to pursue the \"stand out suggestions\", you can include the code in this Ipython notebook and also discuss the results in the writeup file.\n",
    "\n",
    "\n",
    ">**Note:** Code and Markdown cells can be executed using the **Shift + Enter** keyboard shortcut. In addition, Markdown cells can be edited by typically double-clicking the cell to enter edit mode."
   ]
  },
  {
   "cell_type": "markdown",
   "metadata": {},
   "source": [
    "---\n",
    "## Step 0: Load The Data"
   ]
  },
  {
   "cell_type": "code",
   "execution_count": 1,
   "metadata": {
    "collapsed": true
   },
   "outputs": [],
   "source": [
    "import matplotlib.pyplot as plt\n",
    "import tensorflow as tf\n",
    "import numpy as np\n",
    "from sklearn.metrics import confusion_matrix\n",
    "import time\n",
    "from datetime import timedelta\n",
    "import math\n",
    "import matplotlib.image as mpimg\n",
    "import cv2\n",
    "from IPython.display import Image"
   ]
  },
  {
   "cell_type": "code",
   "execution_count": 2,
   "metadata": {
    "collapsed": true
   },
   "outputs": [],
   "source": [
    "# Load pickled data\n",
    "import pickle\n",
    "\n",
    "# TODO: Fill this in based on where you saved the training and testing data\n",
    "\n",
    "training_file = \"train.p\"\n",
    "validation_file= \"valid.p\"\n",
    "testing_file = \"test.p\"\n",
    "\n",
    "with open(training_file, mode='rb') as f:\n",
    "    train = pickle.load(f)\n",
    "with open(validation_file, mode='rb') as f:\n",
    "    valid = pickle.load(f)\n",
    "with open(testing_file, mode='rb') as f:\n",
    "    test = pickle.load(f)\n",
    "    \n",
    "X_train, y_train = train['features'], train['labels']\n",
    "X_valid, y_valid = valid['features'], valid['labels']\n",
    "X_test, y_test = test['features'], test['labels']"
   ]
  },
  {
   "cell_type": "markdown",
   "metadata": {},
   "source": [
    "---\n",
    "\n",
    "## Step 1: Dataset Summary & Exploration\n",
    "\n",
    "The pickled data is a dictionary with 4 key/value pairs:\n",
    "\n",
    "- `'features'` is a 4D array containing raw pixel data of the traffic sign images, (num examples, width, height, channels).\n",
    "- `'labels'` is a 1D array containing the label/class id of the traffic sign. The file `signnames.csv` contains id -> name mappings for each id.\n",
    "- `'sizes'` is a list containing tuples, (width, height) representing the original width and height the image.\n",
    "- `'coords'` is a list containing tuples, (x1, y1, x2, y2) representing coordinates of a bounding box around the sign in the image. **THESE COORDINATES ASSUME THE ORIGINAL IMAGE. THE PICKLED DATA CONTAINS RESIZED VERSIONS (32 by 32) OF THESE IMAGES**\n",
    "\n",
    "Complete the basic data summary below. Use python, numpy and/or pandas methods to calculate the data summary rather than hard coding the results. For example, the [pandas shape method](http://pandas.pydata.org/pandas-docs/stable/generated/pandas.DataFrame.shape.html) might be useful for calculating some of the summary results. "
   ]
  },
  {
   "cell_type": "markdown",
   "metadata": {},
   "source": [
    "### Provide a Basic Summary of the Data Set Using Python, Numpy and/or Pandas"
   ]
  },
  {
   "cell_type": "code",
   "execution_count": 3,
   "metadata": {},
   "outputs": [
    {
     "name": "stdout",
     "output_type": "stream",
     "text": [
      "Number of training examples = 34800\n",
      "Number of testing examples = 4411\n",
      "Number of testing examples = 12631\n",
      "Image data shape = 32\n",
      "Number of classes = 43\n",
      "(34799, 32, 32, 3)\n",
      "uint8\n",
      "(4410, 32, 32, 3)\n",
      "uint8\n",
      "(12630, 32, 32, 3)\n",
      "uint8\n"
     ]
    }
   ],
   "source": [
    "### Replace each question mark with the appropriate value. \n",
    "### Use python, pandas or numpy methods rather than hard coding the results\n",
    "\n",
    "# TODO: Number of training examples\n",
    "n_train = X_train.shape[0]+1\n",
    "\n",
    "# TODO: Number of validation examples\n",
    "n_validation = X_valid.shape[0]+1\n",
    "\n",
    "# TODO: Number of testing examples.\n",
    "n_test = X_test.shape[0]+1\n",
    "\n",
    "# TODO: What's the shape of an traffic sign image?\n",
    "image_shape = X_train.shape[1]\n",
    "\n",
    "# TODO: How many unique classes/labels there are in the dataset.\n",
    "n_classes = len(set(train['labels']))\n",
    "\n",
    "print(\"Number of training examples =\", n_train)\n",
    "\n",
    "print(\"Number of testing examples =\", n_validation)\n",
    "print(\"Number of testing examples =\", n_test)\n",
    "print(\"Image data shape =\", image_shape)\n",
    "print(\"Number of classes =\", n_classes)\n",
    "\n",
    "print (X_train.shape)\n",
    "print (X_train.dtype)\n",
    "print (X_valid.shape)\n",
    "print (X_valid.dtype)\n",
    "print (X_test.shape)\n",
    "print (X_test.dtype)"
   ]
  },
  {
   "cell_type": "code",
   "execution_count": null,
   "metadata": {
    "collapsed": true
   },
   "outputs": [],
   "source": [
    "#Decided not to use grayscale \n",
    "\n",
    "import cv2\n",
    "\n",
    "def rbg_to_gray(array):\n",
    "    \n",
    "        #fs for features\n",
    "\n",
    "        fs = []\n",
    "\n",
    "        for i in range(0,array.shape[0]):\n",
    "\n",
    "            image = array[i]\n",
    "\n",
    "            gray_image = cv2.cvtColor(image, cv2.COLOR_BGR2GRAY)\n",
    "            gray_image_32x32x1 = np.expand_dims(gray_image, axis=2)\n",
    "\n",
    "            fs.append(gray_image_32x32x1)\n",
    "            \n",
    "        return np.array(fs)\n",
    "\n",
    "\n",
    "#X_train = rbg_to_gray(X_train)\n",
    "\n",
    "#X_valid = rbg_to_gray(X_valid)\n",
    "\n",
    "\n",
    "#X_test = rbg_to_gray(X_test)\n",
    "\n",
    "#this is for testing 5 images later\n",
    "#my_test_X =rbg_to_gray(my_test_X)\n",
    "\n",
    "print (X_train.shape)\n",
    "print (X_valid.shape)\n",
    "print (X_test.shape)"
   ]
  },
  {
   "cell_type": "code",
   "execution_count": null,
   "metadata": {
    "collapsed": true
   },
   "outputs": [],
   "source": []
  },
  {
   "cell_type": "code",
   "execution_count": null,
   "metadata": {
    "collapsed": true
   },
   "outputs": [],
   "source": []
  },
  {
   "cell_type": "code",
   "execution_count": null,
   "metadata": {
    "collapsed": true
   },
   "outputs": [],
   "source": []
  },
  {
   "cell_type": "markdown",
   "metadata": {},
   "source": [
    "### Include an exploratory visualization of the dataset"
   ]
  },
  {
   "cell_type": "markdown",
   "metadata": {},
   "source": [
    "Visualize the German Traffic Signs Dataset using the pickled file(s). This is open ended, suggestions include: plotting traffic sign images, plotting the count of each sign, etc. \n",
    "\n",
    "The [Matplotlib](http://matplotlib.org/) [examples](http://matplotlib.org/examples/index.html) and [gallery](http://matplotlib.org/gallery.html) pages are a great resource for doing visualizations in Python.\n",
    "\n",
    "**NOTE:** It's recommended you start with something simple first. If you wish to do more, come back to it after you've completed the rest of the sections. It can be interesting to look at the distribution of classes in the training, validation and test set. Is the distribution the same? Are there more examples of some classes than others?"
   ]
  },
  {
   "cell_type": "code",
   "execution_count": 4,
   "metadata": {},
   "outputs": [
    {
     "name": "stdout",
     "output_type": "stream",
     "text": [
      "image label =  5\n"
     ]
    },
    {
     "data": {
      "image/png": "[encoded data removed]",
      "text/plain": [
       "<matplotlib.figure.Figure at 0x7f4ac3034860>"
      ]
     },
     "metadata": {},
     "output_type": "display_data"
    }
   ],
   "source": [
    "### Data exploration visualization code goes here.\n",
    "### Feel free to use as many code cells as needed.\n",
    "import matplotlib.pyplot as plt\n",
    "# Visualizations will be shown in the notebook.\n",
    "\n",
    "%matplotlib inline\n",
    "\n",
    "import random\n",
    "import numpy as np\n",
    "import matplotlib.pyplot as plt\n",
    "%matplotlib inline\n",
    "\n",
    "index = random.randint(0, len(X_train))\n",
    "image = X_train[index].squeeze()\n",
    "\n",
    "plt.figure(figsize=(5,5))\n",
    "plt.imshow(image)\n",
    "\n",
    "print(\"image label = \",y_train[index])"
   ]
  },
  {
   "cell_type": "code",
   "execution_count": 5,
   "metadata": {},
   "outputs": [
    {
     "name": "stdout",
     "output_type": "stream",
     "text": [
      "data type = uint8\n",
      "shape =  (32, 32, 3)\n",
      "[ 51.  53.  65. ...,  24.  27.  38.]\n",
      "float32\n"
     ]
    }
   ],
   "source": [
    "#print(image)\n",
    "print(\"data type =\",image.dtype)\n",
    "print(\"shape = \",image.shape)\n",
    "f = np.array(image, dtype=np.float32).flatten()\n",
    "print(f)\n",
    "print(f.dtype)"
   ]
  },
  {
   "cell_type": "code",
   "execution_count": null,
   "metadata": {
    "collapsed": true
   },
   "outputs": [],
   "source": []
  },
  {
   "cell_type": "code",
   "execution_count": 6,
   "metadata": {},
   "outputs": [
    {
     "name": "stdout",
     "output_type": "stream",
     "text": [
      "data type = uint8\n",
      "shape =  (32, 32, 3)\n"
     ]
    },
    {
     "data": {
      "text/plain": [
       "<matplotlib.image.AxesImage at 0x7f4ac2a84da0>"
      ]
     },
     "execution_count": 6,
     "metadata": {},
     "output_type": "execute_result"
    },
    {
     "data": {
      "image/png": "[encoded data removed]",
      "text/plain": [
       "<matplotlib.figure.Figure at 0x7f4ac2feaef0>"
      ]
     },
     "metadata": {},
     "output_type": "display_data"
    }
   ],
   "source": [
    "import scipy.ndimage\n",
    "\n",
    "def create_new_image(my_image):\n",
    "    force = random.choice([True, False])\n",
    "    if (force):\n",
    "        my_image = scipy.ndimage.interpolation.shift(my_image, [random.randrange(-2, 2), random.randrange(-2, 2), 0])\n",
    "    else:\n",
    "        my_image = scipy.ndimage.interpolation.rotate(my_image, random.randrange(-10, 10), reshape=False)\n",
    "    return my_image\n",
    "\n",
    "new_image = create_new_image(image)\n",
    "print(\"data type =\",new_image.dtype)\n",
    "print(\"shape = \",new_image.shape)\n",
    "\n",
    "\n",
    "plt.figure(figsize=(5,5))\n",
    "plt.imshow(new_image)\n"
   ]
  },
  {
   "cell_type": "code",
   "execution_count": 7,
   "metadata": {},
   "outputs": [
    {
     "name": "stdout",
     "output_type": "stream",
     "text": [
      "data type = uint8\n",
      "shape =  (32, 32, 3)\n",
      "[[[ 0  0  0]\n",
      "  [ 0  0  0]\n",
      "  [ 0  0  0]\n",
      "  ..., \n",
      "  [ 0  0  0]\n",
      "  [ 0  0  0]\n",
      "  [ 0  0  0]]\n",
      "\n",
      " [[ 0  0  0]\n",
      "  [ 0  0  0]\n",
      "  [48 52 60]\n",
      "  ..., \n",
      "  [ 0  0  0]\n",
      "  [ 0  0  0]\n",
      "  [ 0  0  0]]\n",
      "\n",
      " [[ 0  0  0]\n",
      "  [ 0  0  0]\n",
      "  [42 44 52]\n",
      "  ..., \n",
      "  [30 35 39]\n",
      "  [33 34 42]\n",
      "  [ 0  0  0]]\n",
      "\n",
      " ..., \n",
      " [[ 0  0  0]\n",
      "  [18 19 24]\n",
      "  [16 18 23]\n",
      "  ..., \n",
      "  [23 26 33]\n",
      "  [ 0  0  0]\n",
      "  [ 0  0  0]]\n",
      "\n",
      " [[ 0  0  0]\n",
      "  [ 0  0  0]\n",
      "  [ 0  0  0]\n",
      "  ..., \n",
      "  [23 25 34]\n",
      "  [ 0  0  0]\n",
      "  [ 0  0  0]]\n",
      "\n",
      " [[ 0  0  0]\n",
      "  [ 0  0  0]\n",
      "  [ 0  0  0]\n",
      "  ..., \n",
      "  [ 0  0  0]\n",
      "  [ 0  0  0]\n",
      "  [ 0  0  0]]]\n"
     ]
    },
    {
     "data": {
      "image/png": "[encoded data removed]",
      "text/plain": [
       "<matplotlib.figure.Figure at 0x7f4ac2fcf9e8>"
      ]
     },
     "metadata": {},
     "output_type": "display_data"
    }
   ],
   "source": [
    "new_image = scipy.ndimage.interpolation.rotate(image, random.randrange(-10, 10), reshape=False)\n",
    "print(\"data type =\",new_image.dtype)\n",
    "print(\"shape = \",new_image.shape)\n",
    "\n",
    "\n",
    "plt.figure(figsize=(5,5))\n",
    "plt.imshow(new_image)\n",
    "print(new_image)"
   ]
  },
  {
   "cell_type": "code",
   "execution_count": 8,
   "metadata": {},
   "outputs": [
    {
     "name": "stdout",
     "output_type": "stream",
     "text": [
      "False\n"
     ]
    },
    {
     "data": {
      "text/plain": [
       "<Container object of 43 artists>"
      ]
     },
     "execution_count": 8,
     "metadata": {},
     "output_type": "execute_result"
    },
    {
     "data": {
      "image/png": "[encoded data removed]",
      "text/plain": [
       "<matplotlib.figure.Figure at 0x7f4ac3034278>"
      ]
     },
     "metadata": {},
     "output_type": "display_data"
    }
   ],
   "source": [
    "print(401% 100 == 0)\n",
    "\n",
    "hist = []\n",
    "for i in range(43):\n",
    "    hist.append(np.sum(y_train == i))\n",
    "    \n",
    "plt.bar(range(43), hist)"
   ]
  },
  {
   "cell_type": "code",
   "execution_count": 9,
   "metadata": {},
   "outputs": [
    {
     "name": "stdout",
     "output_type": "stream",
     "text": [
      "max number per class train =  2010\n",
      "add this number of new images train =  [1830   30    0  750  240  360 1650  720  750  690  210  840  120   90 1320\n",
      " 1470 1650 1020  930 1830 1710 1740 1680 1560 1770  660 1470 1800 1530 1770\n",
      " 1620 1320 1800 1411 1650  930 1680 1830  150 1740 1710 1800 1800]\n"
     ]
    },
    {
     "data": {
      "text/plain": [
       "<Container object of 43 artists>"
      ]
     },
     "execution_count": 9,
     "metadata": {},
     "output_type": "execute_result"
    },
    {
     "data": {
      "image/png": "[encoded data removed]",
      "text/plain": [
       "<matplotlib.figure.Figure at 0x7f4ac3034048>"
      ]
     },
     "metadata": {},
     "output_type": "display_data"
    }
   ],
   "source": [
    "import scipy.ndimage\n",
    "\n",
    "# Set up number of new images to create for training data\n",
    "inputs_per_class_train = np.bincount(y_train)\n",
    "max_inputs_train = np.max(inputs_per_class_train)\n",
    "print(\"max number per class train = \",max_inputs_train)\n",
    "diff_per_class_train= max_inputs_train -inputs_per_class_train\n",
    "print(\"add this number of new images train = \", diff_per_class_train)\n",
    "\n",
    "#This should be inverted version of above histogram\n",
    "\n",
    "    \n",
    "plt.bar(range(43), diff_per_class_train)\n"
   ]
  },
  {
   "cell_type": "code",
   "execution_count": 8,
   "metadata": {},
   "outputs": [
    {
     "name": "stdout",
     "output_type": "stream",
     "text": [
      "max number per class valid =  240\n",
      "add this number of new images train =  [210   0   0  90  30  30 180  90  90  90  30  90  30   0 150 150 180 120\n",
      " 120 210 180 180 180 180 210  90 180 210 180 210 180 150 210 150 180 120\n",
      " 180 210  30 210 180 210 210]\n"
     ]
    },
    {
     "data": {
      "text/plain": [
       "<Container object of 43 artists>"
      ]
     },
     "execution_count": 8,
     "metadata": {},
     "output_type": "execute_result"
    },
    {
     "data": {
      "image/png": "[encoded data removed]",
      "text/plain": [
       "<matplotlib.figure.Figure at 0x7f34d17d1cf8>"
      ]
     },
     "metadata": {},
     "output_type": "display_data"
    }
   ],
   "source": [
    "# Set up number of new images to create for validation data\n",
    "inputs_per_class_valid = np.bincount(y_valid)\n",
    "max_inputs_valid = np.max(inputs_per_class_valid)\n",
    "print(\"max number per class valid = \",max_inputs_valid)\n",
    "diff_per_class_valid= max_inputs_valid -inputs_per_class_valid\n",
    "print(\"add this number of new images train = \", diff_per_class_valid)\n",
    "\n",
    "#This should be inverted version of above histogram\n",
    "\n",
    "    \n",
    "plt.bar(range(43), diff_per_class_valid)"
   ]
  },
  {
   "cell_type": "code",
   "execution_count": 9,
   "metadata": {},
   "outputs": [
    {
     "name": "stdout",
     "output_type": "stream",
     "text": [
      "(34799, 32, 32, 3)\n",
      "uint8\n",
      "(4410, 32, 32, 3)\n",
      "uint8\n",
      "(12630, 32, 32, 3)\n",
      "uint8\n"
     ]
    }
   ],
   "source": [
    "print (X_train.shape)\n",
    "print (X_train.dtype)\n",
    "print (X_valid.shape)\n",
    "print (X_valid.dtype)\n",
    "print (X_test.shape)\n",
    "print (X_test.dtype)"
   ]
  },
  {
   "cell_type": "code",
   "execution_count": null,
   "metadata": {
    "collapsed": true
   },
   "outputs": [],
   "source": [
    "#Create new number of images from each class of training data according to above histogram\n",
    "\n",
    "X_train_new = np.zeros([1,32,32,3])\n",
    "y_train_new = np.zeros([1])\n",
    "\n",
    "for class_no in range(len(inputs_per_class_train)):\n",
    "    \n",
    "    print(\"class no = \",class_no)\n",
    "    where_am_i = np.where(y_train == class_no)\n",
    "    \n",
    "    input_ratio = int(max_inputs_train / inputs_per_class_train[class_no]) - 1\n",
    "    if(input_ratio <=1):\n",
    "        input_ratio = 1\n",
    "    print(\"input_ratio = \",input_ratio)\n",
    "    \n",
    "    #Loop through mask of images in the class input_ratio number of times\n",
    "    #Initial limit is when each class will have 2010 images including original data set.\n",
    "    #This is too many. Only create 20% of that\n",
    "    count = 0\n",
    "    #Set limit to 20% of original expected new images\n",
    "    limit = diff_per_class_train[class_no]*0.02\n",
    "    print(\"create \",limit,\" new images\")\n",
    "    while(count <=limit):\n",
    "        print(\"count number of new images = \",count)\n",
    "        for x in X_train[where_am_i]:\n",
    "            if(count % 100 == 0):\n",
    "                print(\"count number of new images = \",count)\n",
    "            new_image = create_new_image(x)\n",
    "            new_image = np.expand_dims(new_image, axis=0)\n",
    "            \n",
    "            if(count ==0):\n",
    "                X_train_new[0] = new_image\n",
    "                y_train_new[0] = class_no\n",
    "                count= count+1\n",
    "            elif(count<=limit):\n",
    "                X_train_new = np.vstack((X_train_new,new_image)) \n",
    "                y_train_new = np.vstack((y_train_new,class_no))\n",
    "                count= count+1\n",
    "            \n",
    "\n",
    "print(\"Done\")\n",
    "print(\"X_train_new shape = \",X_train_new.shape)     \n",
    "print(\"y_train_new shape = \",y_train_new.shape)\n",
    "y_train_new = np.squeeze(y_train_new, axis=(1,))\n",
    "print(\"y_train_new shape = \",y_train_new.shape)\n",
    "\n",
    "hist = []\n",
    "for i in range(43):\n",
    "    hist.append(np.sum(y_train_new == i))\n",
    "    \n",
    "plt.bar(range(43), hist)\n"
   ]
  },
  {
   "cell_type": "code",
   "execution_count": 10,
   "metadata": {},
   "outputs": [
    {
     "name": "stdout",
     "output_type": "stream",
     "text": [
      "class no =  0\n",
      "input_ratio =  7\n",
      "create  21.0  new images\n",
      "count number of new images =  0\n",
      "count number of new images =  0\n",
      "class no =  1\n",
      "input_ratio =  1\n",
      "create  0.0  new images\n",
      "count number of new images =  0\n",
      "count number of new images =  0\n",
      "class no =  2\n",
      "input_ratio =  1\n",
      "create  0.0  new images\n",
      "count number of new images =  0\n",
      "count number of new images =  0\n",
      "class no =  3\n",
      "input_ratio =  1\n",
      "create  9.0  new images\n",
      "count number of new images =  0\n",
      "count number of new images =  0\n",
      "class no =  4\n",
      "input_ratio =  1\n",
      "create  3.0  new images\n",
      "count number of new images =  0\n",
      "count number of new images =  0\n",
      "class no =  5\n",
      "input_ratio =  1\n",
      "create  3.0  new images\n",
      "count number of new images =  0\n",
      "count number of new images =  0\n",
      "class no =  6\n",
      "input_ratio =  3\n",
      "create  18.0  new images\n",
      "count number of new images =  0\n",
      "count number of new images =  0\n",
      "class no =  7\n",
      "input_ratio =  1\n",
      "create  9.0  new images\n",
      "count number of new images =  0\n",
      "count number of new images =  0\n",
      "class no =  8\n",
      "input_ratio =  1\n",
      "create  9.0  new images\n",
      "count number of new images =  0\n",
      "count number of new images =  0\n",
      "class no =  9\n",
      "input_ratio =  1\n",
      "create  9.0  new images\n",
      "count number of new images =  0\n",
      "count number of new images =  0\n",
      "class no =  10\n",
      "input_ratio =  1\n",
      "create  3.0  new images\n",
      "count number of new images =  0\n",
      "count number of new images =  0\n",
      "class no =  11\n",
      "input_ratio =  1\n",
      "create  9.0  new images\n",
      "count number of new images =  0\n",
      "count number of new images =  0\n",
      "class no =  12\n",
      "input_ratio =  1\n",
      "create  3.0  new images\n",
      "count number of new images =  0\n",
      "count number of new images =  0\n",
      "class no =  13\n",
      "input_ratio =  1\n",
      "create  0.0  new images\n",
      "count number of new images =  0\n",
      "count number of new images =  0\n",
      "class no =  14\n",
      "input_ratio =  1\n",
      "create  15.0  new images\n",
      "count number of new images =  0\n",
      "count number of new images =  0\n",
      "class no =  15\n",
      "input_ratio =  1\n",
      "create  15.0  new images\n",
      "count number of new images =  0\n",
      "count number of new images =  0\n",
      "class no =  16\n",
      "input_ratio =  3\n",
      "create  18.0  new images\n",
      "count number of new images =  0\n",
      "count number of new images =  0\n",
      "class no =  17\n",
      "input_ratio =  1\n",
      "create  12.0  new images\n",
      "count number of new images =  0\n",
      "count number of new images =  0\n",
      "class no =  18\n",
      "input_ratio =  1\n",
      "create  12.0  new images\n",
      "count number of new images =  0\n",
      "count number of new images =  0\n",
      "class no =  19\n",
      "input_ratio =  7\n",
      "create  21.0  new images\n",
      "count number of new images =  0\n",
      "count number of new images =  0\n",
      "class no =  20\n",
      "input_ratio =  3\n",
      "create  18.0  new images\n",
      "count number of new images =  0\n",
      "count number of new images =  0\n",
      "class no =  21\n",
      "input_ratio =  3\n",
      "create  18.0  new images\n",
      "count number of new images =  0\n",
      "count number of new images =  0\n",
      "class no =  22\n",
      "input_ratio =  3\n",
      "create  18.0  new images\n",
      "count number of new images =  0\n",
      "count number of new images =  0\n",
      "class no =  23\n",
      "input_ratio =  3\n",
      "create  18.0  new images\n",
      "count number of new images =  0\n",
      "count number of new images =  0\n",
      "class no =  24\n",
      "input_ratio =  7\n",
      "create  21.0  new images\n",
      "count number of new images =  0\n",
      "count number of new images =  0\n",
      "class no =  25\n",
      "input_ratio =  1\n",
      "create  9.0  new images\n",
      "count number of new images =  0\n",
      "count number of new images =  0\n",
      "class no =  26\n",
      "input_ratio =  3\n",
      "create  18.0  new images\n",
      "count number of new images =  0\n",
      "count number of new images =  0\n",
      "class no =  27\n",
      "input_ratio =  7\n",
      "create  21.0  new images\n",
      "count number of new images =  0\n",
      "count number of new images =  0\n",
      "class no =  28\n",
      "input_ratio =  3\n",
      "create  18.0  new images\n",
      "count number of new images =  0\n",
      "count number of new images =  0\n",
      "class no =  29\n",
      "input_ratio =  7\n",
      "create  21.0  new images\n",
      "count number of new images =  0\n",
      "count number of new images =  0\n",
      "class no =  30\n",
      "input_ratio =  3\n",
      "create  18.0  new images\n",
      "count number of new images =  0\n",
      "count number of new images =  0\n",
      "class no =  31\n",
      "input_ratio =  1\n",
      "create  15.0  new images\n",
      "count number of new images =  0\n",
      "count number of new images =  0\n",
      "class no =  32\n",
      "input_ratio =  7\n",
      "create  21.0  new images\n",
      "count number of new images =  0\n",
      "count number of new images =  0\n",
      "class no =  33\n",
      "input_ratio =  1\n",
      "create  15.0  new images\n",
      "count number of new images =  0\n",
      "count number of new images =  0\n",
      "class no =  34\n",
      "input_ratio =  3\n",
      "create  18.0  new images\n",
      "count number of new images =  0\n",
      "count number of new images =  0\n",
      "class no =  35\n",
      "input_ratio =  1\n",
      "create  12.0  new images\n",
      "count number of new images =  0\n",
      "count number of new images =  0\n",
      "class no =  36\n",
      "input_ratio =  3\n",
      "create  18.0  new images\n",
      "count number of new images =  0\n",
      "count number of new images =  0\n",
      "class no =  37\n",
      "input_ratio =  7\n",
      "create  21.0  new images\n",
      "count number of new images =  0\n",
      "count number of new images =  0\n",
      "class no =  38\n",
      "input_ratio =  1\n",
      "create  3.0  new images\n",
      "count number of new images =  0\n",
      "count number of new images =  0\n",
      "class no =  39\n",
      "input_ratio =  7\n",
      "create  21.0  new images\n",
      "count number of new images =  0\n",
      "count number of new images =  0\n",
      "class no =  40\n",
      "input_ratio =  3\n",
      "create  18.0  new images\n",
      "count number of new images =  0\n",
      "count number of new images =  0\n",
      "class no =  41\n",
      "input_ratio =  7\n",
      "create  21.0  new images\n",
      "count number of new images =  0\n",
      "count number of new images =  0\n",
      "class no =  42\n",
      "input_ratio =  7\n",
      "create  21.0  new images\n",
      "count number of new images =  0\n",
      "count number of new images =  0\n",
      "Done\n",
      "X_valid_new shape =  (592, 32, 32, 3)\n",
      "y_valid_new shape =  (592, 1)\n",
      "y_valid_new shape =  (592,)\n"
     ]
    },
    {
     "data": {
      "text/plain": [
       "<Container object of 43 artists>"
      ]
     },
     "execution_count": 10,
     "metadata": {},
     "output_type": "execute_result"
    },
    {
     "data": {
      "image/png": "[encoded data removed]",
      "text/plain": [
       "<matplotlib.figure.Figure at 0x7f350cc34278>"
      ]
     },
     "metadata": {},
     "output_type": "display_data"
    }
   ],
   "source": [
    "#Create new number of images from each class of validation data according to above histogram\n",
    "\n",
    "X_valid_new = np.zeros([1,32,32,3])\n",
    "y_valid_new = np.zeros([1])\n",
    "\n",
    "for class_no in range(len(inputs_per_class_valid)):\n",
    "    \n",
    "    print(\"class no = \",class_no)\n",
    "    where_am_i = np.where(y_valid == class_no)\n",
    "    \n",
    "    input_ratio = int(max_inputs_valid / inputs_per_class_valid[class_no]) - 1\n",
    "    if(input_ratio <=1):\n",
    "        input_ratio = 1\n",
    "    print(\"input_ratio = \",input_ratio)\n",
    "    \n",
    "    #Loop through mask of images in the class input_ratio number of times\n",
    "    #Initial limit is when each class will have 2010 images including original data set.\n",
    "    #This is too many. Only create 20% of that\n",
    "    count = 0\n",
    "    #Set limit to 10% of original expected new images\n",
    "    limit = diff_per_class_valid[class_no]*0.1\n",
    "    print(\"create \",limit,\" new images\")\n",
    "    while(count <=limit):\n",
    "        print(\"count number of new images = \",count)\n",
    "        for x in X_valid[where_am_i]:\n",
    "            if(count % 100 == 0):\n",
    "                print(\"count number of new images = \",count)\n",
    "            new_image = create_new_image(x)\n",
    "            new_image = np.expand_dims(new_image, axis=0)\n",
    "            \n",
    "            if(count ==0):\n",
    "                X_valid_new[0] = new_image\n",
    "                y_valid_new[0] = class_no\n",
    "                count= count+1\n",
    "            elif(count<=limit):\n",
    "                X_valid_new = np.vstack((X_valid_new,new_image)) \n",
    "                y_valid_new = np.vstack((y_valid_new,class_no))\n",
    "                count= count+1\n",
    "            \n",
    "\n",
    "print(\"Done\")\n",
    "print(\"X_valid_new shape = \",X_valid_new.shape)     \n",
    "print(\"y_valid_new shape = \",y_valid_new.shape)\n",
    "y_valid_new = np.squeeze(y_valid_new, axis=(1,))\n",
    "print(\"y_valid_new shape = \",y_valid_new.shape)\n",
    "\n",
    "hist = []\n",
    "for i in range(43):\n",
    "    hist.append(np.sum(y_valid_new == i))\n",
    "    \n",
    "plt.bar(range(43), hist)\n"
   ]
  },
  {
   "cell_type": "code",
   "execution_count": 11,
   "metadata": {},
   "outputs": [
    {
     "ename": "NameError",
     "evalue": "name 'X_train_new' is not defined",
     "output_type": "error",
     "traceback": [
      "\u001b[0;31m---------------------------------------------------------------------------\u001b[0m",
      "\u001b[0;31mNameError\u001b[0m                                 Traceback (most recent call last)",
      "\u001b[0;32m<ipython-input-11-f9b902adfd65>\u001b[0m in \u001b[0;36m<module>\u001b[0;34m()\u001b[0m\n\u001b[1;32m      1\u001b[0m \u001b[0;31m#Change data back to uint8\u001b[0m\u001b[0;34m\u001b[0m\u001b[0;34m\u001b[0m\u001b[0m\n\u001b[0;32m----> 2\u001b[0;31m \u001b[0mprint\u001b[0m\u001b[0;34m(\u001b[0m\u001b[0;34m\"X_train new shape =\"\u001b[0m\u001b[0;34m,\u001b[0m \u001b[0mX_train_new\u001b[0m\u001b[0;34m.\u001b[0m\u001b[0mshape\u001b[0m\u001b[0;34m)\u001b[0m\u001b[0;34m\u001b[0m\u001b[0m\n\u001b[0m\u001b[1;32m      3\u001b[0m \u001b[0mprint\u001b[0m\u001b[0;34m(\u001b[0m\u001b[0;34m\"X_train new dtype = \"\u001b[0m\u001b[0;34m,\u001b[0m\u001b[0mX_train_new\u001b[0m\u001b[0;34m.\u001b[0m\u001b[0mdtype\u001b[0m\u001b[0;34m)\u001b[0m\u001b[0;34m\u001b[0m\u001b[0m\n\u001b[1;32m      4\u001b[0m \u001b[0mprint\u001b[0m\u001b[0;34m(\u001b[0m\u001b[0;34m\"y_train new shape =\"\u001b[0m\u001b[0;34m,\u001b[0m \u001b[0my_train_new\u001b[0m\u001b[0;34m.\u001b[0m\u001b[0mshape\u001b[0m\u001b[0;34m)\u001b[0m\u001b[0;34m\u001b[0m\u001b[0m\n\u001b[1;32m      5\u001b[0m \u001b[0mprint\u001b[0m\u001b[0;34m(\u001b[0m\u001b[0;34m\"y_train new dtype = \"\u001b[0m\u001b[0;34m,\u001b[0m\u001b[0my_train_new\u001b[0m\u001b[0;34m.\u001b[0m\u001b[0mdtype\u001b[0m\u001b[0;34m)\u001b[0m\u001b[0;34m\u001b[0m\u001b[0m\n",
      "\u001b[0;31mNameError\u001b[0m: name 'X_train_new' is not defined"
     ]
    }
   ],
   "source": [
    "#Change data back to uint8\n",
    "print(\"X_train new shape =\", X_train_new.shape)\n",
    "print(\"X_train new dtype = \",X_train_new.dtype)\n",
    "print(\"y_train new shape =\", y_train_new.shape)\n",
    "print(\"y_train new dtype = \",y_train_new.dtype)"
   ]
  },
  {
   "cell_type": "code",
   "execution_count": null,
   "metadata": {
    "collapsed": true
   },
   "outputs": [],
   "source": [
    "# Save the augmented training data set, so we don't have to create it everytime \n",
    "\n",
    "training_X_new_file = \"X_train_new.p\"\n",
    "training_y_new_file = \"y_train_new.p\"\n",
    "\n",
    "#validation_preprocessed_file = \"data/X_valid_preprocessed.p\"\n",
    "#testing_preprocessed_file = \"data/X_test_preprocessed.p\"\n",
    "\n",
    "pickle.dump(X_train_new, open(training_X_new_file, \"wb\" ))\n",
    "pickle.dump(y_train_new, open(training_y_new_file, \"wb\" ))\n",
    "\n",
    "\n",
    "print(\"done\")\n"
   ]
  },
  {
   "cell_type": "code",
   "execution_count": 12,
   "metadata": {},
   "outputs": [
    {
     "name": "stdout",
     "output_type": "stream",
     "text": [
      "X_valid new shape = (592, 32, 32, 3)\n",
      "X_valid new dtype =  float64\n",
      "y_valid new shape = (592,)\n",
      "y_valid new dtype =  float64\n"
     ]
    }
   ],
   "source": [
    "#Change data back to uint8\n",
    "print(\"X_valid new shape =\", X_valid_new.shape)\n",
    "print(\"X_valid new dtype = \",X_valid_new.dtype)\n",
    "print(\"y_valid new shape =\", y_valid_new.shape)\n",
    "print(\"y_valid new dtype = \",y_valid_new.dtype)"
   ]
  },
  {
   "cell_type": "code",
   "execution_count": 13,
   "metadata": {},
   "outputs": [
    {
     "name": "stdout",
     "output_type": "stream",
     "text": [
      "[[[[13 12 12]\n",
      "   [12 11 12]\n",
      "   [13 11 11]\n",
      "   ..., \n",
      "   [14 12 11]\n",
      "   [13 12 11]\n",
      "   [12 12 11]]\n",
      "\n",
      "  [[13 12 13]\n",
      "   [12 11 12]\n",
      "   [13 12 12]\n",
      "   ..., \n",
      "   [13 12 11]\n",
      "   [13 12 11]\n",
      "   [12 12 11]]\n",
      "\n",
      "  [[13 12 13]\n",
      "   [12 11 12]\n",
      "   [12 12 12]\n",
      "   ..., \n",
      "   [13 12 11]\n",
      "   [13 12 11]\n",
      "   [12 12 11]]\n",
      "\n",
      "  ..., \n",
      "  [[16 15 15]\n",
      "   [15 14 14]\n",
      "   [15 15 15]\n",
      "   ..., \n",
      "   [13 12 12]\n",
      "   [14 13 13]\n",
      "   [14 13 13]]\n",
      "\n",
      "  [[18 16 16]\n",
      "   [17 15 15]\n",
      "   [18 16 16]\n",
      "   ..., \n",
      "   [12 11 11]\n",
      "   [13 12 12]\n",
      "   [14 13 13]]\n",
      "\n",
      "  [[19 17 17]\n",
      "   [18 16 16]\n",
      "   [19 17 17]\n",
      "   ..., \n",
      "   [12 12 12]\n",
      "   [13 13 13]\n",
      "   [15 14 14]]]\n",
      "\n",
      "\n",
      " [[[14 12 12]\n",
      "   [12 12 12]\n",
      "   [12 13 13]\n",
      "   ..., \n",
      "   [15 12 11]\n",
      "   [14 13 12]\n",
      "   [13 13 12]]\n",
      "\n",
      "  [[13 12 12]\n",
      "   [12 12 13]\n",
      "   [13 13 13]\n",
      "   ..., \n",
      "   [14 13 11]\n",
      "   [15 14 13]\n",
      "   [13 13 12]]\n",
      "\n",
      "  [[12 12 12]\n",
      "   [12 12 13]\n",
      "   [12 12 12]\n",
      "   ..., \n",
      "   [13 12 11]\n",
      "   [14 13 12]\n",
      "   [13 12 12]]\n",
      "\n",
      "  ..., \n",
      "  [[15 14 14]\n",
      "   [15 14 14]\n",
      "   [14 13 13]\n",
      "   ..., \n",
      "   [14 14 14]\n",
      "   [14 15 14]\n",
      "   [13 13 12]]\n",
      "\n",
      "  [[16 15 15]\n",
      "   [16 15 15]\n",
      "   [16 15 15]\n",
      "   ..., \n",
      "   [13 13 12]\n",
      "   [13 14 13]\n",
      "   [13 13 12]]\n",
      "\n",
      "  [[16 16 16]\n",
      "   [17 16 16]\n",
      "   [18 16 16]\n",
      "   ..., \n",
      "   [12 12 11]\n",
      "   [13 13 12]\n",
      "   [14 14 12]]]\n",
      "\n",
      "\n",
      " [[[13 11 11]\n",
      "   [12 11 12]\n",
      "   [12 12 12]\n",
      "   ..., \n",
      "   [15 12 12]\n",
      "   [12 12 11]\n",
      "   [12 13 12]]\n",
      "\n",
      "  [[13 12 12]\n",
      "   [12 11 12]\n",
      "   [13 12 12]\n",
      "   ..., \n",
      "   [14 12 12]\n",
      "   [12 12 11]\n",
      "   [13 13 11]]\n",
      "\n",
      "  [[12 11 11]\n",
      "   [13 12 12]\n",
      "   [14 12 12]\n",
      "   ..., \n",
      "   [12 12 12]\n",
      "   [11 12 11]\n",
      "   [13 13 12]]\n",
      "\n",
      "  ..., \n",
      "  [[13 13 13]\n",
      "   [14 14 14]\n",
      "   [14 14 14]\n",
      "   ..., \n",
      "   [12 12 13]\n",
      "   [14 14 13]\n",
      "   [13 13 12]]\n",
      "\n",
      "  [[16 16 15]\n",
      "   [16 16 15]\n",
      "   [15 16 15]\n",
      "   ..., \n",
      "   [11 11 11]\n",
      "   [12 12 12]\n",
      "   [14 14 13]]\n",
      "\n",
      "  [[19 18 17]\n",
      "   [17 17 16]\n",
      "   [17 17 16]\n",
      "   ..., \n",
      "   [12 12 12]\n",
      "   [13 13 13]\n",
      "   [13 13 12]]]\n",
      "\n",
      "\n",
      " ..., \n",
      " [[[62 64 65]\n",
      "   [61 62 66]\n",
      "   [63 61 62]\n",
      "   ..., \n",
      "   [49 47 48]\n",
      "   [47 46 49]\n",
      "   [47 47 49]]\n",
      "\n",
      "  [[58 60 62]\n",
      "   [57 59 63]\n",
      "   [59 59 62]\n",
      "   ..., \n",
      "   [51 47 50]\n",
      "   [49 46 49]\n",
      "   [48 46 49]]\n",
      "\n",
      "  [[56 55 59]\n",
      "   [55 54 58]\n",
      "   [55 54 57]\n",
      "   ..., \n",
      "   [52 50 51]\n",
      "   [50 47 50]\n",
      "   [48 46 49]]\n",
      "\n",
      "  ..., \n",
      "  [[50 49 52]\n",
      "   [55 50 51]\n",
      "   [50 46 47]\n",
      "   ..., \n",
      "   [45 43 43]\n",
      "   [46 44 43]\n",
      "   [46 43 43]]\n",
      "\n",
      "  [[57 49 52]\n",
      "   [56 49 50]\n",
      "   [56 51 53]\n",
      "   ..., \n",
      "   [45 42 43]\n",
      "   [45 43 44]\n",
      "   [45 43 44]]\n",
      "\n",
      "  [[60 50 51]\n",
      "   [58 47 49]\n",
      "   [58 47 48]\n",
      "   ..., \n",
      "   [44 43 44]\n",
      "   [46 44 44]\n",
      "   [46 44 44]]]\n",
      "\n",
      "\n",
      " [[[65 66 68]\n",
      "   [65 63 69]\n",
      "   [67 65 67]\n",
      "   ..., \n",
      "   [43 42 44]\n",
      "   [42 42 44]\n",
      "   [42 41 42]]\n",
      "\n",
      "  [[73 72 75]\n",
      "   [73 72 75]\n",
      "   [74 73 74]\n",
      "   ..., \n",
      "   [42 42 44]\n",
      "   [43 42 44]\n",
      "   [42 41 42]]\n",
      "\n",
      "  [[70 70 71]\n",
      "   [70 71 73]\n",
      "   [70 70 70]\n",
      "   ..., \n",
      "   [42 42 44]\n",
      "   [42 41 44]\n",
      "   [41 40 42]]\n",
      "\n",
      "  ..., \n",
      "  [[46 45 47]\n",
      "   [46 44 46]\n",
      "   [46 44 45]\n",
      "   ..., \n",
      "   [44 42 42]\n",
      "   [44 42 43]\n",
      "   [43 41 41]]\n",
      "\n",
      "  [[47 45 46]\n",
      "   [45 43 46]\n",
      "   [46 43 45]\n",
      "   ..., \n",
      "   [44 42 42]\n",
      "   [44 41 42]\n",
      "   [44 40 41]]\n",
      "\n",
      "  [[52 48 48]\n",
      "   [46 44 45]\n",
      "   [46 43 46]\n",
      "   ..., \n",
      "   [44 42 42]\n",
      "   [44 41 42]\n",
      "   [42 40 41]]]\n",
      "\n",
      "\n",
      " [[[66 65 66]\n",
      "   [64 62 63]\n",
      "   [64 64 65]\n",
      "   ..., \n",
      "   [37 37 38]\n",
      "   [37 37 38]\n",
      "   [38 37 39]]\n",
      "\n",
      "  [[58 58 58]\n",
      "   [60 56 56]\n",
      "   [55 55 56]\n",
      "   ..., \n",
      "   [37 37 38]\n",
      "   [37 36 38]\n",
      "   [36 36 37]]\n",
      "\n",
      "  [[64 64 65]\n",
      "   [65 65 66]\n",
      "   [65 64 67]\n",
      "   ..., \n",
      "   [37 37 37]\n",
      "   [37 36 38]\n",
      "   [37 36 37]]\n",
      "\n",
      "  ..., \n",
      "  [[42 41 43]\n",
      "   [42 41 42]\n",
      "   [41 40 42]\n",
      "   ..., \n",
      "   [35 34 35]\n",
      "   [34 33 34]\n",
      "   [34 33 34]]\n",
      "\n",
      "  [[43 42 43]\n",
      "   [43 42 42]\n",
      "   [42 41 42]\n",
      "   ..., \n",
      "   [34 33 33]\n",
      "   [34 34 35]\n",
      "   [35 33 34]]\n",
      "\n",
      "  [[44 42 44]\n",
      "   [43 42 43]\n",
      "   [43 42 42]\n",
      "   ..., \n",
      "   [34 33 34]\n",
      "   [34 34 34]\n",
      "   [34 34 35]]]]\n",
      "[[[[   0.    0.    0.]\n",
      "   [  16.   15.   17.]\n",
      "   [  17.   15.   18.]\n",
      "   ..., \n",
      "   [  12.   11.   14.]\n",
      "   [  13.   12.   15.]\n",
      "   [  13.   12.   15.]]\n",
      "\n",
      "  [[   0.    0.    0.]\n",
      "   [  18.   17.   20.]\n",
      "   [  16.   15.   18.]\n",
      "   ..., \n",
      "   [  12.   11.   15.]\n",
      "   [  12.   11.   15.]\n",
      "   [  12.   11.   15.]]\n",
      "\n",
      "  [[   0.    0.    0.]\n",
      "   [  17.   16.   19.]\n",
      "   [  15.   14.   17.]\n",
      "   ..., \n",
      "   [  12.   11.   14.]\n",
      "   [  13.   12.   15.]\n",
      "   [  13.   11.   15.]]\n",
      "\n",
      "  ..., \n",
      "  [[   0.    0.    0.]\n",
      "   [  14.   13.   16.]\n",
      "   [  14.   13.   16.]\n",
      "   ..., \n",
      "   [  12.   11.   14.]\n",
      "   [  11.   11.   15.]\n",
      "   [  13.   13.   15.]]\n",
      "\n",
      "  [[   0.    0.    0.]\n",
      "   [  14.   13.   15.]\n",
      "   [  14.   13.   15.]\n",
      "   ..., \n",
      "   [  13.   12.   15.]\n",
      "   [  13.   13.   17.]\n",
      "   [  15.   15.   17.]]\n",
      "\n",
      "  [[   0.    0.    0.]\n",
      "   [  13.   12.   14.]\n",
      "   [  12.   12.   14.]\n",
      "   ..., \n",
      "   [  13.   12.   16.]\n",
      "   [  14.   13.   17.]\n",
      "   [  14.   13.   16.]]]\n",
      "\n",
      "\n",
      " [[[   0.    0.    0.]\n",
      "   [ 100.   75.   70.]\n",
      "   [  99.   76.   70.]\n",
      "   ..., \n",
      "   [  57.   52.   42.]\n",
      "   [  59.   57.   49.]\n",
      "   [  59.   63.   60.]]\n",
      "\n",
      "  [[   0.    0.    0.]\n",
      "   [  93.   75.   70.]\n",
      "   [  91.   71.   65.]\n",
      "   ..., \n",
      "   [  54.   50.   40.]\n",
      "   [  54.   52.   43.]\n",
      "   [  59.   60.   57.]]\n",
      "\n",
      "  [[   0.    0.    0.]\n",
      "   [  91.   75.   72.]\n",
      "   [  91.   74.   69.]\n",
      "   ..., \n",
      "   [  52.   46.   40.]\n",
      "   [  51.   47.   43.]\n",
      "   [  57.   58.   57.]]\n",
      "\n",
      "  ..., \n",
      "  [[   0.    0.    0.]\n",
      "   [  78.   67.   63.]\n",
      "   [  77.   58.   50.]\n",
      "   ..., \n",
      "   [  65.   59.   51.]\n",
      "   [  65.   58.   50.]\n",
      "   [  64.   57.   48.]]\n",
      "\n",
      "  [[   0.    0.    0.]\n",
      "   [  74.   70.   63.]\n",
      "   [  76.   65.   56.]\n",
      "   ..., \n",
      "   [  60.   54.   46.]\n",
      "   [  60.   53.   45.]\n",
      "   [  59.   52.   44.]]\n",
      "\n",
      "  [[   0.    0.    0.]\n",
      "   [  91.   92.   90.]\n",
      "   [  86.   87.   88.]\n",
      "   ..., \n",
      "   [  56.   53.   46.]\n",
      "   [  58.   54.   45.]\n",
      "   [  60.   55.   46.]]]\n",
      "\n",
      "\n",
      " [[[   0.    0.    0.]\n",
      "   [   0.    0.    0.]\n",
      "   [   0.    0.    0.]\n",
      "   ..., \n",
      "   [   0.    0.    0.]\n",
      "   [   0.    0.    0.]\n",
      "   [   0.    0.    0.]]\n",
      "\n",
      "  [[   0.    0.    0.]\n",
      "   [   0.    0.    0.]\n",
      "   [   0.    0.    0.]\n",
      "   ..., \n",
      "   [  62.   89.  101.]\n",
      "   [   0.    0.    0.]\n",
      "   [   0.    0.    0.]]\n",
      "\n",
      "  [[   0.    0.    0.]\n",
      "   [  88.   82.   68.]\n",
      "   [  89.   87.   70.]\n",
      "   ..., \n",
      "   [  48.   59.   73.]\n",
      "   [   0.    0.    0.]\n",
      "   [   0.    0.    0.]]\n",
      "\n",
      "  ..., \n",
      "  [[   0.    0.    0.]\n",
      "   [   0.    0.    0.]\n",
      "   [  90.   77.   89.]\n",
      "   ..., \n",
      "   [  47.   45.   39.]\n",
      "   [  50.   48.   42.]\n",
      "   [   0.    0.    0.]]\n",
      "\n",
      "  [[   0.    0.    0.]\n",
      "   [   0.    0.    0.]\n",
      "   [  82.   64.   75.]\n",
      "   ..., \n",
      "   [   0.    0.    0.]\n",
      "   [   0.    0.    0.]\n",
      "   [   0.    0.    0.]]\n",
      "\n",
      "  [[   0.    0.    0.]\n",
      "   [   0.    0.    0.]\n",
      "   [   0.    0.    0.]\n",
      "   ..., \n",
      "   [   0.    0.    0.]\n",
      "   [   0.    0.    0.]\n",
      "   [   0.    0.    0.]]]\n",
      "\n",
      "\n",
      " ..., \n",
      " [[[  13.   13.   20.]\n",
      "   [  13.   13.   22.]\n",
      "   [  13.   13.   21.]\n",
      "   ..., \n",
      "   [  15.   13.   15.]\n",
      "   [  14.   12.   14.]\n",
      "   [  12.   11.   13.]]\n",
      "\n",
      "  [[  15.   15.   20.]\n",
      "   [  14.   14.   19.]\n",
      "   [  13.   13.   22.]\n",
      "   ..., \n",
      "   [  14.   13.   15.]\n",
      "   [  13.   12.   14.]\n",
      "   [  13.   11.   13.]]\n",
      "\n",
      "  [[  15.   14.   18.]\n",
      "   [  14.   14.   17.]\n",
      "   [  13.   13.   20.]\n",
      "   ..., \n",
      "   [  13.   12.   14.]\n",
      "   [  12.   12.   14.]\n",
      "   [  12.   12.   14.]]\n",
      "\n",
      "  ..., \n",
      "  [[  12.   12.   16.]\n",
      "   [  12.   12.   18.]\n",
      "   [  12.   13.   19.]\n",
      "   ..., \n",
      "   [  20.   18.   19.]\n",
      "   [  14.   15.   19.]\n",
      "   [  16.   17.   26.]]\n",
      "\n",
      "  [[  15.   15.   23.]\n",
      "   [  20.   19.   29.]\n",
      "   [  18.   17.   25.]\n",
      "   ..., \n",
      "   [  18.   16.   18.]\n",
      "   [  16.   17.   25.]\n",
      "   [  19.   21.   37.]]\n",
      "\n",
      "  [[   0.    0.    0.]\n",
      "   [   0.    0.    0.]\n",
      "   [   0.    0.    0.]\n",
      "   ..., \n",
      "   [   0.    0.    0.]\n",
      "   [   0.    0.    0.]\n",
      "   [   0.    0.    0.]]]\n",
      "\n",
      "\n",
      " [[[   0.    0.    0.]\n",
      "   [   0.    0.    0.]\n",
      "   [   0.    0.    0.]\n",
      "   ..., \n",
      "   [   0.    0.    0.]\n",
      "   [   0.    0.    0.]\n",
      "   [   0.    0.    0.]]\n",
      "\n",
      "  [[  14.   14.   22.]\n",
      "   [  15.   18.   26.]\n",
      "   [  17.   19.   23.]\n",
      "   ..., \n",
      "   [  12.   11.   15.]\n",
      "   [  14.   13.   17.]\n",
      "   [  13.   12.   16.]]\n",
      "\n",
      "  [[  13.   14.   22.]\n",
      "   [  17.   20.   29.]\n",
      "   [  19.   21.   27.]\n",
      "   ..., \n",
      "   [  12.   11.   14.]\n",
      "   [  13.   12.   16.]\n",
      "   [  12.   11.   16.]]\n",
      "\n",
      "  ..., \n",
      "  [[  18.   19.   22.]\n",
      "   [  18.   17.   20.]\n",
      "   [  16.   14.   16.]\n",
      "   ..., \n",
      "   [  15.   16.   18.]\n",
      "   [  17.   19.   22.]\n",
      "   [  19.   21.   27.]]\n",
      "\n",
      "  [[  16.   18.   22.]\n",
      "   [  14.   14.   17.]\n",
      "   [  14.   13.   15.]\n",
      "   ..., \n",
      "   [  13.   13.   17.]\n",
      "   [  12.   13.   16.]\n",
      "   [  15.   17.   21.]]\n",
      "\n",
      "  [[  29.   30.   41.]\n",
      "   [  22.   22.   27.]\n",
      "   [  16.   15.   17.]\n",
      "   ..., \n",
      "   [  26.   27.   35.]\n",
      "   [  22.   21.   25.]\n",
      "   [  17.   17.   19.]]]\n",
      "\n",
      "\n",
      " [[[  12.   11.   15.]\n",
      "   [  13.   13.   19.]\n",
      "   [  17.   19.   25.]\n",
      "   ..., \n",
      "   [  13.   13.   16.]\n",
      "   [   0.    0.    0.]\n",
      "   [   0.    0.    0.]]\n",
      "\n",
      "  [[  12.   11.   18.]\n",
      "   [  13.   13.   20.]\n",
      "   [  13.   15.   21.]\n",
      "   ..., \n",
      "   [  12.   13.   16.]\n",
      "   [   0.    0.    0.]\n",
      "   [   0.    0.    0.]]\n",
      "\n",
      "  [[  12.   11.   16.]\n",
      "   [  13.   12.   17.]\n",
      "   [  12.   12.   16.]\n",
      "   ..., \n",
      "   [  12.   11.   13.]\n",
      "   [   0.    0.    0.]\n",
      "   [   0.    0.    0.]]\n",
      "\n",
      "  ..., \n",
      "  [[  18.   16.   14.]\n",
      "   [  13.   11.   15.]\n",
      "   [  12.   11.   15.]\n",
      "   ..., \n",
      "   [  10.   10.   13.]\n",
      "   [   0.    0.    0.]\n",
      "   [   0.    0.    0.]]\n",
      "\n",
      "  [[   0.    0.    0.]\n",
      "   [   0.    0.    0.]\n",
      "   [   0.    0.    0.]\n",
      "   ..., \n",
      "   [   0.    0.    0.]\n",
      "   [   0.    0.    0.]\n",
      "   [   0.    0.    0.]]\n",
      "\n",
      "  [[   0.    0.    0.]\n",
      "   [   0.    0.    0.]\n",
      "   [   0.    0.    0.]\n",
      "   ..., \n",
      "   [   0.    0.    0.]\n",
      "   [   0.    0.    0.]\n",
      "   [   0.    0.    0.]]]]\n"
     ]
    }
   ],
   "source": [
    "print(X_valid)\n",
    "print(X_valid_new)"
   ]
  },
  {
   "cell_type": "code",
   "execution_count": 16,
   "metadata": {
    "collapsed": true
   },
   "outputs": [],
   "source": [
    "#Change from float64 to uint8\n",
    "X_valid_new = X_valid_new.astype(np.uint8)\n",
    "y_valid_new = y_valid_new.astype(np.uint8)"
   ]
  },
  {
   "cell_type": "code",
   "execution_count": 17,
   "metadata": {},
   "outputs": [
    {
     "name": "stdout",
     "output_type": "stream",
     "text": [
      "X_valid new shape = (592, 32, 32, 3)\n",
      "X_valid new dtype =  uint8\n",
      "y_valid new shape = (592,)\n",
      "y_valid new dtype =  uint8\n"
     ]
    }
   ],
   "source": [
    "print(\"X_valid new shape =\", X_valid_new.shape)\n",
    "print(\"X_valid new dtype = \",X_valid_new.dtype)\n",
    "print(\"y_valid new shape =\", y_valid_new.shape)\n",
    "print(\"y_valid new dtype = \",y_valid_new.dtype)"
   ]
  },
  {
   "cell_type": "code",
   "execution_count": 18,
   "metadata": {},
   "outputs": [
    {
     "name": "stdout",
     "output_type": "stream",
     "text": [
      "done\n"
     ]
    }
   ],
   "source": [
    "# Save the augmented validation data set, so we don't have to create it everytime \n",
    "\n",
    "validation_X_new_file = \"X_valid_new.p\"\n",
    "validation_y_new_file = \"y_valid_new.p\"\n",
    "\n",
    "#validation_preprocessed_file = \"data/X_valid_preprocessed.p\"\n",
    "#testing_preprocessed_file = \"data/X_test_preprocessed.p\"\n",
    "\n",
    "pickle.dump(X_valid_new, open(validation_X_new_file, \"wb\" ))\n",
    "pickle.dump(y_valid_new, open(validation_y_new_file, \"wb\" ))\n",
    "\n",
    "\n",
    "print(\"done\")"
   ]
  },
  {
   "cell_type": "code",
   "execution_count": 10,
   "metadata": {},
   "outputs": [
    {
     "name": "stdout",
     "output_type": "stream",
     "text": [
      "X_train_new loaded\n",
      "X_train_new shape = (10327, 32, 32, 3)\n",
      "y_train_new loaded\n",
      "y_train_new shape = (10327,)\n"
     ]
    }
   ],
   "source": [
    "#Load previously created data\n",
    "\n",
    "training_X_file = \"X_train_new.p\"\n",
    "training_y_file = \"y_train_new.p\"\n",
    "\n",
    "\n",
    "\n",
    "with open(training_X_file, mode='rb') as f:\n",
    "    X_train_new = pickle.load(f)\n",
    "print(\"X_train_new loaded\")\n",
    "print(\"X_train_new shape =\",X_train_new.shape)\n",
    "with open(training_y_file, mode='rb') as f:\n",
    "    y_train_new = pickle.load(f)\n",
    "print(\"y_train_new loaded\")\n",
    "print(\"y_train_new shape =\",y_train_new.shape)"
   ]
  },
  {
   "cell_type": "code",
   "execution_count": 11,
   "metadata": {},
   "outputs": [
    {
     "name": "stdout",
     "output_type": "stream",
     "text": [
      "X_train shape = (34799, 32, 32, 3)\n",
      "X_train_new shape = (10327, 32, 32, 3)\n",
      "X_train dtype = uint8\n",
      "X_train new dtype = uint8\n",
      "X_train new dtype = uint8\n",
      "y_train shape = (34799,)\n",
      "y_train_new shape = (10327,)\n",
      "y_train dtype = uint8\n",
      "y_train new dtype = uint8\n",
      "y_train new dtype = uint8\n",
      "[41 41 41 ..., 25 25 25]\n",
      "[42  0  0 ..., 42 42 42]\n",
      "X_train_combined shape = (45126, 32, 32, 3)\n",
      "X_train combined dtype = uint8\n",
      "y_train_combined shape = (45126,)\n",
      "y_train combined dtype = uint8\n"
     ]
    }
   ],
   "source": [
    "#Add X_train_new to X_train\n",
    "print(\"X_train shape =\",X_train.shape)\n",
    "print(\"X_train_new shape =\",X_train_new.shape)\n",
    "print(\"X_train dtype =\", X_train.dtype)\n",
    "print(\"X_train new dtype =\", X_train_new.dtype)\n",
    "X_train_new = X_train_new.astype(np.uint8)\n",
    "print(\"X_train new dtype =\", X_train_new.dtype)\n",
    "\n",
    "print(\"y_train shape =\",y_train.shape)\n",
    "print(\"y_train_new shape =\",y_train_new.shape)\n",
    "print(\"y_train dtype =\", y_train.dtype)\n",
    "print(\"y_train new dtype =\", y_train_new.dtype)\n",
    "y_train_new = y_train_new.astype(np.uint8)\n",
    "print(\"y_train new dtype =\", y_train_new.dtype)\n",
    "\n",
    "print(y_train)\n",
    "print(y_train_new)\n",
    "X_train_combined = np.vstack((X_train,X_train_new))\n",
    "#y_train_combined = np.vstack((y_train,y_train_new))\n",
    "y_train_combined = np.hstack((y_train,y_train_new))\n",
    "print(\"X_train_combined shape =\",X_train_combined.shape)\n",
    "print(\"X_train combined dtype =\", X_train_combined.dtype)\n",
    "print(\"y_train_combined shape =\",y_train_combined.shape)\n",
    "print(\"y_train combined dtype =\", y_train_combined.dtype)"
   ]
  },
  {
   "cell_type": "code",
   "execution_count": 12,
   "metadata": {},
   "outputs": [
    {
     "name": "stdout",
     "output_type": "stream",
     "text": [
      "X_train_combined shape = (45126, 32, 32, 3)\n",
      "X_train combined dtype = uint8\n",
      "y_train_combined shape = (45126,)\n",
      "y_train combined dtype = uint8\n"
     ]
    }
   ],
   "source": [
    "print(\"X_train_combined shape =\",X_train_combined.shape)\n",
    "print(\"X_train combined dtype =\", X_train_combined.dtype)\n",
    "print(\"y_train_combined shape =\",y_train_combined.shape)\n",
    "print(\"y_train combined dtype =\", y_train_combined.dtype)"
   ]
  },
  {
   "cell_type": "code",
   "execution_count": 13,
   "metadata": {},
   "outputs": [
    {
     "name": "stdout",
     "output_type": "stream",
     "text": [
      "X_valid_new loaded\n",
      "X_valid_new shape = (592, 32, 32, 3)\n",
      "y_valid_new loaded\n",
      "y_valid_new shape = (592,)\n"
     ]
    }
   ],
   "source": [
    "#Load previously created data\n",
    "\n",
    "validation_X_file = \"X_valid_new.p\"\n",
    "validation_y_file = \"y_valid_new.p\"\n",
    "\n",
    "\n",
    "\n",
    "with open(validation_X_file, mode='rb') as f:\n",
    "    X_valid_new = pickle.load(f)\n",
    "print(\"X_valid_new loaded\")\n",
    "print(\"X_valid_new shape =\",X_valid_new.shape)\n",
    "with open(validation_y_file, mode='rb') as f:\n",
    "    y_valid_new = pickle.load(f)\n",
    "print(\"y_valid_new loaded\")\n",
    "print(\"y_valid_new shape =\",y_valid_new.shape)"
   ]
  },
  {
   "cell_type": "code",
   "execution_count": 14,
   "metadata": {},
   "outputs": [
    {
     "name": "stdout",
     "output_type": "stream",
     "text": [
      "X_valid shape = (4410, 32, 32, 3)\n",
      "X_valid_new shape = (592, 32, 32, 3)\n",
      "X_valid dtype = uint8\n",
      "X_valid new dtype = uint8\n",
      "X_train dtype = uint8\n",
      "y_valid shape = (4410,)\n",
      "y_valid_new shape = (592,)\n",
      "y_valid dtype = uint8\n",
      "y_valid new dtype = uint8\n",
      "X_valid_combined shape = (5002, 32, 32, 3)\n",
      "X_valid combined dtype = uint8\n",
      "y_valid_combined shape = (5002,)\n",
      "y_valid combined dtype = uint8\n"
     ]
    }
   ],
   "source": [
    "#Add new validation data to original validation data\n",
    "#Add X_train_new to X_train\n",
    "print(\"X_valid shape =\",X_valid.shape)\n",
    "print(\"X_valid_new shape =\",X_valid_new.shape)\n",
    "print(\"X_valid dtype =\", X_valid.dtype)\n",
    "print(\"X_valid new dtype =\", X_valid_new.dtype)\n",
    "X_train = X_train.astype(np.uint8)\n",
    "print(\"X_train dtype =\", X_train.dtype)\n",
    "\n",
    "print(\"y_valid shape =\",y_valid.shape)\n",
    "print(\"y_valid_new shape =\",y_valid_new.shape)\n",
    "print(\"y_valid dtype =\", y_valid.dtype)\n",
    "print(\"y_valid new dtype =\", y_valid_new.dtype)\n",
    "#y_train_new = y_train_new.astype(np.uint8)\n",
    "#print(\"y_train new dtype =\", y_train_new.dtype)\n",
    "\n",
    "#print(y_valid)\n",
    "#print(y_valid_new)\n",
    "#print(X_valid)\n",
    "#print(X_valid_new)\n",
    "X_valid_combined = np.vstack((X_valid,X_valid_new))\n",
    "#y_train_combined = np.vstack((y_train,y_train_new))\n",
    "y_valid_combined = np.hstack((y_valid,y_valid_new))\n",
    "print(\"X_valid_combined shape =\",X_valid_combined.shape)\n",
    "print(\"X_valid combined dtype =\", X_valid_combined.dtype)\n",
    "print(\"y_valid_combined shape =\",y_valid_combined.shape)\n",
    "print(\"y_valid combined dtype =\", y_valid_combined.dtype)"
   ]
  },
  {
   "cell_type": "code",
   "execution_count": 15,
   "metadata": {},
   "outputs": [
    {
     "data": {
      "text/plain": [
       "<Container object of 43 artists>"
      ]
     },
     "execution_count": 15,
     "metadata": {},
     "output_type": "execute_result"
    },
    {
     "data": {
      "image/png": "[encoded data removed]",
      "text/plain": [
       "<matplotlib.figure.Figure at 0x7f4ac28f6da0>"
      ]
     },
     "metadata": {},
     "output_type": "display_data"
    }
   ],
   "source": [
    "#Histogram all data including new and old\n",
    "hist = []\n",
    "for i in range(43):\n",
    "    hist.append(np.sum(y_train_combined == i))\n",
    "    \n",
    "plt.bar(range(43), hist)"
   ]
  },
  {
   "cell_type": "code",
   "execution_count": 16,
   "metadata": {},
   "outputs": [
    {
     "data": {
      "text/plain": [
       "<Container object of 43 artists>"
      ]
     },
     "execution_count": 16,
     "metadata": {},
     "output_type": "execute_result"
    },
    {
     "data": {
      "image/png": "[encoded data removed]",
      "text/plain": [
       "<matplotlib.figure.Figure at 0x7f4ac278a198>"
      ]
     },
     "metadata": {},
     "output_type": "display_data"
    }
   ],
   "source": [
    "#Histogram all data including new and old\n",
    "hist = []\n",
    "for i in range(43):\n",
    "    hist.append(np.sum(y_valid_combined == i))\n",
    "    \n",
    "plt.bar(range(43), hist)"
   ]
  },
  {
   "cell_type": "code",
   "execution_count": null,
   "metadata": {
    "collapsed": true
   },
   "outputs": [],
   "source": [
    "print(np.sum(diff_per_class)*0.2)\n",
    "print(limit)"
   ]
  },
  {
   "cell_type": "code",
   "execution_count": null,
   "metadata": {
    "collapsed": true
   },
   "outputs": [],
   "source": []
  },
  {
   "cell_type": "code",
   "execution_count": null,
   "metadata": {
    "collapsed": true,
    "scrolled": true
   },
   "outputs": [],
   "source": []
  },
  {
   "cell_type": "code",
   "execution_count": null,
   "metadata": {
    "collapsed": true
   },
   "outputs": [],
   "source": []
  },
  {
   "cell_type": "code",
   "execution_count": null,
   "metadata": {
    "collapsed": true
   },
   "outputs": [],
   "source": []
  },
  {
   "cell_type": "code",
   "execution_count": 17,
   "metadata": {},
   "outputs": [
    {
     "data": {
      "text/plain": [
       "<matplotlib.image.AxesImage at 0x7f4ac25e8f60>"
      ]
     },
     "execution_count": 17,
     "metadata": {},
     "output_type": "execute_result"
    },
    {
     "data": {
      "image/png": "[encoded data removed]",
      "text/plain": [
       "<matplotlib.figure.Figure at 0x7f4ac298fc18>"
      ]
     },
     "metadata": {},
     "output_type": "display_data"
    }
   ],
   "source": [
    "fig, axs = plt.subplots(1,3, figsize=(10, 3))\n",
    "axs = axs.ravel()\n",
    "\n",
    "axs[0].axis('off')\n",
    "axs[0].set_title('rotated')\n",
    "axs[0].imshow(X_train_combined[1])\n",
    "\n",
    "axs[1].axis('off')\n",
    "axs[1].set_title('original')\n",
    "axs[1].imshow(X_train_combined[2000])\n",
    "\n",
    "axs[2].axis('off')\n",
    "axs[2].set_title('bright')\n",
    "axs[2].imshow(X_train_combined[100])\n"
   ]
  },
  {
   "cell_type": "code",
   "execution_count": null,
   "metadata": {
    "collapsed": true
   },
   "outputs": [],
   "source": []
  },
  {
   "cell_type": "code",
   "execution_count": null,
   "metadata": {
    "collapsed": true
   },
   "outputs": [],
   "source": []
  },
  {
   "cell_type": "code",
   "execution_count": null,
   "metadata": {
    "collapsed": true
   },
   "outputs": [],
   "source": []
  },
  {
   "cell_type": "markdown",
   "metadata": {},
   "source": [
    "----\n",
    "\n",
    "## Step 2: Design and Test a Model Architecture\n",
    "\n",
    "Design and implement a deep learning model that learns to recognize traffic signs. Train and test your model on the [German Traffic Sign Dataset](http://benchmark.ini.rub.de/?section=gtsrb&subsection=dataset).\n",
    "\n",
    "The LeNet-5 implementation shown in the [classroom](https://classroom.udacity.com/nanodegrees/nd013/parts/fbf77062-5703-404e-b60c-95b78b2f3f9e/modules/6df7ae49-c61c-4bb2-a23e-6527e69209ec/lessons/601ae704-1035-4287-8b11-e2c2716217ad/concepts/d4aca031-508f-4e0b-b493-e7b706120f81) at the end of the CNN lesson is a solid starting point. You'll have to change the number of classes and possibly the preprocessing, but aside from that it's plug and play! \n",
    "\n",
    "With the LeNet-5 solution from the lecture, you should expect a validation set accuracy of about 0.89. To meet specifications, the validation set accuracy will need to be at least 0.93. It is possible to get an even higher accuracy, but 0.93 is the minimum for a successful project submission. \n",
    "\n",
    "There are various aspects to consider when thinking about this problem:\n",
    "\n",
    "- Neural network architecture (is the network over or underfitting?)\n",
    "- Play around preprocessing techniques (normalization, rgb to grayscale, etc)\n",
    "- Number of examples per label (some have more than others).\n",
    "- Generate fake data.\n",
    "\n",
    "Here is an example of a [published baseline model on this problem](http://yann.lecun.com/exdb/publis/pdf/sermanet-ijcnn-11.pdf). It's not required to be familiar with the approach used in the paper but, it's good practice to try to read papers like these."
   ]
  },
  {
   "cell_type": "markdown",
   "metadata": {},
   "source": [
    "### Pre-process the Data Set (normalization, grayscale, etc.)"
   ]
  },
  {
   "cell_type": "markdown",
   "metadata": {},
   "source": [
    "Minimally, the image data should be normalized so that the data has mean zero and equal variance. For image data, `(pixel - 128)/ 128` is a quick way to approximately normalize the data and can be used in this project. \n",
    "\n",
    "Other pre-processing steps are optional. You can try different techniques to see if it improves performance. \n",
    "\n",
    "Use the code cell (or multiple code cells, if necessary) to implement the first step of your project."
   ]
  },
  {
   "cell_type": "code",
   "execution_count": null,
   "metadata": {
    "collapsed": true
   },
   "outputs": [],
   "source": [
    "import warnings\n",
    "from skimage import exposure\n",
    "\n",
    "def preprocess(X):\n",
    "    '''\n",
    "    - convert images to grayscale, \n",
    "    - scale from [0, 255] to [0, 1] range, \n",
    "    - use localized histogram equalization as images differ \n",
    "      in brightness and contrast significantly\n",
    "    ADAPTED FROM: http://navoshta.com/traffic-signs-classification/\n",
    "    '''\n",
    "\n",
    "    #Convert to grayscale, e.g. single channel Y\n",
    "    X = 0.299 * X[:, :, :, 0] + 0.587 * X[:, :, :, 1] + 0.114 * X[:, :, :, 2]\n",
    "\n",
    "    #Scale features to be in [0, 1]\n",
    "    X = (X / 255.).astype(np.float32)\n",
    "    \n",
    "    #adjust histogram\n",
    "    for i in range(X.shape[0]):\n",
    "        with warnings.catch_warnings():\n",
    "            warnings.simplefilter(\"ignore\")\n",
    "            X[i] = exposure.equalize_adapthist(X[i]) \n",
    "            \n",
    "    return X\n",
    "\n",
    "def reshape(x): # Add a single grayscale channel\n",
    "  return x.reshape(x.shape + (1,))"
   ]
  },
  {
   "cell_type": "code",
   "execution_count": null,
   "metadata": {
    "collapsed": true
   },
   "outputs": [],
   "source": [
    "X_train_preprocessed = preprocess(X_train)\n",
    "X_train = reshape(X_train_preprocessed)\n",
    "print(\"X_train shape = \",X_train.shape)\n",
    "print(\"X_train type =\", X_train.dtype)"
   ]
  },
  {
   "cell_type": "code",
   "execution_count": null,
   "metadata": {
    "collapsed": true
   },
   "outputs": [],
   "source": [
    "X_valid_preprocessed = preprocess(X_valid)\n",
    "X_valid = reshape(X_valid_preprocessed)\n",
    "print(\"X_valid shape = \",X_valid.shape)\n",
    "print(\"X_valid type =\", X_valid.dtype)"
   ]
  },
  {
   "cell_type": "code",
   "execution_count": null,
   "metadata": {
    "collapsed": true
   },
   "outputs": [],
   "source": [
    "X_test_preprocessed = preprocess(X_test)\n",
    "X_test = reshape(X_test_preprocessed)\n",
    "print(\"X_test shape = \",X_test.shape)\n",
    "print(\"X_test type =\", X_test.dtype)"
   ]
  },
  {
   "cell_type": "code",
   "execution_count": null,
   "metadata": {
    "collapsed": true
   },
   "outputs": [],
   "source": []
  },
  {
   "cell_type": "code",
   "execution_count": 18,
   "metadata": {},
   "outputs": [
    {
     "name": "stdout",
     "output_type": "stream",
     "text": [
      "(45126, 32, 32, 3) uint8\n",
      "(45126, 32, 32, 3) float32\n",
      "(5002, 32, 32, 3) float32\n",
      "finished preprocessing the data\n"
     ]
    }
   ],
   "source": [
    "### Preprocess the data here. It is required to normalize the data. Other preprocessing steps could include \n",
    "### converting to grayscale, etc.\n",
    "### Feel free to use as many code cells as needed.\n",
    "\n",
    "\n",
    "#Pre Process the data by shuffling\n",
    "from sklearn.utils import shuffle\n",
    "import warnings\n",
    "from skimage import exposure\n",
    "\n",
    "X_train, y_train = shuffle(X_train_combined, y_train_combined)\n",
    "X_valid, y_valid = shuffle(X_valid_combined, y_valid_combined)\n",
    "#X_train, y_train = shuffle(X_train, y_train)\n",
    "\n",
    "#adjust histogram\n",
    "#for i in range(X_train.shape[0]):\n",
    "#    with warnings.catch_warnings():\n",
    "#        warnings.simplefilter(\"ignore\")\n",
    "#        X_train[i] = exposure.equalize_adapthist(X_train[i]) \n",
    "\n",
    "print(X_train.shape, X_train.dtype)\n",
    "X_train = X_train.astype(np.float32)\n",
    "X_valid = X_valid.astype(np.float32)\n",
    "X_test = X_test.astype(np.float32)\n",
    "\n",
    "print(X_train.shape, X_train.dtype)\n",
    "print(X_valid.shape, X_valid.dtype)\n",
    "\n",
    "print(\"finished preprocessing the data\")\n",
    "\n",
    "#Define the model architecture.\n",
    "#Starting with LeNet\n",
    "\n",
    "\n",
    "#Setup Tensorflow \n",
    "\n",
    "import tensorflow as tf\n",
    "\n",
    "EPOCHS = 50\n",
    "BATCH_SIZE = 100\n",
    "#batch size prviously 128"
   ]
  },
  {
   "cell_type": "code",
   "execution_count": 30,
   "metadata": {},
   "outputs": [
    {
     "name": "stdout",
     "output_type": "stream",
     "text": [
      "(45126, 32, 32, 3) float32\n",
      "[[[ 74.  68.  50.]\n",
      "  [ 76.  66.  47.]\n",
      "  [ 78.  63.  45.]\n",
      "  ..., \n",
      "  [ 57.  52.  40.]\n",
      "  [ 60.  54.  43.]\n",
      "  [ 78.  69.  58.]]\n",
      "\n",
      " [[ 80.  70.  52.]\n",
      "  [ 76.  67.  47.]\n",
      "  [ 74.  65.  47.]\n",
      "  ..., \n",
      "  [ 55.  51.  41.]\n",
      "  [ 58.  52.  40.]\n",
      "  [ 68.  62.  47.]]\n",
      "\n",
      " [[ 80.  66.  49.]\n",
      "  [ 75.  67.  51.]\n",
      "  [ 67.  65.  49.]\n",
      "  ..., \n",
      "  [ 52.  49.  39.]\n",
      "  [ 55.  50.  38.]\n",
      "  [ 57.  55.  42.]]\n",
      "\n",
      " ..., \n",
      " [[ 57.  54.  43.]\n",
      "  [ 55.  52.  41.]\n",
      "  [ 54.  52.  41.]\n",
      "  ..., \n",
      "  [ 43.  40.  38.]\n",
      "  [ 43.  40.  38.]\n",
      "  [ 46.  43.  41.]]\n",
      "\n",
      " [[ 58.  55.  44.]\n",
      "  [ 58.  53.  42.]\n",
      "  [ 60.  54.  42.]\n",
      "  ..., \n",
      "  [ 46.  41.  39.]\n",
      "  [ 42.  40.  38.]\n",
      "  [ 41.  39.  36.]]\n",
      "\n",
      " [[ 59.  55.  44.]\n",
      "  [ 61.  55.  44.]\n",
      "  [ 62.  54.  43.]\n",
      "  ..., \n",
      "  [ 51.  41.  41.]\n",
      "  [ 43.  42.  40.]\n",
      "  [ 41.  40.  37.]]]\n",
      "Normalising\n",
      "(45126, 32, 32, 3) float32\n",
      "[[[-0.20980391 -0.23333332 -0.30392158]\n",
      "  [-0.20196077 -0.24117646 -0.31568629]\n",
      "  [-0.19411764 -0.25294119 -0.32352942]\n",
      "  ..., \n",
      "  [-0.2764706  -0.29607844 -0.34313726]\n",
      "  [-0.2647059  -0.28823531 -0.33137256]\n",
      "  [-0.19411764 -0.22941175 -0.27254903]]\n",
      "\n",
      " [[-0.1862745  -0.22549018 -0.29607844]\n",
      "  [-0.20196077 -0.23725489 -0.31568629]\n",
      "  [-0.20980391 -0.24509802 -0.31568629]\n",
      "  ..., \n",
      "  [-0.28431374 -0.30000001 -0.3392157 ]\n",
      "  [-0.27254903 -0.29607844 -0.34313726]\n",
      "  [-0.23333332 -0.25686276 -0.31568629]]\n",
      "\n",
      " [[-0.1862745  -0.24117646 -0.30784315]\n",
      "  [-0.20588234 -0.23725489 -0.30000001]\n",
      "  [-0.23725489 -0.24509802 -0.30784315]\n",
      "  ..., \n",
      "  [-0.29607844 -0.30784315 -0.34705883]\n",
      "  [-0.28431374 -0.30392158 -0.3509804 ]\n",
      "  [-0.2764706  -0.28431374 -0.33529413]]\n",
      "\n",
      " ..., \n",
      " [[-0.2764706  -0.28823531 -0.33137256]\n",
      "  [-0.28431374 -0.29607844 -0.3392157 ]\n",
      "  [-0.28823531 -0.29607844 -0.3392157 ]\n",
      "  ..., \n",
      "  [-0.33137256 -0.34313726 -0.3509804 ]\n",
      "  [-0.33137256 -0.34313726 -0.3509804 ]\n",
      "  [-0.31960785 -0.33137256 -0.3392157 ]]\n",
      "\n",
      " [[-0.27254903 -0.28431374 -0.32745099]\n",
      "  [-0.27254903 -0.29215688 -0.33529413]\n",
      "  [-0.2647059  -0.28823531 -0.33529413]\n",
      "  ..., \n",
      "  [-0.31960785 -0.3392157  -0.34705883]\n",
      "  [-0.33529413 -0.34313726 -0.3509804 ]\n",
      "  [-0.3392157  -0.34705883 -0.35882354]]\n",
      "\n",
      " [[-0.26862746 -0.28431374 -0.32745099]\n",
      "  [-0.26078433 -0.28431374 -0.32745099]\n",
      "  [-0.25686276 -0.28823531 -0.33137256]\n",
      "  ..., \n",
      "  [-0.30000001 -0.3392157  -0.3392157 ]\n",
      "  [-0.33137256 -0.33529413 -0.34313726]\n",
      "  [-0.3392157  -0.34313726 -0.35490197]]]\n"
     ]
    }
   ],
   "source": [
    "#Normalise the data\n",
    "def normalize_image(image_data):\n",
    "    a = -0.5\n",
    "    b = 0.5\n",
    "    minvalue = 0\n",
    "    maxvalue = 255\n",
    "    normimg = np.array(a + ( ( (image_data - minvalue)*(b - a) )/( maxvalue - minvalue ) ) )\n",
    "    return normimg\n",
    "\n",
    "print(X_train.shape, X_train.dtype)\n",
    "print(X_train[0])\n",
    "X_train = normalize_image(X_train)\n",
    "print(\"Normalising\")\n",
    "print(X_train.shape, X_train.dtype)\n",
    "print(X_train[0])\n",
    "\n",
    "X_valid = normalize_image(X_valid)\n",
    "X_test = normalize_image(X_test)"
   ]
  },
  {
   "cell_type": "code",
   "execution_count": null,
   "metadata": {
    "collapsed": true
   },
   "outputs": [],
   "source": [
    "print(X_train.dtype)"
   ]
  },
  {
   "cell_type": "code",
   "execution_count": null,
   "metadata": {
    "collapsed": true
   },
   "outputs": [],
   "source": []
  },
  {
   "cell_type": "code",
   "execution_count": null,
   "metadata": {
    "collapsed": true
   },
   "outputs": [],
   "source": []
  },
  {
   "cell_type": "code",
   "execution_count": null,
   "metadata": {
    "collapsed": true
   },
   "outputs": [],
   "source": []
  },
  {
   "cell_type": "markdown",
   "metadata": {},
   "source": [
    "### Model Architecture"
   ]
  },
  {
   "cell_type": "code",
   "execution_count": 19,
   "metadata": {},
   "outputs": [
    {
     "name": "stderr",
     "output_type": "stream",
     "text": [
      "/home/carnd/anaconda3/envs/carnd-term1/lib/python3.5/site-packages/dask/dataframe/hashing.py:8: FutureWarning: The pandas.lib module is deprecated and will be removed in a future version. These are private functions and can be accessed from pandas._libs.lib instead\n",
      "  from pandas.lib import is_bool_array\n"
     ]
    },
    {
     "ename": "AttributeError",
     "evalue": "module 'pandas' has no attribute 'computation'",
     "output_type": "error",
     "traceback": [
      "\u001b[0;31m---------------------------------------------------------------------------\u001b[0m",
      "\u001b[0;31mAttributeError\u001b[0m                            Traceback (most recent call last)",
      "\u001b[0;32m<ipython-input-19-f38ef0eda798>\u001b[0m in \u001b[0;36m<module>\u001b[0;34m()\u001b[0m\n\u001b[1;32m      6\u001b[0m \u001b[0;31m#LeNEt Architecture\u001b[0m\u001b[0;34m\u001b[0m\u001b[0;34m\u001b[0m\u001b[0m\n\u001b[1;32m      7\u001b[0m \u001b[0;34m\u001b[0m\u001b[0m\n\u001b[0;32m----> 8\u001b[0;31m \u001b[0;32mfrom\u001b[0m \u001b[0mtensorflow\u001b[0m\u001b[0;34m.\u001b[0m\u001b[0mcontrib\u001b[0m\u001b[0;34m.\u001b[0m\u001b[0mlayers\u001b[0m \u001b[0;32mimport\u001b[0m \u001b[0mflatten\u001b[0m\u001b[0;34m\u001b[0m\u001b[0m\n\u001b[0m\u001b[1;32m      9\u001b[0m \u001b[0;34m\u001b[0m\u001b[0m\n\u001b[1;32m     10\u001b[0m \u001b[0;32mdef\u001b[0m \u001b[0mLeNet\u001b[0m\u001b[0;34m(\u001b[0m\u001b[0mx\u001b[0m\u001b[0;34m)\u001b[0m\u001b[0;34m:\u001b[0m\u001b[0;34m\u001b[0m\u001b[0m\n",
      "\u001b[0;32m/home/carnd/anaconda3/envs/carnd-term1/lib/python3.5/site-packages/tensorflow/contrib/__init__.py\u001b[0m in \u001b[0;36m<module>\u001b[0;34m()\u001b[0m\n\u001b[1;32m     25\u001b[0m \u001b[0;32mfrom\u001b[0m \u001b[0mtensorflow\u001b[0m\u001b[0;34m.\u001b[0m\u001b[0mcontrib\u001b[0m \u001b[0;32mimport\u001b[0m \u001b[0mcudnn_rnn\u001b[0m\u001b[0;34m\u001b[0m\u001b[0m\n\u001b[1;32m     26\u001b[0m \u001b[0;32mfrom\u001b[0m \u001b[0mtensorflow\u001b[0m\u001b[0;34m.\u001b[0m\u001b[0mcontrib\u001b[0m \u001b[0;32mimport\u001b[0m \u001b[0mdistributions\u001b[0m\u001b[0;34m\u001b[0m\u001b[0m\n\u001b[0;32m---> 27\u001b[0;31m \u001b[0;32mfrom\u001b[0m \u001b[0mtensorflow\u001b[0m\u001b[0;34m.\u001b[0m\u001b[0mcontrib\u001b[0m \u001b[0;32mimport\u001b[0m \u001b[0mfactorization\u001b[0m\u001b[0;34m\u001b[0m\u001b[0m\n\u001b[0m\u001b[1;32m     28\u001b[0m \u001b[0;32mfrom\u001b[0m \u001b[0mtensorflow\u001b[0m\u001b[0;34m.\u001b[0m\u001b[0mcontrib\u001b[0m \u001b[0;32mimport\u001b[0m \u001b[0mframework\u001b[0m\u001b[0;34m\u001b[0m\u001b[0m\n\u001b[1;32m     29\u001b[0m \u001b[0;32mfrom\u001b[0m \u001b[0mtensorflow\u001b[0m\u001b[0;34m.\u001b[0m\u001b[0mcontrib\u001b[0m \u001b[0;32mimport\u001b[0m \u001b[0mgraph_editor\u001b[0m\u001b[0;34m\u001b[0m\u001b[0m\n",
      "\u001b[0;32m/home/carnd/anaconda3/envs/carnd-term1/lib/python3.5/site-packages/tensorflow/contrib/factorization/__init__.py\u001b[0m in \u001b[0;36m<module>\u001b[0;34m()\u001b[0m\n\u001b[1;32m     22\u001b[0m \u001b[0;32mfrom\u001b[0m \u001b[0mtensorflow\u001b[0m\u001b[0;34m.\u001b[0m\u001b[0mcontrib\u001b[0m\u001b[0;34m.\u001b[0m\u001b[0mfactorization\u001b[0m\u001b[0;34m.\u001b[0m\u001b[0mpython\u001b[0m\u001b[0;34m.\u001b[0m\u001b[0mops\u001b[0m\u001b[0;34m.\u001b[0m\u001b[0mclustering_ops\u001b[0m \u001b[0;32mimport\u001b[0m \u001b[0;34m*\u001b[0m\u001b[0;34m\u001b[0m\u001b[0m\n\u001b[1;32m     23\u001b[0m \u001b[0;32mfrom\u001b[0m \u001b[0mtensorflow\u001b[0m\u001b[0;34m.\u001b[0m\u001b[0mcontrib\u001b[0m\u001b[0;34m.\u001b[0m\u001b[0mfactorization\u001b[0m\u001b[0;34m.\u001b[0m\u001b[0mpython\u001b[0m\u001b[0;34m.\u001b[0m\u001b[0mops\u001b[0m\u001b[0;34m.\u001b[0m\u001b[0mfactorization_ops\u001b[0m \u001b[0;32mimport\u001b[0m \u001b[0;34m*\u001b[0m\u001b[0;34m\u001b[0m\u001b[0m\n\u001b[0;32m---> 24\u001b[0;31m \u001b[0;32mfrom\u001b[0m \u001b[0mtensorflow\u001b[0m\u001b[0;34m.\u001b[0m\u001b[0mcontrib\u001b[0m\u001b[0;34m.\u001b[0m\u001b[0mfactorization\u001b[0m\u001b[0;34m.\u001b[0m\u001b[0mpython\u001b[0m\u001b[0;34m.\u001b[0m\u001b[0mops\u001b[0m\u001b[0;34m.\u001b[0m\u001b[0mgmm\u001b[0m \u001b[0;32mimport\u001b[0m \u001b[0;34m*\u001b[0m\u001b[0;34m\u001b[0m\u001b[0m\n\u001b[0m\u001b[1;32m     25\u001b[0m \u001b[0;32mfrom\u001b[0m \u001b[0mtensorflow\u001b[0m\u001b[0;34m.\u001b[0m\u001b[0mcontrib\u001b[0m\u001b[0;34m.\u001b[0m\u001b[0mfactorization\u001b[0m\u001b[0;34m.\u001b[0m\u001b[0mpython\u001b[0m\u001b[0;34m.\u001b[0m\u001b[0mops\u001b[0m\u001b[0;34m.\u001b[0m\u001b[0mgmm_ops\u001b[0m \u001b[0;32mimport\u001b[0m \u001b[0;34m*\u001b[0m\u001b[0;34m\u001b[0m\u001b[0m\n\u001b[1;32m     26\u001b[0m \u001b[0;32mfrom\u001b[0m \u001b[0mtensorflow\u001b[0m\u001b[0;34m.\u001b[0m\u001b[0mcontrib\u001b[0m\u001b[0;34m.\u001b[0m\u001b[0mfactorization\u001b[0m\u001b[0;34m.\u001b[0m\u001b[0mpython\u001b[0m\u001b[0;34m.\u001b[0m\u001b[0mops\u001b[0m\u001b[0;34m.\u001b[0m\u001b[0mkmeans\u001b[0m \u001b[0;32mimport\u001b[0m \u001b[0;34m*\u001b[0m\u001b[0;34m\u001b[0m\u001b[0m\n",
      "\u001b[0;32m/home/carnd/anaconda3/envs/carnd-term1/lib/python3.5/site-packages/tensorflow/contrib/factorization/python/ops/gmm.py\u001b[0m in \u001b[0;36m<module>\u001b[0;34m()\u001b[0m\n\u001b[1;32m     28\u001b[0m \u001b[0;34m\u001b[0m\u001b[0m\n\u001b[1;32m     29\u001b[0m \u001b[0;32mfrom\u001b[0m \u001b[0mtensorflow\u001b[0m\u001b[0;34m.\u001b[0m\u001b[0mcontrib\u001b[0m\u001b[0;34m.\u001b[0m\u001b[0mfactorization\u001b[0m\u001b[0;34m.\u001b[0m\u001b[0mpython\u001b[0m\u001b[0;34m.\u001b[0m\u001b[0mops\u001b[0m \u001b[0;32mimport\u001b[0m \u001b[0mgmm_ops\u001b[0m\u001b[0;34m\u001b[0m\u001b[0m\n\u001b[0;32m---> 30\u001b[0;31m \u001b[0;32mfrom\u001b[0m \u001b[0mtensorflow\u001b[0m\u001b[0;34m.\u001b[0m\u001b[0mcontrib\u001b[0m\u001b[0;34m.\u001b[0m\u001b[0mlearn\u001b[0m\u001b[0;34m.\u001b[0m\u001b[0mpython\u001b[0m\u001b[0;34m.\u001b[0m\u001b[0mlearn\u001b[0m\u001b[0;34m.\u001b[0m\u001b[0mestimators\u001b[0m \u001b[0;32mimport\u001b[0m \u001b[0mestimator\u001b[0m\u001b[0;34m\u001b[0m\u001b[0m\n\u001b[0m\u001b[1;32m     31\u001b[0m \u001b[0;32mfrom\u001b[0m \u001b[0mtensorflow\u001b[0m\u001b[0;34m.\u001b[0m\u001b[0mcontrib\u001b[0m\u001b[0;34m.\u001b[0m\u001b[0mlearn\u001b[0m\u001b[0;34m.\u001b[0m\u001b[0mpython\u001b[0m\u001b[0;34m.\u001b[0m\u001b[0mlearn\u001b[0m\u001b[0;34m.\u001b[0m\u001b[0mestimators\u001b[0m\u001b[0;34m.\u001b[0m\u001b[0m_sklearn\u001b[0m \u001b[0;32mimport\u001b[0m \u001b[0mTransformerMixin\u001b[0m\u001b[0;34m\u001b[0m\u001b[0m\n\u001b[1;32m     32\u001b[0m \u001b[0;32mfrom\u001b[0m \u001b[0mtensorflow\u001b[0m\u001b[0;34m.\u001b[0m\u001b[0mcontrib\u001b[0m\u001b[0;34m.\u001b[0m\u001b[0mlearn\u001b[0m\u001b[0;34m.\u001b[0m\u001b[0mpython\u001b[0m\u001b[0;34m.\u001b[0m\u001b[0mlearn\u001b[0m\u001b[0;34m.\u001b[0m\u001b[0mlearn_io\u001b[0m \u001b[0;32mimport\u001b[0m \u001b[0mdata_feeder\u001b[0m\u001b[0;34m\u001b[0m\u001b[0m\n",
      "\u001b[0;32m/home/carnd/anaconda3/envs/carnd-term1/lib/python3.5/site-packages/tensorflow/contrib/learn/__init__.py\u001b[0m in \u001b[0;36m<module>\u001b[0;34m()\u001b[0m\n\u001b[1;32m     64\u001b[0m \u001b[0;34m\u001b[0m\u001b[0m\n\u001b[1;32m     65\u001b[0m \u001b[0;31m# pylint: disable=wildcard-import\u001b[0m\u001b[0;34m\u001b[0m\u001b[0;34m\u001b[0m\u001b[0m\n\u001b[0;32m---> 66\u001b[0;31m \u001b[0;32mfrom\u001b[0m \u001b[0mtensorflow\u001b[0m\u001b[0;34m.\u001b[0m\u001b[0mcontrib\u001b[0m\u001b[0;34m.\u001b[0m\u001b[0mlearn\u001b[0m\u001b[0;34m.\u001b[0m\u001b[0mpython\u001b[0m\u001b[0;34m.\u001b[0m\u001b[0mlearn\u001b[0m \u001b[0;32mimport\u001b[0m \u001b[0;34m*\u001b[0m\u001b[0;34m\u001b[0m\u001b[0m\n\u001b[0m\u001b[1;32m     67\u001b[0m \u001b[0;31m# pylint: enable=wildcard-import\u001b[0m\u001b[0;34m\u001b[0m\u001b[0;34m\u001b[0m\u001b[0m\n\u001b[1;32m     68\u001b[0m \u001b[0;32mfrom\u001b[0m \u001b[0mtensorflow\u001b[0m\u001b[0;34m.\u001b[0m\u001b[0mpython\u001b[0m\u001b[0;34m.\u001b[0m\u001b[0mutil\u001b[0m\u001b[0;34m.\u001b[0m\u001b[0mall_util\u001b[0m \u001b[0;32mimport\u001b[0m \u001b[0mmake_all\u001b[0m\u001b[0;34m\u001b[0m\u001b[0m\n",
      "\u001b[0;32m/home/carnd/anaconda3/envs/carnd-term1/lib/python3.5/site-packages/tensorflow/contrib/learn/python/__init__.py\u001b[0m in \u001b[0;36m<module>\u001b[0;34m()\u001b[0m\n\u001b[1;32m     21\u001b[0m \u001b[0;34m\u001b[0m\u001b[0m\n\u001b[1;32m     22\u001b[0m \u001b[0;31m# pylint: disable=wildcard-import\u001b[0m\u001b[0;34m\u001b[0m\u001b[0;34m\u001b[0m\u001b[0m\n\u001b[0;32m---> 23\u001b[0;31m \u001b[0;32mfrom\u001b[0m \u001b[0mtensorflow\u001b[0m\u001b[0;34m.\u001b[0m\u001b[0mcontrib\u001b[0m\u001b[0;34m.\u001b[0m\u001b[0mlearn\u001b[0m\u001b[0;34m.\u001b[0m\u001b[0mpython\u001b[0m\u001b[0;34m.\u001b[0m\u001b[0mlearn\u001b[0m \u001b[0;32mimport\u001b[0m \u001b[0;34m*\u001b[0m\u001b[0;34m\u001b[0m\u001b[0m\n\u001b[0m\u001b[1;32m     24\u001b[0m \u001b[0;31m# pylint: enable=wildcard-import\u001b[0m\u001b[0;34m\u001b[0m\u001b[0;34m\u001b[0m\u001b[0m\n",
      "\u001b[0;32m/home/carnd/anaconda3/envs/carnd-term1/lib/python3.5/site-packages/tensorflow/contrib/learn/python/learn/__init__.py\u001b[0m in \u001b[0;36m<module>\u001b[0;34m()\u001b[0m\n\u001b[1;32m     25\u001b[0m \u001b[0;32mfrom\u001b[0m \u001b[0mtensorflow\u001b[0m\u001b[0;34m.\u001b[0m\u001b[0mcontrib\u001b[0m\u001b[0;34m.\u001b[0m\u001b[0mlearn\u001b[0m\u001b[0;34m.\u001b[0m\u001b[0mpython\u001b[0m\u001b[0;34m.\u001b[0m\u001b[0mlearn\u001b[0m \u001b[0;32mimport\u001b[0m \u001b[0mbasic_session_run_hooks\u001b[0m\u001b[0;34m\u001b[0m\u001b[0m\n\u001b[1;32m     26\u001b[0m \u001b[0;32mfrom\u001b[0m \u001b[0mtensorflow\u001b[0m\u001b[0;34m.\u001b[0m\u001b[0mcontrib\u001b[0m\u001b[0;34m.\u001b[0m\u001b[0mlearn\u001b[0m\u001b[0;34m.\u001b[0m\u001b[0mpython\u001b[0m\u001b[0;34m.\u001b[0m\u001b[0mlearn\u001b[0m \u001b[0;32mimport\u001b[0m \u001b[0mdatasets\u001b[0m\u001b[0;34m\u001b[0m\u001b[0m\n\u001b[0;32m---> 27\u001b[0;31m \u001b[0;32mfrom\u001b[0m \u001b[0mtensorflow\u001b[0m\u001b[0;34m.\u001b[0m\u001b[0mcontrib\u001b[0m\u001b[0;34m.\u001b[0m\u001b[0mlearn\u001b[0m\u001b[0;34m.\u001b[0m\u001b[0mpython\u001b[0m\u001b[0;34m.\u001b[0m\u001b[0mlearn\u001b[0m \u001b[0;32mimport\u001b[0m \u001b[0mestimators\u001b[0m\u001b[0;34m\u001b[0m\u001b[0m\n\u001b[0m\u001b[1;32m     28\u001b[0m \u001b[0;32mfrom\u001b[0m \u001b[0mtensorflow\u001b[0m\u001b[0;34m.\u001b[0m\u001b[0mcontrib\u001b[0m\u001b[0;34m.\u001b[0m\u001b[0mlearn\u001b[0m\u001b[0;34m.\u001b[0m\u001b[0mpython\u001b[0m\u001b[0;34m.\u001b[0m\u001b[0mlearn\u001b[0m \u001b[0;32mimport\u001b[0m \u001b[0mgraph_actions\u001b[0m\u001b[0;34m\u001b[0m\u001b[0m\n\u001b[1;32m     29\u001b[0m \u001b[0;32mfrom\u001b[0m \u001b[0mtensorflow\u001b[0m\u001b[0;34m.\u001b[0m\u001b[0mcontrib\u001b[0m\u001b[0;34m.\u001b[0m\u001b[0mlearn\u001b[0m\u001b[0;34m.\u001b[0m\u001b[0mpython\u001b[0m\u001b[0;34m.\u001b[0m\u001b[0mlearn\u001b[0m \u001b[0;32mimport\u001b[0m \u001b[0mlearn_io\u001b[0m \u001b[0;32mas\u001b[0m \u001b[0mio\u001b[0m\u001b[0;34m\u001b[0m\u001b[0m\n",
      "\u001b[0;32m/home/carnd/anaconda3/envs/carnd-term1/lib/python3.5/site-packages/tensorflow/contrib/learn/python/learn/estimators/__init__.py\u001b[0m in \u001b[0;36m<module>\u001b[0;34m()\u001b[0m\n\u001b[1;32m    267\u001b[0m \u001b[0;34m\u001b[0m\u001b[0m\n\u001b[1;32m    268\u001b[0m \u001b[0;32mfrom\u001b[0m \u001b[0mtensorflow\u001b[0m\u001b[0;34m.\u001b[0m\u001b[0mcontrib\u001b[0m\u001b[0;34m.\u001b[0m\u001b[0mlearn\u001b[0m\u001b[0;34m.\u001b[0m\u001b[0mpython\u001b[0m\u001b[0;34m.\u001b[0m\u001b[0mlearn\u001b[0m\u001b[0;34m.\u001b[0m\u001b[0mestimators\u001b[0m\u001b[0;34m.\u001b[0m\u001b[0m_sklearn\u001b[0m \u001b[0;32mimport\u001b[0m \u001b[0mNotFittedError\u001b[0m\u001b[0;34m\u001b[0m\u001b[0m\n\u001b[0;32m--> 269\u001b[0;31m \u001b[0;32mfrom\u001b[0m \u001b[0mtensorflow\u001b[0m\u001b[0;34m.\u001b[0m\u001b[0mcontrib\u001b[0m\u001b[0;34m.\u001b[0m\u001b[0mlearn\u001b[0m\u001b[0;34m.\u001b[0m\u001b[0mpython\u001b[0m\u001b[0;34m.\u001b[0m\u001b[0mlearn\u001b[0m\u001b[0;34m.\u001b[0m\u001b[0mestimators\u001b[0m\u001b[0;34m.\u001b[0m\u001b[0mclassifier\u001b[0m \u001b[0;32mimport\u001b[0m \u001b[0mClassifier\u001b[0m\u001b[0;34m\u001b[0m\u001b[0m\n\u001b[0m\u001b[1;32m    270\u001b[0m \u001b[0;32mfrom\u001b[0m \u001b[0mtensorflow\u001b[0m\u001b[0;34m.\u001b[0m\u001b[0mcontrib\u001b[0m\u001b[0;34m.\u001b[0m\u001b[0mlearn\u001b[0m\u001b[0;34m.\u001b[0m\u001b[0mpython\u001b[0m\u001b[0;34m.\u001b[0m\u001b[0mlearn\u001b[0m\u001b[0;34m.\u001b[0m\u001b[0mestimators\u001b[0m\u001b[0;34m.\u001b[0m\u001b[0mdnn\u001b[0m \u001b[0;32mimport\u001b[0m \u001b[0mDNNClassifier\u001b[0m\u001b[0;34m\u001b[0m\u001b[0m\n\u001b[1;32m    271\u001b[0m \u001b[0;32mfrom\u001b[0m \u001b[0mtensorflow\u001b[0m\u001b[0;34m.\u001b[0m\u001b[0mcontrib\u001b[0m\u001b[0;34m.\u001b[0m\u001b[0mlearn\u001b[0m\u001b[0;34m.\u001b[0m\u001b[0mpython\u001b[0m\u001b[0;34m.\u001b[0m\u001b[0mlearn\u001b[0m\u001b[0;34m.\u001b[0m\u001b[0mestimators\u001b[0m\u001b[0;34m.\u001b[0m\u001b[0mdnn\u001b[0m \u001b[0;32mimport\u001b[0m \u001b[0mDNNRegressor\u001b[0m\u001b[0;34m\u001b[0m\u001b[0m\n",
      "\u001b[0;32m/home/carnd/anaconda3/envs/carnd-term1/lib/python3.5/site-packages/tensorflow/contrib/learn/python/learn/estimators/classifier.py\u001b[0m in \u001b[0;36m<module>\u001b[0;34m()\u001b[0m\n\u001b[1;32m     23\u001b[0m \u001b[0;32mfrom\u001b[0m \u001b[0mtensorflow\u001b[0m\u001b[0;34m.\u001b[0m\u001b[0mcontrib\u001b[0m\u001b[0;34m.\u001b[0m\u001b[0mframework\u001b[0m \u001b[0;32mimport\u001b[0m \u001b[0mdeprecated\u001b[0m\u001b[0;34m\u001b[0m\u001b[0m\n\u001b[1;32m     24\u001b[0m \u001b[0;32mfrom\u001b[0m \u001b[0mtensorflow\u001b[0m\u001b[0;34m.\u001b[0m\u001b[0mcontrib\u001b[0m\u001b[0;34m.\u001b[0m\u001b[0mframework\u001b[0m \u001b[0;32mimport\u001b[0m \u001b[0mdeprecated_arg_values\u001b[0m\u001b[0;34m\u001b[0m\u001b[0m\n\u001b[0;32m---> 25\u001b[0;31m \u001b[0;32mfrom\u001b[0m \u001b[0mtensorflow\u001b[0m\u001b[0;34m.\u001b[0m\u001b[0mcontrib\u001b[0m\u001b[0;34m.\u001b[0m\u001b[0mlearn\u001b[0m\u001b[0;34m.\u001b[0m\u001b[0mpython\u001b[0m\u001b[0;34m.\u001b[0m\u001b[0mlearn\u001b[0m\u001b[0;34m.\u001b[0m\u001b[0mestimators\u001b[0m \u001b[0;32mimport\u001b[0m \u001b[0mestimator\u001b[0m\u001b[0;34m\u001b[0m\u001b[0m\n\u001b[0m\u001b[1;32m     26\u001b[0m \u001b[0;32mfrom\u001b[0m \u001b[0mtensorflow\u001b[0m\u001b[0;34m.\u001b[0m\u001b[0mcontrib\u001b[0m\u001b[0;34m.\u001b[0m\u001b[0msession_bundle\u001b[0m \u001b[0;32mimport\u001b[0m \u001b[0mexporter\u001b[0m\u001b[0;34m\u001b[0m\u001b[0m\n\u001b[1;32m     27\u001b[0m \u001b[0;32mfrom\u001b[0m \u001b[0mtensorflow\u001b[0m\u001b[0;34m.\u001b[0m\u001b[0mpython\u001b[0m\u001b[0;34m.\u001b[0m\u001b[0mops\u001b[0m \u001b[0;32mimport\u001b[0m \u001b[0mmath_ops\u001b[0m\u001b[0;34m\u001b[0m\u001b[0m\n",
      "\u001b[0;32m/home/carnd/anaconda3/envs/carnd-term1/lib/python3.5/site-packages/tensorflow/contrib/learn/python/learn/estimators/estimator.py\u001b[0m in \u001b[0;36m<module>\u001b[0;34m()\u001b[0m\n\u001b[1;32m     50\u001b[0m \u001b[0;32mfrom\u001b[0m \u001b[0mtensorflow\u001b[0m\u001b[0;34m.\u001b[0m\u001b[0mcontrib\u001b[0m\u001b[0;34m.\u001b[0m\u001b[0mlearn\u001b[0m\u001b[0;34m.\u001b[0m\u001b[0mpython\u001b[0m\u001b[0;34m.\u001b[0m\u001b[0mlearn\u001b[0m\u001b[0;34m.\u001b[0m\u001b[0mestimators\u001b[0m \u001b[0;32mimport\u001b[0m \u001b[0mtensor_signature\u001b[0m\u001b[0;34m\u001b[0m\u001b[0m\n\u001b[1;32m     51\u001b[0m \u001b[0;32mfrom\u001b[0m \u001b[0mtensorflow\u001b[0m\u001b[0;34m.\u001b[0m\u001b[0mcontrib\u001b[0m\u001b[0;34m.\u001b[0m\u001b[0mlearn\u001b[0m\u001b[0;34m.\u001b[0m\u001b[0mpython\u001b[0m\u001b[0;34m.\u001b[0m\u001b[0mlearn\u001b[0m\u001b[0;34m.\u001b[0m\u001b[0mestimators\u001b[0m\u001b[0;34m.\u001b[0m\u001b[0m_sklearn\u001b[0m \u001b[0;32mimport\u001b[0m \u001b[0mNotFittedError\u001b[0m\u001b[0;34m\u001b[0m\u001b[0m\n\u001b[0;32m---> 52\u001b[0;31m \u001b[0;32mfrom\u001b[0m \u001b[0mtensorflow\u001b[0m\u001b[0;34m.\u001b[0m\u001b[0mcontrib\u001b[0m\u001b[0;34m.\u001b[0m\u001b[0mlearn\u001b[0m\u001b[0;34m.\u001b[0m\u001b[0mpython\u001b[0m\u001b[0;34m.\u001b[0m\u001b[0mlearn\u001b[0m\u001b[0;34m.\u001b[0m\u001b[0mlearn_io\u001b[0m \u001b[0;32mimport\u001b[0m \u001b[0mdata_feeder\u001b[0m\u001b[0;34m\u001b[0m\u001b[0m\n\u001b[0m\u001b[1;32m     53\u001b[0m \u001b[0;32mfrom\u001b[0m \u001b[0mtensorflow\u001b[0m\u001b[0;34m.\u001b[0m\u001b[0mcontrib\u001b[0m\u001b[0;34m.\u001b[0m\u001b[0mlearn\u001b[0m\u001b[0;34m.\u001b[0m\u001b[0mpython\u001b[0m\u001b[0;34m.\u001b[0m\u001b[0mlearn\u001b[0m\u001b[0;34m.\u001b[0m\u001b[0mutils\u001b[0m \u001b[0;32mimport\u001b[0m \u001b[0mexport\u001b[0m\u001b[0;34m\u001b[0m\u001b[0m\n\u001b[1;32m     54\u001b[0m \u001b[0;34m\u001b[0m\u001b[0m\n",
      "\u001b[0;32m/home/carnd/anaconda3/envs/carnd-term1/lib/python3.5/site-packages/tensorflow/contrib/learn/python/learn/learn_io/__init__.py\u001b[0m in \u001b[0;36m<module>\u001b[0;34m()\u001b[0m\n\u001b[1;32m     20\u001b[0m \u001b[0;32mfrom\u001b[0m \u001b[0m__future__\u001b[0m \u001b[0;32mimport\u001b[0m \u001b[0mprint_function\u001b[0m\u001b[0;34m\u001b[0m\u001b[0m\n\u001b[1;32m     21\u001b[0m \u001b[0;34m\u001b[0m\u001b[0m\n\u001b[0;32m---> 22\u001b[0;31m \u001b[0;32mfrom\u001b[0m \u001b[0mtensorflow\u001b[0m\u001b[0;34m.\u001b[0m\u001b[0mcontrib\u001b[0m\u001b[0;34m.\u001b[0m\u001b[0mlearn\u001b[0m\u001b[0;34m.\u001b[0m\u001b[0mpython\u001b[0m\u001b[0;34m.\u001b[0m\u001b[0mlearn\u001b[0m\u001b[0;34m.\u001b[0m\u001b[0mlearn_io\u001b[0m\u001b[0;34m.\u001b[0m\u001b[0mdask_io\u001b[0m \u001b[0;32mimport\u001b[0m \u001b[0mextract_dask_data\u001b[0m\u001b[0;34m\u001b[0m\u001b[0m\n\u001b[0m\u001b[1;32m     23\u001b[0m \u001b[0;32mfrom\u001b[0m \u001b[0mtensorflow\u001b[0m\u001b[0;34m.\u001b[0m\u001b[0mcontrib\u001b[0m\u001b[0;34m.\u001b[0m\u001b[0mlearn\u001b[0m\u001b[0;34m.\u001b[0m\u001b[0mpython\u001b[0m\u001b[0;34m.\u001b[0m\u001b[0mlearn\u001b[0m\u001b[0;34m.\u001b[0m\u001b[0mlearn_io\u001b[0m\u001b[0;34m.\u001b[0m\u001b[0mdask_io\u001b[0m \u001b[0;32mimport\u001b[0m \u001b[0mextract_dask_labels\u001b[0m\u001b[0;34m\u001b[0m\u001b[0m\n\u001b[1;32m     24\u001b[0m \u001b[0;32mfrom\u001b[0m \u001b[0mtensorflow\u001b[0m\u001b[0;34m.\u001b[0m\u001b[0mcontrib\u001b[0m\u001b[0;34m.\u001b[0m\u001b[0mlearn\u001b[0m\u001b[0;34m.\u001b[0m\u001b[0mpython\u001b[0m\u001b[0;34m.\u001b[0m\u001b[0mlearn\u001b[0m\u001b[0;34m.\u001b[0m\u001b[0mlearn_io\u001b[0m\u001b[0;34m.\u001b[0m\u001b[0mdask_io\u001b[0m \u001b[0;32mimport\u001b[0m \u001b[0mHAS_DASK\u001b[0m\u001b[0;34m\u001b[0m\u001b[0m\n",
      "\u001b[0;32m/home/carnd/anaconda3/envs/carnd-term1/lib/python3.5/site-packages/tensorflow/contrib/learn/python/learn/learn_io/dask_io.py\u001b[0m in \u001b[0;36m<module>\u001b[0;34m()\u001b[0m\n\u001b[1;32m     24\u001b[0m \u001b[0;32mtry\u001b[0m\u001b[0;34m:\u001b[0m\u001b[0;34m\u001b[0m\u001b[0m\n\u001b[1;32m     25\u001b[0m   \u001b[0;31m# pylint: disable=g-import-not-at-top\u001b[0m\u001b[0;34m\u001b[0m\u001b[0;34m\u001b[0m\u001b[0m\n\u001b[0;32m---> 26\u001b[0;31m   \u001b[0;32mimport\u001b[0m \u001b[0mdask\u001b[0m\u001b[0;34m.\u001b[0m\u001b[0mdataframe\u001b[0m \u001b[0;32mas\u001b[0m \u001b[0mdd\u001b[0m\u001b[0;34m\u001b[0m\u001b[0m\n\u001b[0m\u001b[1;32m     27\u001b[0m   \u001b[0mallowed_classes\u001b[0m \u001b[0;34m=\u001b[0m \u001b[0;34m(\u001b[0m\u001b[0mdd\u001b[0m\u001b[0;34m.\u001b[0m\u001b[0mSeries\u001b[0m\u001b[0;34m,\u001b[0m \u001b[0mdd\u001b[0m\u001b[0;34m.\u001b[0m\u001b[0mDataFrame\u001b[0m\u001b[0;34m)\u001b[0m\u001b[0;34m\u001b[0m\u001b[0m\n\u001b[1;32m     28\u001b[0m   \u001b[0mHAS_DASK\u001b[0m \u001b[0;34m=\u001b[0m \u001b[0;32mTrue\u001b[0m\u001b[0;34m\u001b[0m\u001b[0m\n",
      "\u001b[0;32m/home/carnd/anaconda3/envs/carnd-term1/lib/python3.5/site-packages/dask/dataframe/__init__.py\u001b[0m in \u001b[0;36m<module>\u001b[0;34m()\u001b[0m\n\u001b[1;32m      1\u001b[0m \u001b[0;32mfrom\u001b[0m \u001b[0m__future__\u001b[0m \u001b[0;32mimport\u001b[0m \u001b[0mprint_function\u001b[0m\u001b[0;34m,\u001b[0m \u001b[0mdivision\u001b[0m\u001b[0;34m,\u001b[0m \u001b[0mabsolute_import\u001b[0m\u001b[0;34m\u001b[0m\u001b[0m\n\u001b[1;32m      2\u001b[0m \u001b[0;34m\u001b[0m\u001b[0m\n\u001b[0;32m----> 3\u001b[0;31m from .core import (DataFrame, Series, Index, _Frame, map_partitions,\n\u001b[0m\u001b[1;32m      4\u001b[0m                    repartition, to_delayed)\n\u001b[1;32m      5\u001b[0m from .io import (from_array, from_pandas, from_bcolz,\n",
      "\u001b[0;32m/home/carnd/anaconda3/envs/carnd-term1/lib/python3.5/site-packages/dask/dataframe/core.py\u001b[0m in \u001b[0;36m<module>\u001b[0;34m()\u001b[0m\n\u001b[1;32m     38\u001b[0m \u001b[0mno_default\u001b[0m \u001b[0;34m=\u001b[0m \u001b[0;34m'__no_default__'\u001b[0m\u001b[0;34m\u001b[0m\u001b[0m\n\u001b[1;32m     39\u001b[0m \u001b[0;34m\u001b[0m\u001b[0m\n\u001b[0;32m---> 40\u001b[0;31m \u001b[0mpd\u001b[0m\u001b[0;34m.\u001b[0m\u001b[0mcomputation\u001b[0m\u001b[0;34m.\u001b[0m\u001b[0mexpressions\u001b[0m\u001b[0;34m.\u001b[0m\u001b[0mset_use_numexpr\u001b[0m\u001b[0;34m(\u001b[0m\u001b[0;32mFalse\u001b[0m\u001b[0;34m)\u001b[0m\u001b[0;34m\u001b[0m\u001b[0m\n\u001b[0m\u001b[1;32m     41\u001b[0m \u001b[0;34m\u001b[0m\u001b[0m\n\u001b[1;32m     42\u001b[0m \u001b[0;34m\u001b[0m\u001b[0m\n",
      "\u001b[0;31mAttributeError\u001b[0m: module 'pandas' has no attribute 'computation'"
     ]
    }
   ],
   "source": [
    "### Define your architecture here.\n",
    "### Feel free to use as many code cells as needed.\n",
    "\n",
    "#LeNet accepts 32x32xC where C is the 3 is colour. MNIST data is greyscale so C=1\n",
    "\n",
    "#LeNEt Architecture\n",
    "\n",
    "from tensorflow.contrib.layers import flatten\n",
    "\n",
    "def LeNet(x):    \n",
    "    # Arguments used for tf.truncated_normal, randomly defines variables for the weights and biases for each layer\n",
    "    mu = 0\n",
    "    sigma = 0.1\n",
    "    \n",
    "    # SOLUTION: Layer 1: Convolutional. Input = 32x32x3 \n",
    "    #(changed input depth from 1 to 3 due to colour). Output = 28x28x6.\n",
    "    #(changed input depth from 3 to 1 due to grayscale function). Output = 28x28x6.\n",
    "    conv1_W = tf.Variable(tf.truncated_normal(shape=(5, 5, 3, 6), mean = mu, stddev = sigma))\n",
    "    conv1_b = tf.Variable(tf.zeros(6))\n",
    "    conv1   = tf.nn.conv2d(x, conv1_W, strides=[1, 1, 1, 1], padding='VALID') + conv1_b\n",
    "\n",
    "    # SOLUTION: Activation.\n",
    "    conv1 = tf.nn.relu(conv1)\n",
    "\n",
    "    # SOLUTION: Pooling. Input = 28x28x6. Output = 14x14x6.\n",
    "    conv1 = tf.nn.max_pool(conv1, ksize=[1, 2, 2, 1], strides=[1, 2, 2, 1], padding='VALID')\n",
    "\n",
    "    # SOLUTION: Layer 2: Convolutional. Output = 10x10x16.\n",
    "    conv2_W = tf.Variable(tf.truncated_normal(shape=(5, 5, 6, 16), mean = mu, stddev = sigma))\n",
    "    conv2_b = tf.Variable(tf.zeros(16))\n",
    "    conv2   = tf.nn.conv2d(conv1, conv2_W, strides=[1, 1, 1, 1], padding='VALID') + conv2_b\n",
    "    \n",
    "    # SOLUTION: Activation.\n",
    "    conv2 = tf.nn.relu(conv2)\n",
    "\n",
    "    # SOLUTION: Pooling. Input = 10x10x16. Output = 5x5x16.\n",
    "    conv2 = tf.nn.max_pool(conv2, ksize=[1, 2, 2, 1], strides=[1, 2, 2, 1], padding='VALID')\n",
    "\n",
    "    # SOLUTION: Flatten. Input = 5x5x16. Output = 400.\n",
    "    fc0   = flatten(conv2)\n",
    "    \n",
    "    # SOLUTION: Layer 3: Fully Connected. Input = 400. Output = 120.\n",
    "    fc1_W = tf.Variable(tf.truncated_normal(shape=(400, 120), mean = mu, stddev = sigma))\n",
    "    fc1_b = tf.Variable(tf.zeros(120))\n",
    "    fc1   = tf.matmul(fc0, fc1_W) + fc1_b\n",
    "    \n",
    "    # SOLUTION: Activation.\n",
    "    fc1    = tf.nn.relu(fc1)\n",
    "    fc1 = tf.nn.dropout(fc1, keep_prob)\n",
    "    # SOLUTION: Layer 4: Fully Connected. Input = 120. Output = 84.\n",
    "    fc2_W  = tf.Variable(tf.truncated_normal(shape=(120, 84), mean = mu, stddev = sigma))\n",
    "    fc2_b  = tf.Variable(tf.zeros(84))\n",
    "    fc2    = tf.matmul(fc1, fc2_W) + fc2_b\n",
    "    \n",
    "    # SOLUTION: Activation.\n",
    "    fc2    = tf.nn.relu(fc2)\n",
    "    fc2 = tf.nn.dropout(fc2, keep_prob)\n",
    "\n",
    "    # SOLUTION: Layer 5: Fully Connected. Input = 84. Output = 43.(changed output from 10 to 43 classes)\n",
    "    fc3_W  = tf.Variable(tf.truncated_normal(shape=(84, 43), mean = mu, stddev = sigma))\n",
    "    fc3_b  = tf.Variable(tf.zeros(43))\n",
    "    logits = tf.matmul(fc2, fc3_W) + fc3_b\n",
    "    \n",
    "    return logits\n"
   ]
  },
  {
   "cell_type": "markdown",
   "metadata": {},
   "source": [
    "### Train, Validate and Test the Model"
   ]
  },
  {
   "cell_type": "markdown",
   "metadata": {},
   "source": [
    "A validation set can be used to assess how well the model is performing. A low accuracy on the training and validation\n",
    "sets imply underfitting. A high accuracy on the training set but low accuracy on the validation set implies overfitting."
   ]
  },
  {
   "cell_type": "code",
   "execution_count": 32,
   "metadata": {
    "scrolled": true
   },
   "outputs": [
    {
     "name": "stdout",
     "output_type": "stream",
     "text": [
      "Training...\n",
      "\n",
      "batch = 45101 ...\n",
      "Train Accuracy = 0.431\n",
      "\n",
      "EPOCH 1 ...\n",
      "Validation Accuracy = 0.402\n",
      "\n",
      "batch = 45101 ...\n",
      "Train Accuracy = 0.628\n",
      "\n",
      "EPOCH 2 ...\n",
      "Validation Accuracy = 0.590\n",
      "\n",
      "batch = 45101 ...\n",
      "Train Accuracy = 0.736\n",
      "\n",
      "EPOCH 3 ...\n",
      "Validation Accuracy = 0.696\n",
      "\n",
      "batch = 45101 ...\n",
      "Train Accuracy = 0.789\n",
      "\n",
      "EPOCH 4 ...\n",
      "Validation Accuracy = 0.745\n",
      "\n",
      "batch = 45101 ...\n",
      "Train Accuracy = 0.829\n",
      "\n",
      "EPOCH 5 ...\n",
      "Validation Accuracy = 0.782\n",
      "\n",
      "batch = 45101 ...\n",
      "Train Accuracy = 0.847\n",
      "\n",
      "EPOCH 6 ...\n",
      "Validation Accuracy = 0.795\n",
      "\n",
      "batch = 45101 ...\n",
      "Train Accuracy = 0.872\n",
      "\n",
      "EPOCH 7 ...\n",
      "Validation Accuracy = 0.813\n",
      "\n",
      "batch = 45101 ...\n",
      "Train Accuracy = 0.883\n",
      "\n",
      "EPOCH 8 ...\n",
      "Validation Accuracy = 0.834\n",
      "\n",
      "batch = 45101 ...\n",
      "Train Accuracy = 0.893\n",
      "\n",
      "EPOCH 9 ...\n",
      "Validation Accuracy = 0.833\n",
      "\n",
      "batch = 45101 ...\n",
      "Train Accuracy = 0.902\n",
      "\n",
      "EPOCH 10 ...\n",
      "Validation Accuracy = 0.836\n",
      "\n",
      "batch = 45101 ...\n",
      "Train Accuracy = 0.903\n",
      "\n",
      "EPOCH 11 ...\n",
      "Validation Accuracy = 0.844\n",
      "\n",
      "batch = 45101 ...\n",
      "Train Accuracy = 0.914\n",
      "\n",
      "EPOCH 12 ...\n",
      "Validation Accuracy = 0.853\n",
      "\n",
      "batch = 45101 ...\n",
      "Train Accuracy = 0.917\n",
      "\n",
      "EPOCH 13 ...\n",
      "Validation Accuracy = 0.860\n",
      "\n",
      "batch = 45101 ...\n",
      "Train Accuracy = 0.926\n",
      "\n",
      "EPOCH 14 ...\n",
      "Validation Accuracy = 0.859\n",
      "\n",
      "batch = 45101 ...\n",
      "Train Accuracy = 0.932\n",
      "\n",
      "EPOCH 15 ...\n",
      "Validation Accuracy = 0.867\n",
      "\n",
      "batch = 45101 ...\n",
      "Train Accuracy = 0.932\n",
      "\n",
      "EPOCH 16 ...\n",
      "Validation Accuracy = 0.862\n",
      "\n",
      "batch = 45101 ...\n",
      "Train Accuracy = 0.938\n",
      "\n",
      "EPOCH 17 ...\n",
      "Validation Accuracy = 0.874\n",
      "\n",
      "batch = 45101 ...\n",
      "Train Accuracy = 0.940\n",
      "\n",
      "EPOCH 18 ...\n",
      "Validation Accuracy = 0.874\n",
      "\n",
      "batch = 45101 ...\n",
      "Train Accuracy = 0.943\n",
      "\n",
      "EPOCH 19 ...\n",
      "Validation Accuracy = 0.878\n",
      "\n",
      "batch = 45101 ...\n",
      "Train Accuracy = 0.938\n",
      "\n",
      "EPOCH 20 ...\n",
      "Validation Accuracy = 0.870\n",
      "\n",
      "batch = 45101 ...\n",
      "Train Accuracy = 0.944\n",
      "\n",
      "EPOCH 21 ...\n",
      "Validation Accuracy = 0.873\n",
      "\n",
      "batch = 45101 ...\n",
      "Train Accuracy = 0.946\n",
      "\n",
      "EPOCH 22 ...\n",
      "Validation Accuracy = 0.877\n",
      "\n",
      "batch = 45101 ...\n",
      "Train Accuracy = 0.949\n",
      "\n",
      "EPOCH 23 ...\n",
      "Validation Accuracy = 0.885\n",
      "\n",
      "batch = 45101 ...\n",
      "Train Accuracy = 0.948\n",
      "\n",
      "EPOCH 24 ...\n",
      "Validation Accuracy = 0.885\n",
      "\n",
      "batch = 45101 ...\n",
      "Train Accuracy = 0.953\n",
      "\n",
      "EPOCH 25 ...\n",
      "Validation Accuracy = 0.889\n",
      "\n",
      "batch = 45101 ...\n",
      "Train Accuracy = 0.954\n",
      "\n",
      "EPOCH 26 ...\n",
      "Validation Accuracy = 0.896\n",
      "\n",
      "batch = 45101 ...\n",
      "Train Accuracy = 0.952\n",
      "\n",
      "EPOCH 27 ...\n",
      "Validation Accuracy = 0.898\n",
      "\n",
      "batch = 45101 ...\n",
      "Train Accuracy = 0.957\n",
      "\n",
      "EPOCH 28 ...\n",
      "Validation Accuracy = 0.895\n",
      "\n",
      "batch = 45101 ...\n",
      "Train Accuracy = 0.952\n",
      "\n",
      "EPOCH 29 ...\n",
      "Validation Accuracy = 0.886\n",
      "\n",
      "batch = 45101 ...\n",
      "Train Accuracy = 0.959\n",
      "\n",
      "EPOCH 30 ...\n",
      "Validation Accuracy = 0.893\n",
      "\n",
      "batch = 45101 ...\n",
      "Train Accuracy = 0.954\n",
      "\n",
      "EPOCH 31 ...\n",
      "Validation Accuracy = 0.886\n",
      "\n",
      "batch = 45101 ...\n",
      "Train Accuracy = 0.960\n",
      "\n",
      "EPOCH 32 ...\n",
      "Validation Accuracy = 0.896\n",
      "\n",
      "batch = 45101 ...\n",
      "Train Accuracy = 0.962\n",
      "\n",
      "EPOCH 33 ...\n",
      "Validation Accuracy = 0.892\n",
      "\n",
      "batch = 45101 ...\n",
      "Train Accuracy = 0.958\n",
      "\n",
      "EPOCH 34 ...\n",
      "Validation Accuracy = 0.891\n",
      "\n",
      "batch = 45101 ...\n",
      "Train Accuracy = 0.963\n",
      "\n",
      "EPOCH 35 ...\n",
      "Validation Accuracy = 0.901\n",
      "\n",
      "batch = 45101 ...\n",
      "Train Accuracy = 0.959\n",
      "\n",
      "EPOCH 36 ...\n",
      "Validation Accuracy = 0.888\n",
      "\n",
      "batch = 45101 ...\n",
      "Train Accuracy = 0.961\n",
      "\n",
      "EPOCH 37 ...\n",
      "Validation Accuracy = 0.897\n",
      "\n",
      "batch = 45101 ...\n",
      "Train Accuracy = 0.962\n",
      "\n",
      "EPOCH 38 ...\n",
      "Validation Accuracy = 0.897\n",
      "\n",
      "batch = 45101 ...\n",
      "Train Accuracy = 0.957\n",
      "\n",
      "EPOCH 39 ...\n",
      "Validation Accuracy = 0.897\n",
      "\n",
      "batch = 45101 ...\n",
      "Train Accuracy = 0.962\n",
      "\n",
      "EPOCH 40 ...\n",
      "Validation Accuracy = 0.896\n",
      "\n",
      "batch = 45101 ...\n",
      "Train Accuracy = 0.966\n",
      "\n",
      "EPOCH 41 ...\n",
      "Validation Accuracy = 0.900\n",
      "\n",
      "batch = 45101 ...\n",
      "Train Accuracy = 0.967\n",
      "\n",
      "EPOCH 42 ...\n",
      "Validation Accuracy = 0.903\n",
      "\n",
      "batch = 45101 ...\n",
      "Train Accuracy = 0.962\n",
      "\n",
      "EPOCH 43 ...\n",
      "Validation Accuracy = 0.897\n",
      "\n",
      "batch = 45101 ...\n",
      "Train Accuracy = 0.964\n",
      "\n",
      "EPOCH 44 ...\n",
      "Validation Accuracy = 0.901\n",
      "\n",
      "batch = 45101 ...\n",
      "Train Accuracy = 0.967\n",
      "\n",
      "EPOCH 45 ...\n",
      "Validation Accuracy = 0.904\n",
      "\n",
      "batch = 45101 ...\n",
      "Train Accuracy = 0.965\n",
      "\n",
      "EPOCH 46 ...\n",
      "Validation Accuracy = 0.906\n",
      "\n",
      "batch = 45101 ...\n",
      "Train Accuracy = 0.968\n",
      "\n",
      "EPOCH 47 ...\n",
      "Validation Accuracy = 0.908\n",
      "\n",
      "batch = 45101 ...\n",
      "Train Accuracy = 0.964\n",
      "\n",
      "EPOCH 48 ...\n",
      "Validation Accuracy = 0.904\n",
      "\n",
      "batch = 45101 ...\n",
      "Train Accuracy = 0.969\n",
      "\n",
      "EPOCH 49 ...\n",
      "Validation Accuracy = 0.910\n",
      "\n",
      "batch = 45101 ...\n",
      "Train Accuracy = 0.969\n",
      "\n",
      "EPOCH 50 ...\n",
      "Validation Accuracy = 0.912\n",
      "\n",
      "Test Accuracy = 0.913\n",
      "Model saved\n"
     ]
    }
   ],
   "source": [
    "### Train your model here.\n",
    "### Calculate and report the accuracy on the training and validation set.\n",
    "### Once a final model architecture is selected, \n",
    "### the accuracy on the test set should be calculated and reported as well.\n",
    "### Feel free to use as many code cells as needed.\n",
    "\n",
    "\n",
    "#Train LeNet to classify MNIST Data \n",
    "# x is a placeholder for a batch of input images\n",
    "# y is a placeholder for a batch of output labels\n",
    "\n",
    "#Update tensor shapes for colour depth and number of classes\n",
    "#Update tensor shapes for colour depth and number of classes colour is grey only\n",
    "\n",
    "x = tf.placeholder(tf.float32, (None, 32, 32, 3))\n",
    "#x = tf.placeholder(tf.float32, (None, 32, 32))\n",
    "y = tf.placeholder(tf.int32, (None))\n",
    "one_hot_y = tf.one_hot(y, 43)\n",
    "keep_prob = tf.placeholder(tf.float32)\n",
    "\n",
    "#Training Pipeline\n",
    "\n",
    "rate = 0.00088\n",
    "\n",
    "logits = LeNet(x)\n",
    "cross_entropy = tf.nn.softmax_cross_entropy_with_logits(labels=one_hot_y, logits=logits)\n",
    "loss_operation = tf.reduce_mean(cross_entropy)\n",
    "optimizer = tf.train.AdamOptimizer(learning_rate = rate)\n",
    "training_operation = optimizer.minimize(loss_operation)\n",
    "\n",
    "training_loss_history = [] \n",
    "validation_loss_history = []\n",
    "training_accuracy_history = [] \n",
    "validation_accuracy_history = []\n",
    "\n",
    "\n",
    "#Model Evaluation\n",
    "#Evaluate loss and accuracy of the model for a given data set.\n",
    "\n",
    "correct_prediction = tf.equal(tf.argmax(logits, 1), tf.argmax(one_hot_y, 1))\n",
    "accuracy_operation = tf.reduce_mean(tf.cast(correct_prediction, tf.float32))\n",
    "saver = tf.train.Saver()\n",
    "\n",
    "def evaluate(X_data, y_data):\n",
    "    num_examples = len(X_data)\n",
    "    total_accuracy = 0\n",
    "    sess = tf.get_default_session()\n",
    "    for offset in range(0, num_examples, BATCH_SIZE):\n",
    "        batch_x, batch_y = X_data[offset:offset+BATCH_SIZE], y_data[offset:offset+BATCH_SIZE]\n",
    "        accuracy = sess.run(accuracy_operation, feed_dict={x: batch_x, y: batch_y, keep_prob: 0.5})\n",
    "        total_accuracy += (accuracy * len(batch_x))\n",
    "    return total_accuracy / num_examples\n",
    "\n",
    "\n",
    "#Train the Model\n",
    "#Run the training data through the training pipeline to train the model\n",
    "\n",
    "with tf.Session() as sess:\n",
    "    sess.run(tf.global_variables_initializer())\n",
    "    num_examples = len(X_train)\n",
    "    \n",
    "    print(\"Training...\")\n",
    "    print()\n",
    "    for i in range(EPOCHS):\n",
    "        X_train, y_train = shuffle(X_train, y_train)\n",
    "        for offset in range(0, num_examples, BATCH_SIZE):\n",
    "            end = offset + BATCH_SIZE\n",
    "            batch_x, batch_y = X_train[offset:end], y_train[offset:end]\n",
    "            sess.run(training_operation, feed_dict={x: batch_x, y: batch_y, keep_prob: 0.5})\n",
    "        train_accuracy = evaluate(X_train, y_train)\n",
    "        print(\"batch = {} ...\".format(offset+1))\n",
    "        print(\"Train Accuracy = {:.3f}\".format(train_accuracy))\n",
    "        print()\n",
    "       # train_loss, train_accuracy = evaluate(X_train, y_train)\n",
    "        #training_loss_history.append(train_loss)\n",
    "        #training_accuracy_history.append(train_accuracy)\n",
    "        \n",
    "        validation_accuracy = evaluate(X_valid, y_valid)\n",
    "        print(\"EPOCH {} ...\".format(i+1))\n",
    "        print(\"Validation Accuracy = {:.3f}\".format(validation_accuracy))\n",
    "        print()\n",
    "\n",
    "    #Now test the model on test data and measure accuracy\n",
    "    test_accuracy = evaluate(X_test, y_test)\n",
    "    print(\"Test Accuracy = {:.3f}\".format(test_accuracy))\n",
    "    #Commenting out saving the session   \n",
    "    saver.save(sess, './lenet')\n",
    "    print(\"Model saved\")\n"
   ]
  },
  {
   "cell_type": "code",
   "execution_count": null,
   "metadata": {
    "collapsed": true
   },
   "outputs": [],
   "source": [
    "print(X_valid[0])"
   ]
  },
  {
   "cell_type": "markdown",
   "metadata": {},
   "source": [
    "---\n",
    "\n",
    "## Step 3: Test a Model on New Images\n",
    "\n",
    "To give yourself more insight into how your model is working, download at least five pictures of German traffic signs from the web and use your model to predict the traffic sign type.\n",
    "\n",
    "You may find `signnames.csv` useful as it contains mappings from the class id (integer) to the actual sign name."
   ]
  },
  {
   "cell_type": "markdown",
   "metadata": {},
   "source": [
    "### Load and Output the Images"
   ]
  },
  {
   "cell_type": "code",
   "execution_count": 33,
   "metadata": {},
   "outputs": [
    {
     "name": "stdout",
     "output_type": "stream",
     "text": [
      "['images/speed_50_001.jpg', 'images/sign_1.jpeg', 'images/slippery_road_001.jpg', 'images/speed_80_001.jpg', 'images/pedxing_001.jpg']\n"
     ]
    },
    {
     "data": {
      "image/png": "[encoded data removed]",
      "text/plain": [
       "<matplotlib.figure.Figure at 0x7f34b1d8bbe0>"
      ]
     },
     "metadata": {},
     "output_type": "display_data"
    },
    {
     "name": "stdout",
     "output_type": "stream",
     "text": [
      "(32, 32, 3)\n",
      "(32, 32, 3)\n",
      "label =  2\n"
     ]
    },
    {
     "data": {
      "image/png": "[encoded data removed]",
      "text/plain": [
       "<matplotlib.figure.Figure at 0x7f34b1d03d30>"
      ]
     },
     "metadata": {},
     "output_type": "display_data"
    },
    {
     "name": "stdout",
     "output_type": "stream",
     "text": [
      "(210, 240, 3)\n",
      "(32, 32, 3)\n",
      "label =  5\n"
     ]
    },
    {
     "data": {
      "image/png": "[encoded data removed]",
      "text/plain": [
       "<matplotlib.figure.Figure at 0x7f34b1d326d8>"
      ]
     },
     "metadata": {},
     "output_type": "display_data"
    },
    {
     "name": "stdout",
     "output_type": "stream",
     "text": [
      "(32, 32, 3)\n",
      "(32, 32, 3)\n",
      "label =  27\n"
     ]
    },
    {
     "data": {
      "image/png": "[encoded data removed]",
      "text/plain": [
       "<matplotlib.figure.Figure at 0x7f34b1c71d68>"
      ]
     },
     "metadata": {},
     "output_type": "display_data"
    },
    {
     "name": "stdout",
     "output_type": "stream",
     "text": [
      "(32, 32, 3)\n",
      "(32, 32, 3)\n",
      "label =  23\n"
     ]
    },
    {
     "data": {
      "image/png": "[encoded data removed]",
      "text/plain": [
       "<matplotlib.figure.Figure at 0x7f34b1bc4da0>"
      ]
     },
     "metadata": {},
     "output_type": "display_data"
    },
    {
     "name": "stdout",
     "output_type": "stream",
     "text": [
      "(32, 32, 3)\n",
      "(32, 32, 3)\n",
      "label =  14\n"
     ]
    }
   ],
   "source": [
    "### Load the images and plot them here.\n",
    "### Feel free to use as many code cells as needed.\n",
    "import os\n",
    "import matplotlib.image as mpimg\n",
    "\n",
    "webbies = []\n",
    "path = \"images/\"\n",
    "\n",
    "for img in os.listdir(path):\n",
    "    image = path + img\n",
    "    webbies.append(image)\n",
    "\n",
    "web_images = np.zeros((len(webbies), 32, 32, 3), dtype = np.uint8)\n",
    "web_labels = [2,5,27,23,14]\n",
    "print(webbies)\n",
    "i=1\n",
    "for i in range(len(webbies)):\n",
    "    image = mpimg.imread(webbies[i])\n",
    "    image_small = cv2.resize(image, (32, 32)) \n",
    "    web_images[i] = image_small\n",
    "    plt.figure(figsize=(2, 2))\n",
    "    plt.imshow(image)\n",
    "    plt.axis('off')\n",
    "    plt.show()\n",
    "    print(image.shape)\n",
    "    print(image_small.shape)\n",
    "    print(\"label = \",web_labels[i])\n"
   ]
  },
  {
   "cell_type": "code",
   "execution_count": 34,
   "metadata": {},
   "outputs": [
    {
     "name": "stdout",
     "output_type": "stream",
     "text": [
      "(5, 32, 32, 3)\n",
      "result_logits =  [[  -4.79827499   -8.09523678  -16.36989403  -11.13721275   -0.68801141\n",
      "     2.36917973  -11.08041      -1.1132946     7.66788149   -8.42384243\n",
      "   -12.20089531  -19.0471344   -21.74875832  -26.30198669  -29.06053734\n",
      "    -7.47677994   -0.87314302  -22.70492363  -14.71153641  -11.69371796\n",
      "    -9.95699596  -40.96537399  -30.84465408  -18.20331764  -29.46056557\n",
      "   -24.87691689  -26.05507851  -37.65756226  -11.2437067   -15.89974213\n",
      "   -16.00756073  -24.35514641  -16.85407066  -29.52053642   -8.53954315\n",
      "    -4.59428453  -10.24377441  -17.34160423   -3.76094675  -15.23516178\n",
      "    -0.70329887  -19.8674984   -18.77170753]\n",
      " [ -58.83324814  -96.11149597 -206.17630005 -138.87135315 -143.57888794\n",
      "   -73.93321991  -73.06415558  -56.99755859  -94.89650726  -35.25124359\n",
      "   -17.39206696    0.60400969   84.23703766  -54.30901718  -67.41230774\n",
      "  -178.08505249  -56.53466415    6.74844408  -99.21389771  -62.30955505\n",
      "   -40.41147995  -72.00189209 -184.74557495  -36.39676285 -190.05517578\n",
      "   -49.67411423  -19.26774216 -189.8979187  -207.33988953 -205.40884399\n",
      "   -22.86170578 -204.65309143 -123.52087402 -138.41157532 -198.50648499\n",
      "  -227.13000488 -241.70935059 -113.38803101  -96.17765045 -231.72932434\n",
      "   -47.44102478  -49.42413712  -25.23448563]\n",
      " [-108.62462616 -102.23104095  -18.97069168    1.22462893  -67.40301514\n",
      "   -37.01196289 -167.23167419  -66.51165771 -100.79957581   -3.57221603\n",
      "    10.94937706  -68.62270355  -69.49855804  -50.20318222  -65.75934601\n",
      "   -27.7987442   -40.08887482  -47.70766449  -31.96035385   11.33208179\n",
      "   -21.18054008    3.77939439   -4.49032879   28.84733772   -0.47806069\n",
      "    -1.60371268  -26.77804184  -65.65422821  -23.95029068   10.15969467\n",
      "   -18.55879211   12.71902084 -149.20829773  -89.8081131  -111.0535202\n",
      "   -38.67303467 -140.85595703  -46.41122055 -109.35584259  -30.93736267\n",
      "   -87.1697464  -106.49034119  -52.16108704]\n",
      " [   4.78868771    8.81385136  -29.71877861  -28.39756775  -16.77552795\n",
      "   -13.89037514  -33.47085571    1.29551959   -1.15309405   -6.11614084\n",
      "   -36.24781799  -41.23590469  -21.79658699   -7.7466116   -11.00478554\n",
      "   -26.25704384    3.20179725   -1.12999558  -40.19477844  -15.00778198\n",
      "   -63.13414764  -40.35598373  -46.83308411  -51.91201401  -68.23409271\n",
      "   -42.50910568  -31.23978233  -60.08134079  -50.00991821  -48.64778137\n",
      "   -59.33964539  -47.23375702   -8.79656696  -20.26331329  -23.24910927\n",
      "   -16.92748833  -24.97813225  -28.79383469  -42.40834045  -43.00714493\n",
      "   -25.98164177  -40.09841156  -49.19018173]\n",
      " [  20.71702957   10.27951813  -46.95598984  -50.58338928    7.42290878\n",
      "   -24.04050636  -32.70606613  -32.20058823   -5.22541523  -29.96043587\n",
      "   -28.64172935  -46.97638702  -34.83014679  -33.71573639  -17.57156563\n",
      "   -25.55606461   -6.75530624   -9.74913788   -8.68466377  -13.78179741\n",
      "   -37.00819016  -67.88780975  -27.82391167  -46.83382034  -43.59407043\n",
      "   -34.18096161  -19.73852539  -28.09126282  -41.43899536  -46.02733231\n",
      "   -65.13051605  -68.11090851  -13.9900465   -53.09752655  -40.78157425\n",
      "    -6.79920626   10.30326843  -15.11910915  -38.45670319  -31.2346611\n",
      "   -11.2308073   -44.16049957  -45.72513199]]\n",
      "result_label =  [ 8 12 23  1  0]\n"
     ]
    },
    {
     "data": {
      "text/plain": [
       "<function __main__.normalize_image>"
      ]
     },
     "execution_count": 34,
     "metadata": {},
     "output_type": "execute_result"
    }
   ],
   "source": [
    "web_images = web_images.astype(np.float32)\n",
    "web_images = normalize_image(web_images)\n",
    "print(web_images.shape)\n",
    "\n",
    "with tf.Session() as sess:\n",
    "    saver.restore(sess, tf.train.latest_checkpoint('.'))\n",
    "    result_logits = sess.run(logits, feed_dict={x: web_images, keep_prob: 0.5})\n",
    "    result_label = np.argmax(result_logits, axis=1)\n",
    "    \n",
    "print(\"result_logits = \",result_logits)\n",
    "print(\"result_label = \",result_label)\n",
    "normalize_image"
   ]
  },
  {
   "cell_type": "markdown",
   "metadata": {},
   "source": [
    "### Predict the Sign Type for Each Image"
   ]
  },
  {
   "cell_type": "code",
   "execution_count": null,
   "metadata": {
    "collapsed": true
   },
   "outputs": [],
   "source": [
    "### Run the predictions here and use the model to output the prediction for each image.\n",
    "### Make sure to pre-process the images with the same pre-processing pipeline used earlier.\n",
    "### Feel free to use as many code cells as needed."
   ]
  },
  {
   "cell_type": "markdown",
   "metadata": {},
   "source": [
    "### Analyze Performance"
   ]
  },
  {
   "cell_type": "code",
   "execution_count": 35,
   "metadata": {},
   "outputs": [
    {
     "name": "stdout",
     "output_type": "stream",
     "text": [
      "0.0\n"
     ]
    }
   ],
   "source": [
    "### Calculate the accuracy for these 5 new images. \n",
    "### For example, if the model predicted 1 out of 5 signs correctly, it's 20% accurate on these new images.\n",
    "with tf.Session() as sess:\n",
    "    saver.restore(sess, tf.train.latest_checkpoint('.'))\n",
    "    correct_pred = tf.equal(result_label, web_labels)\n",
    "    accuracy_operation = tf.reduce_mean(tf.cast(correct_pred, tf.float32))\n",
    "    accuracy = sess.run(accuracy_operation)\n",
    "    print(accuracy)"
   ]
  },
  {
   "cell_type": "markdown",
   "metadata": {},
   "source": [
    "### Output Top 5 Softmax Probabilities For Each Image Found on the Web"
   ]
  },
  {
   "cell_type": "markdown",
   "metadata": {},
   "source": [
    "For each of the new images, print out the model's softmax probabilities to show the **certainty** of the model's predictions (limit the output to the top 5 probabilities for each image). [`tf.nn.top_k`](https://www.tensorflow.org/versions/r0.12/api_docs/python/nn.html#top_k) could prove helpful here. \n",
    "\n",
    "The example below demonstrates how tf.nn.top_k can be used to find the top k predictions for each image.\n",
    "\n",
    "`tf.nn.top_k` will return the values and indices (class ids) of the top k predictions. So if k=3, for each sign, it'll return the 3 largest probabilities (out of a possible 43) and the correspoding class ids.\n",
    "\n",
    "Take this numpy array as an example. The values in the array represent predictions. The array contains softmax probabilities for five candidate images with six possible classes. `tf.nn.top_k` is used to choose the three classes with the highest probability:\n",
    "\n",
    "```\n",
    "# (5, 6) array\n",
    "a = np.array([[ 0.24879643,  0.07032244,  0.12641572,  0.34763842,  0.07893497,\n",
    "         0.12789202],\n",
    "       [ 0.28086119,  0.27569815,  0.08594638,  0.0178669 ,  0.18063401,\n",
    "         0.15899337],\n",
    "       [ 0.26076848,  0.23664738,  0.08020603,  0.07001922,  0.1134371 ,\n",
    "         0.23892179],\n",
    "       [ 0.11943333,  0.29198961,  0.02605103,  0.26234032,  0.1351348 ,\n",
    "         0.16505091],\n",
    "       [ 0.09561176,  0.34396535,  0.0643941 ,  0.16240774,  0.24206137,\n",
    "         0.09155967]])\n",
    "```\n",
    "\n",
    "Running it through `sess.run(tf.nn.top_k(tf.constant(a), k=3))` produces:\n",
    "\n",
    "```\n",
    "TopKV2(values=array([[ 0.34763842,  0.24879643,  0.12789202],\n",
    "       [ 0.28086119,  0.27569815,  0.18063401],\n",
    "       [ 0.26076848,  0.23892179,  0.23664738],\n",
    "       [ 0.29198961,  0.26234032,  0.16505091],\n",
    "       [ 0.34396535,  0.24206137,  0.16240774]]), indices=array([[3, 0, 5],\n",
    "       [0, 1, 4],\n",
    "       [0, 5, 1],\n",
    "       [1, 3, 5],\n",
    "       [1, 4, 3]], dtype=int32))\n",
    "```\n",
    "\n",
    "Looking just at the first row we get `[ 0.34763842,  0.24879643,  0.12789202]`, you can confirm these are the 3 largest probabilities in `a`. You'll also notice `[3, 0, 5]` are the corresponding indices."
   ]
  },
  {
   "cell_type": "code",
   "execution_count": null,
   "metadata": {
    "collapsed": true,
    "scrolled": true
   },
   "outputs": [],
   "source": [
    "### Print out the top five softmax probabilities for the predictions on the German traffic sign images found on the web. \n",
    "### Feel free to use as many code cells as needed.\n",
    "\n",
    "with tf.Session() as sess:\n",
    "    saver.restore(sess, tf.train.latest_checkpoint('.'))\n",
    "    soft_max = tf.nn.softmax(logits)\n",
    "    result = sess.run(soft_max, feed_dict={logits: result_logits})\n",
    "    values, indices = tf.nn.top_k(result, 5)\n",
    "    probs = sess.run(values)\n",
    "    predictions = sess.run(indices)\n",
    "    print(probs)\n",
    "\n",
    "    for i in range(5):\n",
    "        web_plot = plt.subplot(5,1,i+1)\n",
    "        x_axis = range(43)\n",
    "        web_plot.set_xlim([0, n_classes])\n",
    "        web_plot.bar(predictions[i], probs[i])\n",
    "        web_plot.set_title('Image ' + str(i+1))"
   ]
  },
  {
   "cell_type": "markdown",
   "metadata": {},
   "source": [
    "### Project Writeup\n",
    "\n",
    "Once you have completed the code implementation, document your results in a project writeup using this [template](https://github.com/udacity/CarND-Traffic-Sign-Classifier-Project/blob/master/writeup_template.md) as a guide. The writeup can be in a markdown or pdf file. "
   ]
  },
  {
   "cell_type": "markdown",
   "metadata": {},
   "source": [
    "> **Note**: Once you have completed all of the code implementations and successfully answered each question above, you may finalize your work by exporting the iPython Notebook as an HTML document. You can do this by using the menu above and navigating to  \\n\",\n",
    "    \"**File -> Download as -> HTML (.html)**. Include the finished document along with this notebook as your submission."
   ]
  },
  {
   "cell_type": "markdown",
   "metadata": {},
   "source": [
    "---\n",
    "\n",
    "## Step 4 (Optional): Visualize the Neural Network's State with Test Images\n",
    "\n",
    " This Section is not required to complete but acts as an additional excersise for understaning the output of a neural network's weights. While neural networks can be a great learning device they are often referred to as a black box. We can understand what the weights of a neural network look like better by plotting their feature maps. After successfully training your neural network you can see what it's feature maps look like by plotting the output of the network's weight layers in response to a test stimuli image. From these plotted feature maps, it's possible to see what characteristics of an image the network finds interesting. For a sign, maybe the inner network feature maps react with high activation to the sign's boundary outline or to the contrast in the sign's painted symbol.\n",
    "\n",
    " Provided for you below is the function code that allows you to get the visualization output of any tensorflow weight layer you want. The inputs to the function should be a stimuli image, one used during training or a new one you provided, and then the tensorflow variable name that represents the layer's state during the training process, for instance if you wanted to see what the [LeNet lab's](https://classroom.udacity.com/nanodegrees/nd013/parts/fbf77062-5703-404e-b60c-95b78b2f3f9e/modules/6df7ae49-c61c-4bb2-a23e-6527e69209ec/lessons/601ae704-1035-4287-8b11-e2c2716217ad/concepts/d4aca031-508f-4e0b-b493-e7b706120f81) feature maps looked like for it's second convolutional layer you could enter conv2 as the tf_activation variable.\n",
    "\n",
    "For an example of what feature map outputs look like, check out NVIDIA's results in their paper [End-to-End Deep Learning for Self-Driving Cars](https://devblogs.nvidia.com/parallelforall/deep-learning-self-driving-cars/) in the section Visualization of internal CNN State. NVIDIA was able to show that their network's inner weights had high activations to road boundary lines by comparing feature maps from an image with a clear path to one without. Try experimenting with a similar test to show that your trained network's weights are looking for interesting features, whether it's looking at differences in feature maps from images with or without a sign, or even what feature maps look like in a trained network vs a completely untrained one on the same sign image.\n",
    "\n",
    "<figure>\n",
    " <img src=\"visualize_cnn.png\" width=\"380\" alt=\"Combined Image\" />\n",
    " <figcaption>\n",
    " <p></p> \n",
    " <p style=\"text-align: center;\"> Your output should look something like this (above)</p> \n",
    " </figcaption>\n",
    "</figure>\n",
    " <p></p> \n"
   ]
  },
  {
   "cell_type": "code",
   "execution_count": null,
   "metadata": {
    "collapsed": true
   },
   "outputs": [],
   "source": [
    "### Visualize your network's feature maps here.\n",
    "### Feel free to use as many code cells as needed.\n",
    "\n",
    "# image_input: the test image being fed into the network to produce the feature maps\n",
    "# tf_activation: should be a tf variable name used during your training procedure that represents the calculated state of a specific weight layer\n",
    "# activation_min/max: can be used to view the activation contrast in more detail, by default matplot sets min and max to the actual min and max values of the output\n",
    "# plt_num: used to plot out multiple different weight feature map sets on the same block, just extend the plt number for each new feature map entry\n",
    "\n",
    "def outputFeatureMap(image_input, tf_activation, activation_min=-1, activation_max=-1 ,plt_num=1):\n",
    "    # Here make sure to preprocess your image_input in a way your network expects\n",
    "    # with size, normalization, ect if needed\n",
    "    # image_input =\n",
    "    # Note: x should be the same name as your network's tensorflow data placeholder variable\n",
    "    # If you get an error tf_activation is not defined it may be having trouble accessing the variable from inside a function\n",
    "    activation = tf_activation.eval(session=sess,feed_dict={x : image_input})\n",
    "    featuremaps = activation.shape[3]\n",
    "    plt.figure(plt_num, figsize=(15,15))\n",
    "    for featuremap in range(featuremaps):\n",
    "        plt.subplot(6,8, featuremap+1) # sets the number of feature maps to show on each row and column\n",
    "        plt.title('FeatureMap ' + str(featuremap)) # displays the feature map number\n",
    "        if activation_min != -1 & activation_max != -1:\n",
    "            plt.imshow(activation[0,:,:, featuremap], interpolation=\"nearest\", vmin =activation_min, vmax=activation_max, cmap=\"gray\")\n",
    "        elif activation_max != -1:\n",
    "            plt.imshow(activation[0,:,:, featuremap], interpolation=\"nearest\", vmax=activation_max, cmap=\"gray\")\n",
    "        elif activation_min !=-1:\n",
    "            plt.imshow(activation[0,:,:, featuremap], interpolation=\"nearest\", vmin=activation_min, cmap=\"gray\")\n",
    "        else:\n",
    "            plt.imshow(activation[0,:,:, featuremap], interpolation=\"nearest\", cmap=\"gray\")"
   ]
  },
  {
   "cell_type": "code",
   "execution_count": null,
   "metadata": {
    "collapsed": true
   },
   "outputs": [],
   "source": []
  }
 ],
 "metadata": {
  "anaconda-cloud": {},
  "kernelspec": {
   "display_name": "Python 3",
   "language": "python",
   "name": "python3"
  },
  "language_info": {
   "codemirror_mode": {
    "name": "ipython",
    "version": 3
   },
   "file_extension": ".py",
   "mimetype": "text/x-python",
   "name": "python",
   "nbconvert_exporter": "python",
   "pygments_lexer": "ipython3",
   "version": "3.5.2"
  },
  "widgets": {
   "state": {},
   "version": "1.1.2"
  }
 },
 "nbformat": 4,
 "nbformat_minor": 1
}
